{
 "cells": [
  {
   "cell_type": "markdown",
   "metadata": {},
   "source": [
    "# Task\n",
    "\n",
    "You are given a list containing 62 list (`data`) of EKG-Time Series (Voltages in mV). Each of the subseries has 5000 elements (is 5000 ms long). The time series overlap. Your task is to reassemble the time series into one consecutive list of 60 seconds again and store it in a file with a temporal resolution of 10 ms."
   ]
  },
  {
   "cell_type": "code",
   "execution_count": 1,
   "metadata": {},
   "outputs": [],
   "source": [
    "# %% Load the data\n",
    " \n",
    "from load_files import load_data\n",
    "data = load_data()"
   ]
  },
  {
   "cell_type": "code",
   "execution_count": 2,
   "metadata": {},
   "outputs": [
    {
     "data": {
      "text/plain": [
       "62"
      ]
     },
     "execution_count": 2,
     "metadata": {},
     "output_type": "execute_result"
    }
   ],
   "source": [
    "# Number of Lists in the List\n",
    "len(data)"
   ]
  },
  {
   "cell_type": "code",
   "execution_count": 3,
   "metadata": {},
   "outputs": [
    {
     "data": {
      "text/plain": [
       "['309', '307', '306', '304', '303']"
      ]
     },
     "execution_count": 3,
     "metadata": {},
     "output_type": "execute_result"
    }
   ],
   "source": [
    "# Example of a list / part of the time series containing the numbers as strings\n",
    "data[0][0:5]"
   ]
  },
  {
   "cell_type": "markdown",
   "metadata": {},
   "source": [
    "## Grading\n",
    "- 10 pt: one per passing the unit test of each function\n",
    "- 4 pt: storing the final sequence in a file `downsample.txt`\n",
    "- 4 pt: resampling it down to 100 Hz and describe why You did the resampling the way you did it in a `README.txt` file\n",
    "- 2 pt: reasonable comments\n",
    "- 2 pt: naming conventions\n",
    "- 2 pt: docstrings\n",
    "- 4 bonus pt: fast and efficient algorithm\n",
    "\n",
    "### Requirements\n",
    "- `.zip` file in Sakai\n",
    "- data of submission: 30.06.2023\n",
    "- one file per group: `A1_Nachname1_Nachname2.zip`\n",
    "\n",
    "### Requirements\n",
    "- `.zip` file in Sakai\n",
    "- data of submission: 30.06.2023\n",
    "- one file per group: `A1_Nachname1_Nachname2.zip`"
   ]
  },
  {
   "cell_type": "markdown",
   "metadata": {},
   "source": [
    "Starting points\n",
    "The challenge is split into various subproblems. Each subproblem can be solved with a function. If you implement all functions, You can pass the assignment even if You would fail to complete the sequence assembly.\n",
    "\n",
    "The outline of the functions is given below. You can also find a unit test for each function below.\n",
    "\n",
    "First, implement end test the following four functions. Run the unit test below, to make sure they work."
   ]
  },
  {
   "cell_type": "markdown",
   "metadata": {},
   "source": [
    "\n",
    "## Decision on further parameters\n",
    "Next, we set some further parameters, so that we all work on the same basis.\n",
    "\n",
    "Frist, we assume, that the want a `minimal_overlap` of least 10 values to be identical before we match the data. If this number would become to short, we would falsely connect parts of the data that do not belong together.\n",
    "\n",
    "If \n",
    "`minimal_overlap` was `3`, both\n",
    "\n",
    "- `ABCDEF` and\n",
    "- `ABCXYZ`\n",
    "\n",
    "could be following to\n",
    "\n",
    "- `123ABC`\n",
    "e.g.,\n",
    "\n",
    "- `123ABCDEF`\n",
    "- `123ABCXYZ`\n",
    "\n",
    "This could lead to picking the wrong fragment and lead the algorithm to stop in a dead-end.\n",
    "\n",
    "As our simple algorithm cannot differentiate what is right. We choose a large `minimal_overlap` as save-guard.\n",
    "\n",
    "We also make a copy `list_of_fragments_to_work_with` of out original data, so we do not mess with it and choose an arbitraty sequence `longest_fragment` to start the synthesis. We will use `longest_fragment` later to add the matching sequences we found."
   ]
  },
  {
   "cell_type": "code",
   "execution_count": 4,
   "metadata": {},
   "outputs": [
    {
     "name": "stdout",
     "output_type": "stream",
     "text": [
      "Selected one of the fragments as the initial segment. Now there are 62 remaining.\n"
     ]
    }
   ],
   "source": [
    "# Minimal sequence lenth for valid matches\n",
    "minimal_overlap = 10\n",
    "\n",
    "# Copy the list of fragments\n",
    "list_of_fragments_to_work_with = data[:]\n",
    "\n",
    "# start with a random fragment\n",
    "longest_fragment  = list_of_fragments_to_work_with[10]\n",
    "\n",
    "print(\"Selected one of the fragments as the initial segment. Now there are {} remaining.\".format(len(list_of_fragments_to_work_with)))\n"
   ]
  },
  {
   "cell_type": "markdown",
   "metadata": {},
   "source": [
    "## Individual Functions\n",
    "The challenge is divided into various subproblems. Each subproblem can be solved with a function. If you implement all functions, You can pass the assignment even if You would fail to complete the sequence assembly.\n",
    "\n",
    "The outline of the functions is given below. You can also find a unit test for each function below.\n",
    "\n",
    "First, implement end test the following four functions. Run the unit test below, to make sure they work."
   ]
  },
  {
   "cell_type": "code",
   "execution_count": 5,
   "metadata": {},
   "outputs": [],
   "source": [
    "def compare_beginning(long_list, shot_list, least_overlap):\n",
    "\n",
    "  \"\"\"Compares the beginning of the long_list to see if there is a overlap to the short_list. \n",
    "  Returns the number of items that overlap. With the least overlap parameter, \n",
    "  You can tweak what the minimal overlap between the strings must have. \n",
    "  If the overlap is smaller than the least required overlap, return 0.\"\"\"\n",
    "  # ...\n",
    "  \n",
    "  return overlap"
   ]
  },
  {
   "cell_type": "code",
   "execution_count": 6,
   "metadata": {},
   "outputs": [],
   "source": [
    "def compare_end(long_list, shot_list,least_overlap):\n",
    "\n",
    "  \"\"\"Compares the end of the long_list to see if there is a overlap to the short_list. \n",
    "  Returns the number of elements that overlap. If the overlap is smaller than the least required overlap, return 0\"\"\"\n",
    "  # ...\n",
    "  \n",
    "  return overlap"
   ]
  },
  {
   "cell_type": "code",
   "execution_count": 7,
   "metadata": {},
   "outputs": [],
   "source": [
    "def glue_fragments_end(long_list, short_list, size_of_overlap):\n",
    "  \"\"\"Returns a list that glues the last part of the short_list to the beginning of the long_list.\"\"\"\n",
    "  # ...\n",
    "  \n",
    "  return new_string"
   ]
  },
  {
   "cell_type": "code",
   "execution_count": 8,
   "metadata": {},
   "outputs": [],
   "source": [
    "def glue_fragments_beginning(long_list, short_list, size_of_overlap):\n",
    "  \"\"\"Returns a list that glues the first part of the short_list to the end of the long_list.\"\"\"\n",
    "  # ...\n",
    "  \n",
    "  return new_string"
   ]
  },
  {
   "cell_type": "markdown",
   "metadata": {},
   "source": [
    "## Unit Test\n",
    "The following unit test, automatically test Your functions with small examples as an input.\n",
    "\n",
    "For instance, the `test_compare_beginning_find()` is testet by finding the number overlapping letters at the beginning of `[\"Q\",\"W\",\"E\",\"R\",\"T\",\"Z\",\"U\",\"I\",\"O\",\"P\",\"A\",\"S\",\"D\",\"F\"]` and `[\"A\",\"Q\",\"W\",\"E\",\"R\",\"T\"]`. The test also passes the parameter `least_overlap=3`, so that only overlaps with at least three letters are counted.\n",
    "\n",
    "If You run the following cell after You defined the function `test_compare_beginning_find()` the following lines should be a result of the cell.\n",
    "\n",
    "```\n",
    "test_compare_beginning_find (__main__.CompareBeginningsTestCase)\n",
    "Do we find an overlap that is at least 3 at the beginning of the String? ... ok\n",
    "```\n",
    "The ok indicates, that Your code worked es expected."
   ]
  },
  {
   "cell_type": "code",
   "execution_count": 3,
   "metadata": {},
   "outputs": [
    {
     "name": "stderr",
     "output_type": "stream",
     "text": [
      "test_compare_beginning_find (__main__.CompareBeginningsTestCase)\n",
      "Do we find an overlap that is at least 3 at the beginning of the String? ... ok\n",
      "test_compare_beginning_find_but_useless (__main__.CompareBeginningsTestCase)\n",
      "Do we find if the matching search string we find contributes no additional information because of equal length? ... ok\n",
      "test_compare_beginning_find_but_useless2 (__main__.CompareBeginningsTestCase)\n",
      "Do we find if the matching search string we find contributes no additional information because it is to short? ... ok\n",
      "test_compare_beginning_no_find (__main__.CompareBeginningsTestCase)\n",
      "Do we return 0 if we do not find a match? ... ok\n",
      "test_compare_ending_find (__main__.CompareEndingsTestCase)\n",
      "Do we find an overlap that is at least 3 at the beginning of the String? ... ok\n",
      "test_compare_ending_find_but_useless (__main__.CompareEndingsTestCase)\n",
      "Do we find if the matching search string we find contributes no additional information because of equal length? ... ok\n",
      "test_compare_ending_find_but_useless2 (__main__.CompareEndingsTestCase)\n",
      "Do we find if the matching search string we find contributes no additional information because it is to short? ... ok\n",
      "test_compare_ending_no_find (__main__.CompareEndingsTestCase)\n",
      "Do we return 0 if we do not find a match? ... ok\n",
      "test_glue_to_beginning (__main__.GlueFragmentsTestCase)\n",
      "Do we get the right new string in return? ... ok\n",
      "test_glue_to_end (__main__.GlueFragmentsTestCase)\n",
      "Do we get the right new string in return? ... ok\n",
      "\n",
      "----------------------------------------------------------------------\n",
      "Ran 10 tests in 0.010s\n",
      "\n",
      "OK\n"
     ]
    },
    {
     "data": {
      "text/plain": [
       "<unittest.main.TestProgram at 0x23815b89790>"
      ]
     },
     "execution_count": 3,
     "metadata": {},
     "output_type": "execute_result"
    }
   ],
   "source": [
    "import unittest\n",
    "\n",
    "class CompareBeginningsTestCase(unittest.TestCase):\n",
    "  \"\"\"Tests for the challenge\"\"\"\n",
    "\n",
    "  def test_compare_beginning_find(self):\n",
    "    \"\"\"Do we find an overlap that is at least 3 at the beginning of the String?\"\"\"\n",
    "    overlap = compare_beginning([\"Q\",\"W\",\"E\",\"R\",\"T\",\"Z\",\"U\",\"I\",\"O\",\"P\",\"A\",\"S\",\"D\",\"F\"], [\"A\",\"Q\",\"W\",\"E\",\"R\",\"T\"],3)\n",
    "    self.assertEqual(overlap, 5)\n",
    "  \n",
    "  def test_compare_beginning_find_but_useless(self):\n",
    "    \"\"\"Do we find if the matching search string we find contributes no additional information because of equal length?\"\"\"\n",
    "    overlap = compare_beginning([\"Q\",\"W\",\"E\",\"R\",\"T\",\"Z\",\"U\",\"I\",\"O\",\"P\",\"A\",\"S\",\"D\",\"F\"], [\"Q\",\"W\",\"E\",\"R\",\"T\",\"Z\"],3)\n",
    "    self.assertEqual(overlap, 0)\n",
    "\n",
    "  def test_compare_beginning_find_but_useless2(self):\n",
    "    \"\"\"Do we find if the matching search string we find contributes no additional information because it is to short?\"\"\"\n",
    "    overlap = compare_beginning([\"Q\",\"W\",\"E\",\"R\",\"T\",\"Z\",\"U\",\"I\",\"O\",\"P\",\"A\",\"S\",\"D\",\"F\"], [\"W\",\"E\",\"R\",\"T\",\"Z\"],3)\n",
    "    self.assertEqual(overlap, 0)\n",
    "\n",
    "  def test_compare_beginning_no_find(self):\n",
    "    \"\"\"Do we return 0 if we do not find a match?\"\"\"\n",
    "    overlap = compare_beginning([\"Q\",\"W\",\"E\",\"R\",\"T\",\"Z\",\"U\",\"I\",\"O\",\"P\",\"A\",\"S\",\"D\",\"F\"], [\"A\",\"A\",\"A\",\"A\",\"A\"],5)\n",
    "    self.assertEqual(overlap, 0)\n",
    "\n",
    "class CompareEndingsTestCase(unittest.TestCase):\n",
    "  \"\"\"Tests for the challenge\"\"\"\n",
    "\n",
    "  def test_compare_ending_find(self):\n",
    "    \"\"\"Do we find an overlap that is at least 3 at the beginning of the String?\"\"\"\n",
    "    overlap = compare_end([\"Q\",\"W\",\"E\",\"R\",\"T\",\"Z\",\"U\",\"I\",\"O\",\"P\",\"A\",\"S\",\"D\",\"F\"], [\"P\",\"A\",\"S\",\"D\",\"F\",\"1\",\"22\",\"3\",\"4\",\"5\"],3)\n",
    "    self.assertEqual(overlap, 5)\n",
    "  \n",
    "  def test_compare_ending_find_but_useless(self):\n",
    "    \"\"\"Do we find if the matching search string we find contributes no additional information because of equal length?\"\"\"\n",
    "    overlap = compare_end([\"Q\",\"W\",\"E\",\"R\",\"T\",\"Z\",\"U\",\"I\",\"O\",\"P\",\"A\",\"S\",\"D\",\"F\"], [\"P\",\"A\",\"S\",\"D\",\"F\"],4)\n",
    "    self.assertEqual(overlap, 0)\n",
    "\n",
    "  def test_compare_ending_find_but_useless2(self):\n",
    "    \"\"\"Do we find if the matching search string we find contributes no additional information because it is to short?\"\"\"\n",
    "    overlap = compare_end([\"Q\",\"W\",\"E\",\"R\",\"T\",\"Z\",\"U\",\"I\",\"O\",\"P\",\"A\",\"S\",\"D\",\"F\"],[\"P\",\"A\",\"S\",\"D\"],3)\n",
    "    self.assertEqual(overlap, 0)\n",
    "\n",
    "  def test_compare_ending_no_find(self):\n",
    "    \"\"\"Do we return 0 if we do not find a match?\"\"\"\n",
    "    overlap = compare_end([\"Q\",\"W\",\"E\",\"R\",\"T\",\"Z\",\"U\",\"I\",\"O\",\"P\",\"A\",\"S\",\"D\",\"F\"], [\"P\",\"A\",\"S\",\"D\",\"F\",\"1\",\"2\",\"3\",\"4\",\"5\"],6)\n",
    "    self.assertEqual(overlap, 0)\n",
    "\n",
    "\n",
    "class GlueFragmentsTestCase(unittest.TestCase):\n",
    "  \"\"\"Tests for the challenge\"\"\"\n",
    "\n",
    "  def test_glue_to_beginning(self):\n",
    "    \"\"\"Do we get the right new string in return?\"\"\"\n",
    "\n",
    "    string = [\"A\",\"B\",\"C\",\"D\",\"E\",\"G\",\"F\"]\n",
    "    substring = [\"0\",\"1\",\"2\",\"3\",\"A\",\"B\",\"C\"]\n",
    "    size_of_overlap = 3\n",
    "\n",
    "    new_sting = glue_fragments_beginning(string, substring, size_of_overlap)\n",
    "    new_sting = self.assertEqual(new_sting, [\"0\",\"1\",\"2\",\"3\",\"A\",\"B\",\"C\",\"D\",\"E\",\"G\",\"F\"])\n",
    "\n",
    "\n",
    "  def test_glue_to_end(self):\n",
    "    \"\"\"Do we get the right new string in return?\"\"\"\n",
    "\n",
    "    string = [\"Q\",\"W\",\"E\",\"R\",\"T\",\"Z\",\"U\",\"I\",\"O\",\"P\",\"A\",\"S\",\"D\",\"F\"]\n",
    "    substring = [\"P\",\"A\",\"S\",\"D\",\"F\",\"1\",\"2\",\"3\",\"4\",\"5\",\"6\",\"7\",\"8\"]\n",
    "    size_of_overlap = 5\n",
    "\n",
    "    new_sting = glue_fragments_end(string, substring, size_of_overlap)\n",
    "    self.assertEqual(new_sting, [\"Q\",\"W\",\"E\",\"R\",\"T\",\"Z\",\"U\",\"I\",\"O\",\"P\",\"A\",\"S\",\"D\",\"F\",\"1\",\"2\",\"3\",\"4\",\"5\",\"6\",\"7\",\"8\"])\n",
    "\n",
    "unittest.main(argv=[''], verbosity=2, exit=False)"
   ]
  },
  {
   "cell_type": "code",
   "execution_count": 38,
   "metadata": {},
   "outputs": [],
   "source": []
  },
  {
   "cell_type": "markdown",
   "metadata": {},
   "source": [
    "## Executing the Code\n",
    "\n",
    "The following two cells use your functions to reassemble the time series. Depending on how clever You implemented Your functions this can take even some minutes."
   ]
  },
  {
   "cell_type": "code",
   "execution_count": 10,
   "metadata": {},
   "outputs": [],
   "source": [
    "# go through all remaining fragements and find matching patterns\n",
    "def assemble_sequence(longest_fragment, list_of_fragments_to_work_with):\n",
    "\n",
    "  length_of_reconstructed_sequence = len(longest_fragment)\n",
    "\n",
    "  while length_of_reconstructed_sequence < 59999 :\n",
    "    \n",
    "    for current_fragement in list_of_fragments_to_work_with:\n",
    "      #print(current_fragement)\n",
    "    # compare beginnings\n",
    "      found_overlap = compare_beginning(longest_fragment, current_fragement,minimal_overlap)\n",
    "      if found_overlap > 0:\n",
    "        \n",
    "        #longest_fragment =  current_fragement[0:len(current_fragement)-found_overlap] + longest_fragment\n",
    "        longest_fragment = glue_fragments_beginning(longest_fragment, current_fragement, found_overlap)\n",
    "        list_of_fragments_to_work_with.remove(current_fragement)\n",
    "\n",
    "    # compare endings\n",
    "      found_overlap = compare_end(longest_fragment, current_fragement,minimal_overlap)\n",
    "      if found_overlap > 0:\n",
    "        longest_fragment = glue_fragments_end(longest_fragment, current_fragement, found_overlap)\n",
    "        #longest_fragment = longest_fragment + current_fragement[-found_overlap:]\n",
    "        list_of_fragments_to_work_with.remove(current_fragement)\n",
    "\n",
    "    # if math, find the position and add in to the longest fragement remove the fragment from the list\n",
    "    length_of_reconstructed_sequence = len(longest_fragment)\n",
    "    print(\"The final sequence has gown to {} elements!\".format(len(longest_fragment)))\n",
    "\n",
    "  return longest_fragment"
   ]
  },
  {
   "cell_type": "code",
   "execution_count": 11,
   "metadata": {},
   "outputs": [
    {
     "name": "stdout",
     "output_type": "stream",
     "text": [
      "The final sequence has gown to 17432 elements!\n",
      "The final sequence has gown to 27507 elements!\n",
      "The final sequence has gown to 39197 elements!\n",
      "The final sequence has gown to 46241 elements!\n",
      "The final sequence has gown to 60000 elements!\n",
      "The final segment is 60000 ms long.\n",
      "Execution time: 63.94821739196777 seconds\n"
     ]
    }
   ],
   "source": [
    "import time\n",
    "\n",
    "# get the start time\n",
    "st = time.time()\n",
    "\n",
    "result = assemble_sequence(longest_fragment, list_of_fragments_to_work_with[:])\n",
    "len(result)\n",
    "\n",
    "print(\"The final segment is {} ms long.\".format(len(result)))\n",
    "\n",
    "\n",
    "# get the end time\n",
    "et = time.time()\n",
    "\n",
    "# get the execution time\n",
    "elapsed_time = et - st\n",
    "\n",
    "print('Execution time:', elapsed_time, 'seconds')"
   ]
  },
  {
   "cell_type": "markdown",
   "metadata": {},
   "source": [
    "## Down-sampling and Storing\n",
    "\n",
    "Down-sample the list in `result` to a resolution of 100 Hz and store it in a text file. You have to transform the strings in the list to numerics first."
   ]
  },
  {
   "cell_type": "markdown",
   "metadata": {},
   "source": []
  },
  {
   "cell_type": "markdown",
   "metadata": {},
   "source": [
    "# ENTFERNEN - MUSTERLÖSUNG"
   ]
  },
  {
   "cell_type": "code",
   "execution_count": 9,
   "metadata": {},
   "outputs": [],
   "source": [
    "\n",
    "def compare_beginning(string, substring, least_overlap):\n",
    "\n",
    "  \"\"\"Compares the beginning of the string to see if there is a overlap to the substring. Returns the number of nukleotides that overlap. With the least overlap parameter, You can tweak what the minimal overlap betrween the strings must be.\"\"\"\n",
    "  overlap = 0\n",
    "\n",
    "  # compare the beginning of the string to the substring\n",
    "\n",
    "  if string[0:len(substring)] == substring:\n",
    "    its_a_match = True\n",
    "      # this is useless as we cannot add anything to the beginning\n",
    "    #print(\"Have the same length and are indentical.\")\n",
    "  else:\n",
    "    for length_to_compare in range(len(substring),least_overlap,-1):\n",
    "        #print(length_to_compare)\n",
    "        \n",
    "      last_of_substring = substring[-length_to_compare:]\n",
    "      first_of_string = string[0:length_to_compare]\n",
    "\n",
    "      #print(\"Comparing {} nukleotides: {} - {}\".format(length_to_compare,first_of_string,last_of_substring))\n",
    "\n",
    "\n",
    "      if first_of_string == last_of_substring:\n",
    "        its_a_match = True\n",
    "        #print(\"The first {} nukleotides of the string are identical to the last of the substring!\".format(length_to_compare))\n",
    "        overlap = length_to_compare\n",
    "        break\n",
    "  return overlap\n",
    "\n",
    "def compare_end(string, substring,least_overlap):\n",
    "\n",
    "  \"\"\"Compares the end of the string to see if there is a overlap to the substring. Returns the number of nukleotides that overlap.\"\"\"\n",
    "\n",
    "  overlap = 0\n",
    "\n",
    "  # compare the beginning of the string to the substring\n",
    "\n",
    "  if string[-len(substring):] == substring:\n",
    "    its_a_match = True\n",
    "      # this is useless as we cannot add anything to the beginning\n",
    "    #print(\"Have the same length and are identical\")\n",
    "  else:\n",
    "    for length_to_compare in range(len(substring),least_overlap,-1):\n",
    "        \n",
    "      first_of_substring = substring[0:length_to_compare]\n",
    "      last_of_string = string[-length_to_compare:]\n",
    "\n",
    "\n",
    "      #print(\"Comparing {} nukleotides: {} - {}\".format(length_to_compare,first_of_substring,last_of_string))\n",
    "\n",
    "      if first_of_substring == last_of_string:\n",
    "        its_a_match = True\n",
    "        #print(\"The last {} nukleotides of the string are identical to the first of the substring!\".format(length_to_compare))\n",
    "        overlap = length_to_compare\n",
    "        break\n",
    "  return(overlap)\n",
    "\n",
    "def glue_fragments_end(string, substring, size_of_overlap):\n",
    "  \"\"\"Returns a String that glues the first part of the substring to the beginning of the string.\"\"\"\n",
    "  new_string = string + substring[size_of_overlap:]\n",
    "  return new_string\n",
    "\n",
    "def glue_fragments_beginning(string, substring, size_of_overlap):\n",
    "  \"\"\"Returns a String that glues the first part of the substring to the end of the string.\"\"\"\n",
    "  new_string =  substring[0:len(substring)-size_of_overlap] + string\n",
    "  return new_string"
   ]
  },
  {
   "cell_type": "code",
   "execution_count": 19,
   "metadata": {},
   "outputs": [],
   "source": [
    "import seaborn as sns\n",
    "import pandas as pd\n",
    "\n",
    "df = pd.DataFrame({\"Voltage\" : result})\n",
    "df[\"Voltage\"] = df[\"Voltage\"].astype(\"float\")\n",
    "df[\"Voltage\"].head(1000).plot()"
   ]
  },
  {
   "cell_type": "code",
   "execution_count": 27,
   "metadata": {},
   "outputs": [],
   "source": []
  },
  {
   "cell_type": "code",
   "execution_count": 29,
   "metadata": {},
   "outputs": [
    {
     "data": {
      "text/plain": [
       "<AxesSubplot:>"
      ]
     },
     "execution_count": 29,
     "metadata": {},
     "output_type": "execute_result"
    },
    {
     "data": {
      "image/png": "[encoded data removed]",
      "text/plain": [
       "<Figure size 432x288 with 1 Axes>"
      ]
     },
     "metadata": {
      "needs_background": "light"
     },
     "output_type": "display_data"
    }
   ],
   "source": []
  },
  {
   "cell_type": "code",
   "execution_count": null,
   "metadata": {},
   "outputs": [],
   "source": []
  }
 ],
 "metadata": {
  "kernelspec": {
   "display_name": "Python 3.8.8 ('base')",
   "language": "python",
   "name": "python3"
  },
  "language_info": {
   "codemirror_mode": {
    "name": "ipython",
    "version": 3
   },
   "file_extension": ".py",
   "mimetype": "text/x-python",
   "name": "python",
   "nbconvert_exporter": "python",
   "pygments_lexer": "ipython3",
   "version": "3.8.8"
  },
  "orig_nbformat": 4,
  "vscode": {
   "interpreter": {
    "hash": "91b5df634ae01e052c095f84ce6ac57f1bf815a7c386b368c11e7051e1049005"
   }
  }
 },
 "nbformat": 4,
 "nbformat_minor": 2
}
