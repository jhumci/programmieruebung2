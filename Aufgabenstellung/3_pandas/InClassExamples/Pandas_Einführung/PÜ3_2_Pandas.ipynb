{
 "cells": [
  {
   "cell_type": "markdown",
   "metadata": {},
   "source": [
    "<table style=\"width: 100%\">\n",
    "    <tr style=\"background: #ffffff\">\n",
    "        <td style=\"width: 100%\">\n",
    "            <div style=\"text-align:right; width: 100%; text-align:right\"><font style=\"font-size:38px\"><b>Übung 3.2: Pandas</b></font></div>\n",
    "            <div style=\"padding-top:0px; width: 100%; text-align:right\"><font size=\"4\"><b>Programmierübung 2</b></font></div>\n",
    "        </td>\n",
    "    </tr>\n",
    "</table>\n",
    "\n",
    "\n",
    "# Loading, displaying and saving data\n",
    "## Aim of this unit\n",
    "Learn how to work with typical data formats in the field of medical, health and sports technology. Typical data formats are e.g. .csv and .txt files. In order to work with and process the data in the following exercises, the following skills must first be learned:\n",
    "1. loading data + different data formats \n",
    "     - Numpy arrays\n",
    "     - Pandas dataframes\n",
    "     - Lists\n",
    "2. Working with pandas\n",
    "     -  Structure of dataframes\n",
    "     -  Storing and Loading CSV-Files\n",
    "     -  Advanced pandas\n",
    "     -  Group by\n",
    "     -  Operations on columns\n",
    "     -  Creating new columns\n",
    "     -  Simple analysis\n",
    "3. Graphing data\n",
    "     - Matplotlib\n",
    "4. Tasks:\n",
    "      1. Pandas\n",
    "      2. Matplotlib\n",
    "      3. Pandas Visualization\n"
   ]
  },
  {
   "cell_type": "markdown",
   "metadata": {},
   "source": [
    "<table style=\"width: 100%\">\n",
    "    <tr style=\"background: #ffffff\">\n",
    "        <td style=\"width: 100%\">\n",
    "            <div style=\"text-align:right; width: 100%; text-align:right\"><font style=\"font-size:38px\"><b>2. Working with Pandas</b></font></div>\n",
    "            <div style=\"padding-top:0px; width: 100%; text-align:right\"><font size=\"4\"><b>Programmierübung 2</b></font></div>\n",
    "        </td>\n",
    "    </tr>\n",
    "</table>\n",
    "\n",
    "# Working with pandas\n",
    "  -  Structure of DataFrames\n",
    "  -  Storing and Loading CSV-Files\n",
    "  -  Advanced pandas\n",
    "  -  Group by\n",
    "  -  Operations on columns\n",
    "  -  Creating new columns\n",
    "  -  Simple analysis"
   ]
  },
  {
   "cell_type": "markdown",
   "metadata": {},
   "source": [
    "## Stucture of dataframes\n",
    "\n",
    "Pandas is an open-source library that is built on top of NumPy library. It is a Python package that offers various data structures and operations for manipulating numerical data and time series. It is mainly popular for importing and analyzing data much easier. [source](https://www.geeksforgeeks.org/pandas-tutorial/?ref=lbp)\n",
    "\n",
    "Pandas generally provide two data structures for manipulating data, They are: \n",
    "\n",
    "- Series\n",
    "- DataFrame"
   ]
  },
  {
   "cell_type": "markdown",
   "metadata": {},
   "source": [
    "### Series\n",
    "\n",
    "A Pandas Series is a one-dimensional labeled array capable of holding data of any type (integer, string, float, python objects, etc.). The axis labels are collectively called indexes. Pandas Series is nothing but a column in an excel sheet. Labels need not be unique but must be a hashable type. The object supports both integer and label-based indexing and provides a host of methods for performing operations involving the index."
   ]
  },
  {
   "cell_type": "code",
   "execution_count": 1,
   "metadata": {},
   "outputs": [
    {
     "name": "stdout",
     "output_type": "stream",
     "text": [
      "Series([], dtype: object)\n",
      "0    A\n",
      "1    C\n",
      "2    G\n",
      "3    T\n",
      "4    A\n",
      "dtype: object\n"
     ]
    }
   ],
   "source": [
    "# import libraries if neccesary \n",
    "import pandas as pd\n",
    "import numpy as np\n",
    "\n",
    "# Creating empty series\n",
    "ser = pd.Series()\n",
    "   \n",
    "print(ser)\n",
    " \n",
    "# simple array\n",
    "data = np.array(['A', 'C', 'G', 'T', 'A'])\n",
    "\n",
    "# Creating a series from an array   \n",
    "ser = pd.Series(data)\n",
    "print(ser)"
   ]
  },
  {
   "cell_type": "markdown",
   "metadata": {},
   "source": [
    "You see two columns of the series. Left, the index is counting up starting at 0. On the right the values are stored.\n",
    "\n",
    "While the values are not all unique:"
   ]
  },
  {
   "cell_type": "code",
   "execution_count": 2,
   "metadata": {},
   "outputs": [
    {
     "data": {
      "text/plain": [
       "array(['A', 'C', 'G', 'T'], dtype=object)"
      ]
     },
     "execution_count": 2,
     "metadata": {},
     "output_type": "execute_result"
    }
   ],
   "source": [
    "ser.unique()"
   ]
  },
  {
   "cell_type": "markdown",
   "metadata": {},
   "source": [
    "Each value in the index of the series is unique, as is a number in the range from 0 to 5."
   ]
  },
  {
   "cell_type": "code",
   "execution_count": 3,
   "metadata": {},
   "outputs": [
    {
     "data": {
      "text/plain": [
       "RangeIndex(start=0, stop=5, step=1)"
      ]
     },
     "execution_count": 3,
     "metadata": {},
     "output_type": "execute_result"
    }
   ],
   "source": [
    "ser.index.unique()"
   ]
  },
  {
   "cell_type": "markdown",
   "metadata": {},
   "source": [
    "### DataFrame\n",
    "Pandas DataFrame is a two-dimensional size-mutable, potentially heterogeneous tabular data structure with labeled axes (rows and columns). A Data frame is a two-dimensional data structure, i.e., data is aligned in a tabular fashion in rows and columns. Pandas DataFrame consists of three principal components, the data, rows, and columns.\n",
    "\n",
    "![](https://media.geeksforgeeks.org/wp-content/uploads/20200225170602/pandas-dataframe.png)"
   ]
  },
  {
   "cell_type": "markdown",
   "metadata": {},
   "source": [
    "Data frames can be created from dictionaries. The keys are the variable names, while the column data is passed as list in the dictionaries' value.\n",
    "\n",
    "A dataframe is basically a collection of series (here, one for age and one for name), where a single observation shares the same index."
   ]
  },
  {
   "cell_type": "code",
   "execution_count": 4,
   "metadata": {},
   "outputs": [
    {
     "name": "stdout",
     "output_type": "stream",
     "text": [
      "    Name  Age\n",
      "0    Tom   20\n",
      "1   nick   21\n",
      "2  krish   19\n",
      "3   jack   18\n"
     ]
    }
   ],
   "source": [
    "# Python code demonstrate creating \n",
    "# DataFrame from dict ndarray / lists \n",
    "# By default addresses.\n",
    " \n",
    "import pandas as pd\n",
    " \n",
    "# initialise data of lists.\n",
    "data = {'Name':['Tom', 'nick', 'krish', 'jack'],\n",
    "        'Age':[20, 21, 19, 18]}\n",
    " \n",
    "# Create DataFrame\n",
    "df = pd.DataFrame(data)\n",
    " \n",
    "# Print the output.\n",
    "print(df)"
   ]
  },
  {
   "cell_type": "markdown",
   "metadata": {},
   "source": [
    "A convinient way to print data frame ist the ```head()``` fuction. By default it prints the first five rows of a data frame, so You can get a first impression of the columns and what is in them. Similarly, there is the ```tail()```function."
   ]
  },
  {
   "cell_type": "code",
   "execution_count": 5,
   "metadata": {},
   "outputs": [
    {
     "data": {
      "text/html": [
       "<div>\n",
       "<style scoped>\n",
       "    .dataframe tbody tr th:only-of-type {\n",
       "        vertical-align: middle;\n",
       "    }\n",
       "\n",
       "    .dataframe tbody tr th {\n",
       "        vertical-align: top;\n",
       "    }\n",
       "\n",
       "    .dataframe thead th {\n",
       "        text-align: right;\n",
       "    }\n",
       "</style>\n",
       "<table border=\"1\" class=\"dataframe\">\n",
       "  <thead>\n",
       "    <tr style=\"text-align: right;\">\n",
       "      <th></th>\n",
       "      <th>Name</th>\n",
       "      <th>Age</th>\n",
       "    </tr>\n",
       "  </thead>\n",
       "  <tbody>\n",
       "    <tr>\n",
       "      <th>0</th>\n",
       "      <td>Tom</td>\n",
       "      <td>20</td>\n",
       "    </tr>\n",
       "    <tr>\n",
       "      <th>1</th>\n",
       "      <td>nick</td>\n",
       "      <td>21</td>\n",
       "    </tr>\n",
       "    <tr>\n",
       "      <th>2</th>\n",
       "      <td>krish</td>\n",
       "      <td>19</td>\n",
       "    </tr>\n",
       "    <tr>\n",
       "      <th>3</th>\n",
       "      <td>jack</td>\n",
       "      <td>18</td>\n",
       "    </tr>\n",
       "  </tbody>\n",
       "</table>\n",
       "</div>"
      ],
      "text/plain": [
       "    Name  Age\n",
       "0    Tom   20\n",
       "1   nick   21\n",
       "2  krish   19\n",
       "3   jack   18"
      ]
     },
     "execution_count": 5,
     "metadata": {},
     "output_type": "execute_result"
    }
   ],
   "source": [
    "df.head()"
   ]
  },
  {
   "cell_type": "markdown",
   "metadata": {},
   "source": []
  },
  {
   "cell_type": "markdown",
   "metadata": {},
   "source": [
    "✍️ **Task** \n",
    "\n",
    "Try out the head and tail function with different parameters."
   ]
  },
  {
   "cell_type": "markdown",
   "metadata": {},
   "source": []
  },
  {
   "cell_type": "code",
   "execution_count": null,
   "metadata": {},
   "outputs": [],
   "source": []
  },
  {
   "cell_type": "code",
   "execution_count": 6,
   "metadata": {},
   "outputs": [
    {
     "data": {
      "text/html": [
       "<div>\n",
       "<style scoped>\n",
       "    .dataframe tbody tr th:only-of-type {\n",
       "        vertical-align: middle;\n",
       "    }\n",
       "\n",
       "    .dataframe tbody tr th {\n",
       "        vertical-align: top;\n",
       "    }\n",
       "\n",
       "    .dataframe thead th {\n",
       "        text-align: right;\n",
       "    }\n",
       "</style>\n",
       "<table border=\"1\" class=\"dataframe\">\n",
       "  <thead>\n",
       "    <tr style=\"text-align: right;\">\n",
       "      <th></th>\n",
       "      <th>Name</th>\n",
       "      <th>Age</th>\n",
       "    </tr>\n",
       "  </thead>\n",
       "  <tbody>\n",
       "    <tr>\n",
       "      <th>2</th>\n",
       "      <td>krish</td>\n",
       "      <td>19</td>\n",
       "    </tr>\n",
       "    <tr>\n",
       "      <th>3</th>\n",
       "      <td>jack</td>\n",
       "      <td>18</td>\n",
       "    </tr>\n",
       "  </tbody>\n",
       "</table>\n",
       "</div>"
      ],
      "text/plain": [
       "    Name  Age\n",
       "2  krish   19\n",
       "3   jack   18"
      ]
     },
     "execution_count": 6,
     "metadata": {},
     "output_type": "execute_result"
    }
   ],
   "source": [
    "#@title ❓ Click `Show code` in the code cell to show the solution. { display-mode: \"form\" }\n",
    "\n",
    "df.tail(2)"
   ]
  },
  {
   "cell_type": "markdown",
   "metadata": {},
   "source": [
    "✍️ **Task**\n",
    "\n",
    "Store the example data from the following lecture results in a DataFrame.\n",
    "\n",
    "```\n",
    "data = {\"gender\": [\"Male\", \"Female\", \"Female\", \"Female\", \"Male\"],\n",
    "        \"education\" : [\"M.Sc.\", \"B.Sc.\", \"B.Sc.\", \"PhD\", \"none\"],\n",
    "        \"body_temperature_celsius\" : [37.85, 39.85, 38.85, 36.85, 37.85],\n",
    "        \"points_in_exam\" : [0, 100, 80, 80, 40]}\n",
    "```\n",
    "\n",
    "See in the example above, how You can store the data in a dictionary first and convert the dictionary to a dataframe:"
   ]
  },
  {
   "cell_type": "code",
   "execution_count": 7,
   "metadata": {},
   "outputs": [
    {
     "name": "stdout",
     "output_type": "stream",
     "text": [
      "   Gender Education  Body_temperature_celsius  points_in_exam\n",
      "0    Male     M.Sc.                     37.85               0\n",
      "1  Female     B.Sc.                     39.85             100\n",
      "2  Female     B.Sc.                     38.85              80\n",
      "3  Female       PhD                     36.85              80\n",
      "4    Male      none                     37.85              40\n"
     ]
    }
   ],
   "source": [
    "data = { \"Gender\" : [\"Male\", \"Female\", \"Female\", \"Female\", \"Male\"],\n",
    "\"Education\" : [\"M.Sc.\", \"B.Sc.\", \"B.Sc.\", \"PhD\", \"none\"],\n",
    "\"Body_temperature_celsius\" : [37.85, 39.85, 38.85, 36.85, 37.85], \n",
    "\"points_in_exam\" : [0, 100, 80, 80, 40]}\n",
    "\n",
    "# Create DataFrame\n",
    "df = pd.DataFrame(data)\n",
    " \n",
    "# Print the output.\n",
    "print(df)"
   ]
  },
  {
   "cell_type": "markdown",
   "metadata": {},
   "source": [
    "#### Storing and Loading CSV-Files\n",
    "\n",
    "You will often get tabular data as csv-files. You will also want to store Your tables, after You edited them in Python.\n",
    "\n",
    "You can use the following pandas-functions to  do this:\n",
    "\n",
    "- `<data_frame_name>.to_csv(\"<file_path_and_name.csv>\")>` stores an existing dataframe with the name `data_frame_name` in a file. You can also pass a lot of additional [parameters](https://pandas.pydata.org/docs/reference/api/pandas.DataFrame.to_csv.html), e.g, the kind of separator You want to use.  \n",
    "\n",
    "- `<data_frame_name> = pd.read_csv(\"<file_path_and_name.csv>\")` creates a new dataframe by loading a file from Your file system. I also has a lot of optional [parameters](https://pandas.pydata.org/docs/reference/api/pandas.read_csv.html), that allows You to open different types of CSV-files."
   ]
  },
  {
   "cell_type": "code",
   "execution_count": 8,
   "metadata": {},
   "outputs": [],
   "source": [
    "# Loading pandas\n",
    "import pandas as pd\n",
    "\n",
    "# Creating a dictionary with the data\n",
    "data = { \"Gender\" : [\"Male\", \"Female\", \"Female\", \"Female\", \"Male\"],\n",
    "\"Education\" : [\"M.Sc.\", \"B.Sc.\", \"B.Sc.\", \"PhD\", \"none\"],\n",
    "\"Body_temperature_celsius\" : [37.85, 39.85, 38.85, 36.85, 37.85], \n",
    "\"points_in_exam\" : [0, 100, 80, 80, 40]}\n",
    "\n",
    "# Create DataFrame from the dictionary\n",
    "df = pd.DataFrame(data)"
   ]
  },
  {
   "cell_type": "code",
   "execution_count": 9,
   "metadata": {},
   "outputs": [],
   "source": [
    "# Stores the a dataframe as a file with a \";\"\" as separator\n",
    "df.to_csv(\"Data/data.csv\", sep =\";\")"
   ]
  },
  {
   "cell_type": "code",
   "execution_count": 10,
   "metadata": {},
   "outputs": [
    {
     "data": {
      "text/html": [
       "<div>\n",
       "<style scoped>\n",
       "    .dataframe tbody tr th:only-of-type {\n",
       "        vertical-align: middle;\n",
       "    }\n",
       "\n",
       "    .dataframe tbody tr th {\n",
       "        vertical-align: top;\n",
       "    }\n",
       "\n",
       "    .dataframe thead th {\n",
       "        text-align: right;\n",
       "    }\n",
       "</style>\n",
       "<table border=\"1\" class=\"dataframe\">\n",
       "  <thead>\n",
       "    <tr style=\"text-align: right;\">\n",
       "      <th></th>\n",
       "      <th>Unnamed: 0</th>\n",
       "      <th>Gender</th>\n",
       "      <th>Education</th>\n",
       "      <th>Body_temperature_celsius</th>\n",
       "      <th>points_in_exam</th>\n",
       "    </tr>\n",
       "  </thead>\n",
       "  <tbody>\n",
       "    <tr>\n",
       "      <th>0</th>\n",
       "      <td>0</td>\n",
       "      <td>Male</td>\n",
       "      <td>M.Sc.</td>\n",
       "      <td>37.85</td>\n",
       "      <td>0</td>\n",
       "    </tr>\n",
       "    <tr>\n",
       "      <th>1</th>\n",
       "      <td>1</td>\n",
       "      <td>Female</td>\n",
       "      <td>B.Sc.</td>\n",
       "      <td>39.85</td>\n",
       "      <td>100</td>\n",
       "    </tr>\n",
       "    <tr>\n",
       "      <th>2</th>\n",
       "      <td>2</td>\n",
       "      <td>Female</td>\n",
       "      <td>B.Sc.</td>\n",
       "      <td>38.85</td>\n",
       "      <td>80</td>\n",
       "    </tr>\n",
       "    <tr>\n",
       "      <th>3</th>\n",
       "      <td>3</td>\n",
       "      <td>Female</td>\n",
       "      <td>PhD</td>\n",
       "      <td>36.85</td>\n",
       "      <td>80</td>\n",
       "    </tr>\n",
       "    <tr>\n",
       "      <th>4</th>\n",
       "      <td>4</td>\n",
       "      <td>Male</td>\n",
       "      <td>none</td>\n",
       "      <td>37.85</td>\n",
       "      <td>40</td>\n",
       "    </tr>\n",
       "  </tbody>\n",
       "</table>\n",
       "</div>"
      ],
      "text/plain": [
       "   Unnamed: 0  Gender Education  Body_temperature_celsius  points_in_exam\n",
       "0           0    Male     M.Sc.                     37.85               0\n",
       "1           1  Female     B.Sc.                     39.85             100\n",
       "2           2  Female     B.Sc.                     38.85              80\n",
       "3           3  Female       PhD                     36.85              80\n",
       "4           4    Male      none                     37.85              40"
      ]
     },
     "execution_count": 10,
     "metadata": {},
     "output_type": "execute_result"
    }
   ],
   "source": [
    "# Tries to create a Dataframe with the default separator (\",\")\n",
    "df1 = pd.read_csv(\"Data/data.csv\", sep = \";\")\n",
    "df1"
   ]
  },
  {
   "cell_type": "markdown",
   "metadata": {},
   "source": [
    "✍️ **Task**\n",
    "\n",
    "As You can see, the example before has a faulty result: Only one column has be created that holds all the information. The reason is, that when reading the file, Panda by default looked for a `,` to end the columns. As there was none in the CSV-File, everything was put in the first column.\n",
    "\n",
    "\n",
    "![image.png](data:image/png;base64,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)\n",
    "\n",
    "\n"
   ]
  },
  {
   "cell_type": "markdown",
   "metadata": {},
   "source": [
    "To fix this, You could replace all `,` by `;` in the CSV-file. The more convenient way, however, is the call the `pd.read_csv()` function with optional [parameters](https://pandas.pydata.org/docs/reference/api/pandas.read_csv.html).\n",
    "Select an optional parameters, to load the data correctly. \n",
    "\n",
    "- *Hint:*\n",
    "\n",
    "Look either at the link on how to change the default seperator or look in the code above how we created the CSV in the first place. The notation for the parameter in `.read_csv()` and `.to_csv()` are identical.\n",
    "\n",
    "```\n",
    "df2 = pd.read_csv(\"data.csv\", <optional_paramters>)\n",
    "df2\n",
    "```"
   ]
  },
  {
   "cell_type": "code",
   "execution_count": null,
   "metadata": {},
   "outputs": [],
   "source": [
    "\n"
   ]
  },
  {
   "cell_type": "code",
   "execution_count": 11,
   "metadata": {},
   "outputs": [
    {
     "data": {
      "text/html": [
       "<div>\n",
       "<style scoped>\n",
       "    .dataframe tbody tr th:only-of-type {\n",
       "        vertical-align: middle;\n",
       "    }\n",
       "\n",
       "    .dataframe tbody tr th {\n",
       "        vertical-align: top;\n",
       "    }\n",
       "\n",
       "    .dataframe thead th {\n",
       "        text-align: right;\n",
       "    }\n",
       "</style>\n",
       "<table border=\"1\" class=\"dataframe\">\n",
       "  <thead>\n",
       "    <tr style=\"text-align: right;\">\n",
       "      <th></th>\n",
       "      <th>Unnamed: 0</th>\n",
       "      <th>Gender</th>\n",
       "      <th>Education</th>\n",
       "      <th>Body_temperature_celsius</th>\n",
       "      <th>points_in_exam</th>\n",
       "    </tr>\n",
       "  </thead>\n",
       "  <tbody>\n",
       "    <tr>\n",
       "      <th>0</th>\n",
       "      <td>0</td>\n",
       "      <td>Male</td>\n",
       "      <td>M.Sc.</td>\n",
       "      <td>37.85</td>\n",
       "      <td>0</td>\n",
       "    </tr>\n",
       "    <tr>\n",
       "      <th>1</th>\n",
       "      <td>1</td>\n",
       "      <td>Female</td>\n",
       "      <td>B.Sc.</td>\n",
       "      <td>39.85</td>\n",
       "      <td>100</td>\n",
       "    </tr>\n",
       "    <tr>\n",
       "      <th>2</th>\n",
       "      <td>2</td>\n",
       "      <td>Female</td>\n",
       "      <td>B.Sc.</td>\n",
       "      <td>38.85</td>\n",
       "      <td>80</td>\n",
       "    </tr>\n",
       "    <tr>\n",
       "      <th>3</th>\n",
       "      <td>3</td>\n",
       "      <td>Female</td>\n",
       "      <td>PhD</td>\n",
       "      <td>36.85</td>\n",
       "      <td>80</td>\n",
       "    </tr>\n",
       "    <tr>\n",
       "      <th>4</th>\n",
       "      <td>4</td>\n",
       "      <td>Male</td>\n",
       "      <td>none</td>\n",
       "      <td>37.85</td>\n",
       "      <td>40</td>\n",
       "    </tr>\n",
       "  </tbody>\n",
       "</table>\n",
       "</div>"
      ],
      "text/plain": [
       "   Unnamed: 0  Gender Education  Body_temperature_celsius  points_in_exam\n",
       "0           0    Male     M.Sc.                     37.85               0\n",
       "1           1  Female     B.Sc.                     39.85             100\n",
       "2           2  Female     B.Sc.                     38.85              80\n",
       "3           3  Female       PhD                     36.85              80\n",
       "4           4    Male      none                     37.85              40"
      ]
     },
     "execution_count": 11,
     "metadata": {},
     "output_type": "execute_result"
    }
   ],
   "source": [
    "#@title ❓ Click `Show code` in the code cell to show the solution. { display-mode: \"form\" }\n",
    "\n",
    "df1 = pd.read_csv(\"Data/data.csv\", sep =\";\")\n",
    "df1"
   ]
  },
  {
   "cell_type": "markdown",
   "metadata": {},
   "source": [
    "# 1.2 Advanced pandas\n",
    "\n",
    "In the following, we use pandas to perform simple data analysis task, as we would do with MS Excel.\n",
    "\n",
    "\n",
    "✍️ **Task**\n",
    "\n",
    "Test the following functions on the DataFrame:\n",
    "  - ```mode()```\n",
    "  - ```median()```\n",
    "  - ```mean()```\n",
    "  - ```describe()```"
   ]
  },
  {
   "cell_type": "code",
   "execution_count": 12,
   "metadata": {},
   "outputs": [
    {
     "name": "stdout",
     "output_type": "stream",
     "text": [
      "   Gender Education  Body_temperature_celsius  points_in_exam\n",
      "0    Male     M.Sc.                     37.85               0\n",
      "1  Female     B.Sc.                     39.85             100\n",
      "2  Female     B.Sc.                     38.85              80\n",
      "3  Female       PhD                     36.85              80\n",
      "4    Male      none                     37.85              40\n"
     ]
    }
   ],
   "source": [
    "import pandas as pd\n",
    "data = { \"Gender\" : [\"Male\", \"Female\", \"Female\", \"Female\", \"Male\"],\n",
    "\"Education\" : [\"M.Sc.\", \"B.Sc.\", \"B.Sc.\", \"PhD\", \"none\"],\n",
    "\"Body_temperature_celsius\" : [37.85, 39.85, 38.85, 36.85, 37.85], \n",
    "\"points_in_exam\" : [0, 100, 80, 80, 40]}\n",
    "\n",
    "# Create DataFrame\n",
    "df = pd.DataFrame(data)\n",
    " \n",
    "# Print the output.\n",
    "print(df)"
   ]
  },
  {
   "cell_type": "code",
   "execution_count": 13,
   "metadata": {},
   "outputs": [
    {
     "data": {
      "text/plain": [
       "Body_temperature_celsius    38.25\n",
       "points_in_exam              60.00\n",
       "dtype: float64"
      ]
     },
     "execution_count": 13,
     "metadata": {},
     "output_type": "execute_result"
    }
   ],
   "source": [
    "#@title ❓ Click `Show code` in the code cell to show the solution. { display-mode: \"form\" }\n",
    "\n",
    "df.mean(numeric_only=True)"
   ]
  },
  {
   "cell_type": "code",
   "execution_count": 14,
   "metadata": {},
   "outputs": [
    {
     "ename": "TypeError",
     "evalue": "Cannot convert [['Male' 'Female' 'Female' 'Female' 'Male']\n ['M.Sc.' 'B.Sc.' 'B.Sc.' 'PhD' 'none']] to numeric",
     "output_type": "error",
     "traceback": [
      "\u001b[1;31m---------------------------------------------------------------------------\u001b[0m",
      "\u001b[1;31mTypeError\u001b[0m                                 Traceback (most recent call last)",
      "Cell \u001b[1;32mIn[14], line 3\u001b[0m\n\u001b[0;32m      1\u001b[0m \u001b[38;5;66;03m#@title ❓ Click `Show code` in the code cell to show the solution. { display-mode: \"form\" }\u001b[39;00m\n\u001b[1;32m----> 3\u001b[0m \u001b[43mdf\u001b[49m\u001b[38;5;241;43m.\u001b[39;49m\u001b[43mmedian\u001b[49m\u001b[43m(\u001b[49m\u001b[43m)\u001b[49m\n",
      "File \u001b[1;32mc:\\code\\programmieruebung2\\.venv\\Lib\\site-packages\\pandas\\core\\frame.py:11679\u001b[0m, in \u001b[0;36mDataFrame.median\u001b[1;34m(self, axis, skipna, numeric_only, **kwargs)\u001b[0m\n\u001b[0;32m  11671\u001b[0m \u001b[38;5;129m@doc\u001b[39m(make_doc(\u001b[38;5;124m\"\u001b[39m\u001b[38;5;124mmedian\u001b[39m\u001b[38;5;124m\"\u001b[39m, ndim\u001b[38;5;241m=\u001b[39m\u001b[38;5;241m2\u001b[39m))\n\u001b[0;32m  11672\u001b[0m \u001b[38;5;28;01mdef\u001b[39;00m \u001b[38;5;21mmedian\u001b[39m(\n\u001b[0;32m  11673\u001b[0m     \u001b[38;5;28mself\u001b[39m,\n\u001b[1;32m   (...)\u001b[0m\n\u001b[0;32m  11677\u001b[0m     \u001b[38;5;241m*\u001b[39m\u001b[38;5;241m*\u001b[39mkwargs,\n\u001b[0;32m  11678\u001b[0m ):\n\u001b[1;32m> 11679\u001b[0m     result \u001b[38;5;241m=\u001b[39m \u001b[38;5;28;43msuper\u001b[39;49m\u001b[43m(\u001b[49m\u001b[43m)\u001b[49m\u001b[38;5;241;43m.\u001b[39;49m\u001b[43mmedian\u001b[49m\u001b[43m(\u001b[49m\u001b[43maxis\u001b[49m\u001b[43m,\u001b[49m\u001b[43m \u001b[49m\u001b[43mskipna\u001b[49m\u001b[43m,\u001b[49m\u001b[43m \u001b[49m\u001b[43mnumeric_only\u001b[49m\u001b[43m,\u001b[49m\u001b[43m \u001b[49m\u001b[38;5;241;43m*\u001b[39;49m\u001b[38;5;241;43m*\u001b[39;49m\u001b[43mkwargs\u001b[49m\u001b[43m)\u001b[49m\n\u001b[0;32m  11680\u001b[0m     \u001b[38;5;28;01mif\u001b[39;00m \u001b[38;5;28misinstance\u001b[39m(result, Series):\n\u001b[0;32m  11681\u001b[0m         result \u001b[38;5;241m=\u001b[39m result\u001b[38;5;241m.\u001b[39m__finalize__(\u001b[38;5;28mself\u001b[39m, method\u001b[38;5;241m=\u001b[39m\u001b[38;5;124m\"\u001b[39m\u001b[38;5;124mmedian\u001b[39m\u001b[38;5;124m\"\u001b[39m)\n",
      "File \u001b[1;32mc:\\code\\programmieruebung2\\.venv\\Lib\\site-packages\\pandas\\core\\generic.py:12424\u001b[0m, in \u001b[0;36mNDFrame.median\u001b[1;34m(self, axis, skipna, numeric_only, **kwargs)\u001b[0m\n\u001b[0;32m  12417\u001b[0m \u001b[38;5;28;01mdef\u001b[39;00m \u001b[38;5;21mmedian\u001b[39m(\n\u001b[0;32m  12418\u001b[0m     \u001b[38;5;28mself\u001b[39m,\n\u001b[0;32m  12419\u001b[0m     axis: Axis \u001b[38;5;241m|\u001b[39m \u001b[38;5;28;01mNone\u001b[39;00m \u001b[38;5;241m=\u001b[39m \u001b[38;5;241m0\u001b[39m,\n\u001b[1;32m   (...)\u001b[0m\n\u001b[0;32m  12422\u001b[0m     \u001b[38;5;241m*\u001b[39m\u001b[38;5;241m*\u001b[39mkwargs,\n\u001b[0;32m  12423\u001b[0m ) \u001b[38;5;241m-\u001b[39m\u001b[38;5;241m>\u001b[39m Series \u001b[38;5;241m|\u001b[39m \u001b[38;5;28mfloat\u001b[39m:\n\u001b[1;32m> 12424\u001b[0m     \u001b[38;5;28;01mreturn\u001b[39;00m \u001b[38;5;28;43mself\u001b[39;49m\u001b[38;5;241;43m.\u001b[39;49m\u001b[43m_stat_function\u001b[49m\u001b[43m(\u001b[49m\n\u001b[0;32m  12425\u001b[0m \u001b[43m        \u001b[49m\u001b[38;5;124;43m\"\u001b[39;49m\u001b[38;5;124;43mmedian\u001b[39;49m\u001b[38;5;124;43m\"\u001b[39;49m\u001b[43m,\u001b[49m\u001b[43m \u001b[49m\u001b[43mnanops\u001b[49m\u001b[38;5;241;43m.\u001b[39;49m\u001b[43mnanmedian\u001b[49m\u001b[43m,\u001b[49m\u001b[43m \u001b[49m\u001b[43maxis\u001b[49m\u001b[43m,\u001b[49m\u001b[43m \u001b[49m\u001b[43mskipna\u001b[49m\u001b[43m,\u001b[49m\u001b[43m \u001b[49m\u001b[43mnumeric_only\u001b[49m\u001b[43m,\u001b[49m\u001b[43m \u001b[49m\u001b[38;5;241;43m*\u001b[39;49m\u001b[38;5;241;43m*\u001b[39;49m\u001b[43mkwargs\u001b[49m\n\u001b[0;32m  12426\u001b[0m \u001b[43m    \u001b[49m\u001b[43m)\u001b[49m\n",
      "File \u001b[1;32mc:\\code\\programmieruebung2\\.venv\\Lib\\site-packages\\pandas\\core\\generic.py:12370\u001b[0m, in \u001b[0;36mNDFrame._stat_function\u001b[1;34m(self, name, func, axis, skipna, numeric_only, **kwargs)\u001b[0m\n\u001b[0;32m  12366\u001b[0m nv\u001b[38;5;241m.\u001b[39mvalidate_func(name, (), kwargs)\n\u001b[0;32m  12368\u001b[0m validate_bool_kwarg(skipna, \u001b[38;5;124m\"\u001b[39m\u001b[38;5;124mskipna\u001b[39m\u001b[38;5;124m\"\u001b[39m, none_allowed\u001b[38;5;241m=\u001b[39m\u001b[38;5;28;01mFalse\u001b[39;00m)\n\u001b[1;32m> 12370\u001b[0m \u001b[38;5;28;01mreturn\u001b[39;00m \u001b[38;5;28;43mself\u001b[39;49m\u001b[38;5;241;43m.\u001b[39;49m\u001b[43m_reduce\u001b[49m\u001b[43m(\u001b[49m\n\u001b[0;32m  12371\u001b[0m \u001b[43m    \u001b[49m\u001b[43mfunc\u001b[49m\u001b[43m,\u001b[49m\u001b[43m \u001b[49m\u001b[43mname\u001b[49m\u001b[38;5;241;43m=\u001b[39;49m\u001b[43mname\u001b[49m\u001b[43m,\u001b[49m\u001b[43m \u001b[49m\u001b[43maxis\u001b[49m\u001b[38;5;241;43m=\u001b[39;49m\u001b[43maxis\u001b[49m\u001b[43m,\u001b[49m\u001b[43m \u001b[49m\u001b[43mskipna\u001b[49m\u001b[38;5;241;43m=\u001b[39;49m\u001b[43mskipna\u001b[49m\u001b[43m,\u001b[49m\u001b[43m \u001b[49m\u001b[43mnumeric_only\u001b[49m\u001b[38;5;241;43m=\u001b[39;49m\u001b[43mnumeric_only\u001b[49m\n\u001b[0;32m  12372\u001b[0m \u001b[43m\u001b[49m\u001b[43m)\u001b[49m\n",
      "File \u001b[1;32mc:\\code\\programmieruebung2\\.venv\\Lib\\site-packages\\pandas\\core\\frame.py:11535\u001b[0m, in \u001b[0;36mDataFrame._reduce\u001b[1;34m(self, op, name, axis, skipna, numeric_only, filter_type, **kwds)\u001b[0m\n\u001b[0;32m  11531\u001b[0m     df \u001b[38;5;241m=\u001b[39m df\u001b[38;5;241m.\u001b[39mT\n\u001b[0;32m  11533\u001b[0m \u001b[38;5;66;03m# After possibly _get_data and transposing, we are now in the\u001b[39;00m\n\u001b[0;32m  11534\u001b[0m \u001b[38;5;66;03m#  simple case where we can use BlockManager.reduce\u001b[39;00m\n\u001b[1;32m> 11535\u001b[0m res \u001b[38;5;241m=\u001b[39m \u001b[43mdf\u001b[49m\u001b[38;5;241;43m.\u001b[39;49m\u001b[43m_mgr\u001b[49m\u001b[38;5;241;43m.\u001b[39;49m\u001b[43mreduce\u001b[49m\u001b[43m(\u001b[49m\u001b[43mblk_func\u001b[49m\u001b[43m)\u001b[49m\n\u001b[0;32m  11536\u001b[0m out \u001b[38;5;241m=\u001b[39m df\u001b[38;5;241m.\u001b[39m_constructor_from_mgr(res, axes\u001b[38;5;241m=\u001b[39mres\u001b[38;5;241m.\u001b[39maxes)\u001b[38;5;241m.\u001b[39miloc[\u001b[38;5;241m0\u001b[39m]\n\u001b[0;32m  11537\u001b[0m \u001b[38;5;28;01mif\u001b[39;00m out_dtype \u001b[38;5;129;01mis\u001b[39;00m \u001b[38;5;129;01mnot\u001b[39;00m \u001b[38;5;28;01mNone\u001b[39;00m \u001b[38;5;129;01mand\u001b[39;00m out\u001b[38;5;241m.\u001b[39mdtype \u001b[38;5;241m!=\u001b[39m \u001b[38;5;124m\"\u001b[39m\u001b[38;5;124mboolean\u001b[39m\u001b[38;5;124m\"\u001b[39m:\n",
      "File \u001b[1;32mc:\\code\\programmieruebung2\\.venv\\Lib\\site-packages\\pandas\\core\\internals\\managers.py:1501\u001b[0m, in \u001b[0;36mBlockManager.reduce\u001b[1;34m(self, func)\u001b[0m\n\u001b[0;32m   1499\u001b[0m res_blocks: \u001b[38;5;28mlist\u001b[39m[Block] \u001b[38;5;241m=\u001b[39m []\n\u001b[0;32m   1500\u001b[0m \u001b[38;5;28;01mfor\u001b[39;00m blk \u001b[38;5;129;01min\u001b[39;00m \u001b[38;5;28mself\u001b[39m\u001b[38;5;241m.\u001b[39mblocks:\n\u001b[1;32m-> 1501\u001b[0m     nbs \u001b[38;5;241m=\u001b[39m \u001b[43mblk\u001b[49m\u001b[38;5;241;43m.\u001b[39;49m\u001b[43mreduce\u001b[49m\u001b[43m(\u001b[49m\u001b[43mfunc\u001b[49m\u001b[43m)\u001b[49m\n\u001b[0;32m   1502\u001b[0m     res_blocks\u001b[38;5;241m.\u001b[39mextend(nbs)\n\u001b[0;32m   1504\u001b[0m index \u001b[38;5;241m=\u001b[39m Index([\u001b[38;5;28;01mNone\u001b[39;00m])  \u001b[38;5;66;03m# placeholder\u001b[39;00m\n",
      "File \u001b[1;32mc:\\code\\programmieruebung2\\.venv\\Lib\\site-packages\\pandas\\core\\internals\\blocks.py:404\u001b[0m, in \u001b[0;36mBlock.reduce\u001b[1;34m(self, func)\u001b[0m\n\u001b[0;32m    398\u001b[0m \u001b[38;5;129m@final\u001b[39m\n\u001b[0;32m    399\u001b[0m \u001b[38;5;28;01mdef\u001b[39;00m \u001b[38;5;21mreduce\u001b[39m(\u001b[38;5;28mself\u001b[39m, func) \u001b[38;5;241m-\u001b[39m\u001b[38;5;241m>\u001b[39m \u001b[38;5;28mlist\u001b[39m[Block]:\n\u001b[0;32m    400\u001b[0m     \u001b[38;5;66;03m# We will apply the function and reshape the result into a single-row\u001b[39;00m\n\u001b[0;32m    401\u001b[0m     \u001b[38;5;66;03m#  Block with the same mgr_locs; squeezing will be done at a higher level\u001b[39;00m\n\u001b[0;32m    402\u001b[0m     \u001b[38;5;28;01massert\u001b[39;00m \u001b[38;5;28mself\u001b[39m\u001b[38;5;241m.\u001b[39mndim \u001b[38;5;241m==\u001b[39m \u001b[38;5;241m2\u001b[39m\n\u001b[1;32m--> 404\u001b[0m     result \u001b[38;5;241m=\u001b[39m \u001b[43mfunc\u001b[49m\u001b[43m(\u001b[49m\u001b[38;5;28;43mself\u001b[39;49m\u001b[38;5;241;43m.\u001b[39;49m\u001b[43mvalues\u001b[49m\u001b[43m)\u001b[49m\n\u001b[0;32m    406\u001b[0m     \u001b[38;5;28;01mif\u001b[39;00m \u001b[38;5;28mself\u001b[39m\u001b[38;5;241m.\u001b[39mvalues\u001b[38;5;241m.\u001b[39mndim \u001b[38;5;241m==\u001b[39m \u001b[38;5;241m1\u001b[39m:\n\u001b[0;32m    407\u001b[0m         res_values \u001b[38;5;241m=\u001b[39m result\n",
      "File \u001b[1;32mc:\\code\\programmieruebung2\\.venv\\Lib\\site-packages\\pandas\\core\\frame.py:11454\u001b[0m, in \u001b[0;36mDataFrame._reduce.<locals>.blk_func\u001b[1;34m(values, axis)\u001b[0m\n\u001b[0;32m  11452\u001b[0m         \u001b[38;5;28;01mreturn\u001b[39;00m np\u001b[38;5;241m.\u001b[39marray([result])\n\u001b[0;32m  11453\u001b[0m \u001b[38;5;28;01melse\u001b[39;00m:\n\u001b[1;32m> 11454\u001b[0m     \u001b[38;5;28;01mreturn\u001b[39;00m \u001b[43mop\u001b[49m\u001b[43m(\u001b[49m\u001b[43mvalues\u001b[49m\u001b[43m,\u001b[49m\u001b[43m \u001b[49m\u001b[43maxis\u001b[49m\u001b[38;5;241;43m=\u001b[39;49m\u001b[43maxis\u001b[49m\u001b[43m,\u001b[49m\u001b[43m \u001b[49m\u001b[43mskipna\u001b[49m\u001b[38;5;241;43m=\u001b[39;49m\u001b[43mskipna\u001b[49m\u001b[43m,\u001b[49m\u001b[43m \u001b[49m\u001b[38;5;241;43m*\u001b[39;49m\u001b[38;5;241;43m*\u001b[39;49m\u001b[43mkwds\u001b[49m\u001b[43m)\u001b[49m\n",
      "File \u001b[1;32mc:\\code\\programmieruebung2\\.venv\\Lib\\site-packages\\pandas\\core\\nanops.py:147\u001b[0m, in \u001b[0;36mbottleneck_switch.__call__.<locals>.f\u001b[1;34m(values, axis, skipna, **kwds)\u001b[0m\n\u001b[0;32m    145\u001b[0m         result \u001b[38;5;241m=\u001b[39m alt(values, axis\u001b[38;5;241m=\u001b[39maxis, skipna\u001b[38;5;241m=\u001b[39mskipna, \u001b[38;5;241m*\u001b[39m\u001b[38;5;241m*\u001b[39mkwds)\n\u001b[0;32m    146\u001b[0m \u001b[38;5;28;01melse\u001b[39;00m:\n\u001b[1;32m--> 147\u001b[0m     result \u001b[38;5;241m=\u001b[39m \u001b[43malt\u001b[49m\u001b[43m(\u001b[49m\u001b[43mvalues\u001b[49m\u001b[43m,\u001b[49m\u001b[43m \u001b[49m\u001b[43maxis\u001b[49m\u001b[38;5;241;43m=\u001b[39;49m\u001b[43maxis\u001b[49m\u001b[43m,\u001b[49m\u001b[43m \u001b[49m\u001b[43mskipna\u001b[49m\u001b[38;5;241;43m=\u001b[39;49m\u001b[43mskipna\u001b[49m\u001b[43m,\u001b[49m\u001b[43m \u001b[49m\u001b[38;5;241;43m*\u001b[39;49m\u001b[38;5;241;43m*\u001b[39;49m\u001b[43mkwds\u001b[49m\u001b[43m)\u001b[49m\n\u001b[0;32m    149\u001b[0m \u001b[38;5;28;01mreturn\u001b[39;00m result\n",
      "File \u001b[1;32mc:\\code\\programmieruebung2\\.venv\\Lib\\site-packages\\pandas\\core\\nanops.py:787\u001b[0m, in \u001b[0;36mnanmedian\u001b[1;34m(values, axis, skipna, mask)\u001b[0m\n\u001b[0;32m    785\u001b[0m     inferred \u001b[38;5;241m=\u001b[39m lib\u001b[38;5;241m.\u001b[39minfer_dtype(values)\n\u001b[0;32m    786\u001b[0m     \u001b[38;5;28;01mif\u001b[39;00m inferred \u001b[38;5;129;01min\u001b[39;00m [\u001b[38;5;124m\"\u001b[39m\u001b[38;5;124mstring\u001b[39m\u001b[38;5;124m\"\u001b[39m, \u001b[38;5;124m\"\u001b[39m\u001b[38;5;124mmixed\u001b[39m\u001b[38;5;124m\"\u001b[39m]:\n\u001b[1;32m--> 787\u001b[0m         \u001b[38;5;28;01mraise\u001b[39;00m \u001b[38;5;167;01mTypeError\u001b[39;00m(\u001b[38;5;124mf\u001b[39m\u001b[38;5;124m\"\u001b[39m\u001b[38;5;124mCannot convert \u001b[39m\u001b[38;5;132;01m{\u001b[39;00mvalues\u001b[38;5;132;01m}\u001b[39;00m\u001b[38;5;124m to numeric\u001b[39m\u001b[38;5;124m\"\u001b[39m)\n\u001b[0;32m    788\u001b[0m \u001b[38;5;28;01mtry\u001b[39;00m:\n\u001b[0;32m    789\u001b[0m     values \u001b[38;5;241m=\u001b[39m values\u001b[38;5;241m.\u001b[39mastype(\u001b[38;5;124m\"\u001b[39m\u001b[38;5;124mf8\u001b[39m\u001b[38;5;124m\"\u001b[39m)\n",
      "\u001b[1;31mTypeError\u001b[0m: Cannot convert [['Male' 'Female' 'Female' 'Female' 'Male']\n ['M.Sc.' 'B.Sc.' 'B.Sc.' 'PhD' 'none']] to numeric"
     ]
    }
   ],
   "source": [
    "#@title ❓ Click `Show code` in the code cell to show the solution. { display-mode: \"form\" }\n",
    "\n",
    "df.median()"
   ]
  },
  {
   "cell_type": "code",
   "execution_count": null,
   "metadata": {},
   "outputs": [
    {
     "data": {
      "text/html": [
       "<div>\n",
       "<style scoped>\n",
       "    .dataframe tbody tr th:only-of-type {\n",
       "        vertical-align: middle;\n",
       "    }\n",
       "\n",
       "    .dataframe tbody tr th {\n",
       "        vertical-align: top;\n",
       "    }\n",
       "\n",
       "    .dataframe thead th {\n",
       "        text-align: right;\n",
       "    }\n",
       "</style>\n",
       "<table border=\"1\" class=\"dataframe\">\n",
       "  <thead>\n",
       "    <tr style=\"text-align: right;\">\n",
       "      <th></th>\n",
       "      <th>Gender</th>\n",
       "      <th>Education</th>\n",
       "      <th>Body_temperature_celsius</th>\n",
       "      <th>points_in_exam</th>\n",
       "    </tr>\n",
       "  </thead>\n",
       "  <tbody>\n",
       "    <tr>\n",
       "      <th>0</th>\n",
       "      <td>Female</td>\n",
       "      <td>B.Sc.</td>\n",
       "      <td>37.85</td>\n",
       "      <td>80</td>\n",
       "    </tr>\n",
       "  </tbody>\n",
       "</table>\n",
       "</div>"
      ],
      "text/plain": [
       "   Gender Education  Body_temperature_celsius  points_in_exam\n",
       "0  Female     B.Sc.                     37.85              80"
      ]
     },
     "execution_count": 27,
     "metadata": {},
     "output_type": "execute_result"
    }
   ],
   "source": [
    "#@title ❓ Click `Show code` in the code cell to show the solution. { display-mode: \"form\" }\n",
    "\n",
    "df.mode()\n"
   ]
  },
  {
   "cell_type": "code",
   "execution_count": null,
   "metadata": {},
   "outputs": [
    {
     "data": {
      "text/html": [
       "<div>\n",
       "<style scoped>\n",
       "    .dataframe tbody tr th:only-of-type {\n",
       "        vertical-align: middle;\n",
       "    }\n",
       "\n",
       "    .dataframe tbody tr th {\n",
       "        vertical-align: top;\n",
       "    }\n",
       "\n",
       "    .dataframe thead th {\n",
       "        text-align: right;\n",
       "    }\n",
       "</style>\n",
       "<table border=\"1\" class=\"dataframe\">\n",
       "  <thead>\n",
       "    <tr style=\"text-align: right;\">\n",
       "      <th></th>\n",
       "      <th>Body_temperature_celsius</th>\n",
       "      <th>points_in_exam</th>\n",
       "    </tr>\n",
       "  </thead>\n",
       "  <tbody>\n",
       "    <tr>\n",
       "      <th>count</th>\n",
       "      <td>5.000000</td>\n",
       "      <td>5.0</td>\n",
       "    </tr>\n",
       "    <tr>\n",
       "      <th>mean</th>\n",
       "      <td>38.250000</td>\n",
       "      <td>60.0</td>\n",
       "    </tr>\n",
       "    <tr>\n",
       "      <th>std</th>\n",
       "      <td>1.140175</td>\n",
       "      <td>40.0</td>\n",
       "    </tr>\n",
       "    <tr>\n",
       "      <th>min</th>\n",
       "      <td>36.850000</td>\n",
       "      <td>0.0</td>\n",
       "    </tr>\n",
       "    <tr>\n",
       "      <th>25%</th>\n",
       "      <td>37.850000</td>\n",
       "      <td>40.0</td>\n",
       "    </tr>\n",
       "    <tr>\n",
       "      <th>50%</th>\n",
       "      <td>37.850000</td>\n",
       "      <td>80.0</td>\n",
       "    </tr>\n",
       "    <tr>\n",
       "      <th>75%</th>\n",
       "      <td>38.850000</td>\n",
       "      <td>80.0</td>\n",
       "    </tr>\n",
       "    <tr>\n",
       "      <th>max</th>\n",
       "      <td>39.850000</td>\n",
       "      <td>100.0</td>\n",
       "    </tr>\n",
       "  </tbody>\n",
       "</table>\n",
       "</div>"
      ],
      "text/plain": [
       "       Body_temperature_celsius  points_in_exam\n",
       "count                  5.000000             5.0\n",
       "mean                  38.250000            60.0\n",
       "std                    1.140175            40.0\n",
       "min                   36.850000             0.0\n",
       "25%                   37.850000            40.0\n",
       "50%                   37.850000            80.0\n",
       "75%                   38.850000            80.0\n",
       "max                   39.850000           100.0"
      ]
     },
     "execution_count": 28,
     "metadata": {},
     "output_type": "execute_result"
    }
   ],
   "source": [
    "#@title ❓ Click `Show code` in the code cell to show the solution. { display-mode: \"form\" }\n",
    "\n",
    "df.describe()"
   ]
  },
  {
   "cell_type": "markdown",
   "metadata": {},
   "source": [
    "Note, that those functions also work for individual columns:"
   ]
  },
  {
   "cell_type": "code",
   "execution_count": null,
   "metadata": {},
   "outputs": [
    {
     "data": {
      "text/html": [
       "<div>\n",
       "<style scoped>\n",
       "    .dataframe tbody tr th:only-of-type {\n",
       "        vertical-align: middle;\n",
       "    }\n",
       "\n",
       "    .dataframe tbody tr th {\n",
       "        vertical-align: top;\n",
       "    }\n",
       "\n",
       "    .dataframe thead th {\n",
       "        text-align: right;\n",
       "    }\n",
       "</style>\n",
       "<table border=\"1\" class=\"dataframe\">\n",
       "  <thead>\n",
       "    <tr style=\"text-align: right;\">\n",
       "      <th></th>\n",
       "      <th>Gender</th>\n",
       "      <th>Education</th>\n",
       "      <th>Body_temperature_celsius</th>\n",
       "      <th>points_in_exam</th>\n",
       "    </tr>\n",
       "  </thead>\n",
       "  <tbody>\n",
       "    <tr>\n",
       "      <th>0</th>\n",
       "      <td>Male</td>\n",
       "      <td>M.Sc.</td>\n",
       "      <td>37.85</td>\n",
       "      <td>0</td>\n",
       "    </tr>\n",
       "    <tr>\n",
       "      <th>1</th>\n",
       "      <td>Female</td>\n",
       "      <td>B.Sc.</td>\n",
       "      <td>39.85</td>\n",
       "      <td>100</td>\n",
       "    </tr>\n",
       "    <tr>\n",
       "      <th>2</th>\n",
       "      <td>Female</td>\n",
       "      <td>B.Sc.</td>\n",
       "      <td>38.85</td>\n",
       "      <td>80</td>\n",
       "    </tr>\n",
       "    <tr>\n",
       "      <th>3</th>\n",
       "      <td>Female</td>\n",
       "      <td>PhD</td>\n",
       "      <td>36.85</td>\n",
       "      <td>80</td>\n",
       "    </tr>\n",
       "    <tr>\n",
       "      <th>4</th>\n",
       "      <td>Male</td>\n",
       "      <td>none</td>\n",
       "      <td>37.85</td>\n",
       "      <td>40</td>\n",
       "    </tr>\n",
       "  </tbody>\n",
       "</table>\n",
       "</div>"
      ],
      "text/plain": [
       "   Gender Education  Body_temperature_celsius  points_in_exam\n",
       "0    Male     M.Sc.                     37.85               0\n",
       "1  Female     B.Sc.                     39.85             100\n",
       "2  Female     B.Sc.                     38.85              80\n",
       "3  Female       PhD                     36.85              80\n",
       "4    Male      none                     37.85              40"
      ]
     },
     "execution_count": 29,
     "metadata": {},
     "output_type": "execute_result"
    }
   ],
   "source": [
    "df"
   ]
  },
  {
   "cell_type": "markdown",
   "metadata": {},
   "source": [
    "## Indexing and Selecting Data\n",
    "\n",
    "Indexing in pandas means simply selecting particular rows and columns of data from a DataFrame. Indexing could mean selecting all the rows and some of the columns, some of the rows and all of the columns, or some of each of the rows and columns. \n",
    "\n",
    "Indexing a Dataframe using indexing operator ```[]```\n"
   ]
  },
  {
   "cell_type": "markdown",
   "metadata": {},
   "source": [
    "### Selecting a single columns\n",
    "\n"
   ]
  },
  {
   "cell_type": "code",
   "execution_count": 15,
   "metadata": {},
   "outputs": [
    {
     "name": "stdout",
     "output_type": "stream",
     "text": [
      "0    M.Sc.\n",
      "1    B.Sc.\n",
      "2    B.Sc.\n",
      "3      PhD\n",
      "4     none\n",
      "Name: Education, dtype: object\n"
     ]
    }
   ],
   "source": [
    "# retrieving columns by indexing operator\n",
    "first = df[\"Education\"]\n",
    " \n",
    "print(first)"
   ]
  },
  {
   "cell_type": "markdown",
   "metadata": {},
   "source": [
    "### Index\n",
    "\n",
    "The index is a special column like a key in a dictionary. Like a key, an index must be unique so that is can be used to identify a certain row.\n",
    "\n",
    "If You do not define an index for a dataframe, pandas automatically creates an numerical index as the first column:"
   ]
  },
  {
   "cell_type": "code",
   "execution_count": 16,
   "metadata": {},
   "outputs": [
    {
     "name": "stdout",
     "output_type": "stream",
     "text": [
      "  Name  Gender Education  Body_temperature_celsius  points_in_exam\n",
      "0    A    Male     M.Sc.                     37.85               0\n",
      "1    B  Female     B.Sc.                     39.85             100\n",
      "2    C  Female     B.Sc.                     38.85              80\n",
      "3    D  Female       PhD                     36.85              80\n",
      "4    E    Male      none                     37.85              40\n",
      "RangeIndex(start=0, stop=5, step=1)\n"
     ]
    }
   ],
   "source": [
    "data = { \"Name\" : [\"A\",\"B\",\"C\",\"D\",\"E\"], \n",
    "\"Gender\" : [\"Male\", \"Female\", \"Female\", \"Female\", \"Male\"],\n",
    "\"Education\" : [\"M.Sc.\", \"B.Sc.\", \"B.Sc.\", \"PhD\", \"none\"],\n",
    "\"Body_temperature_celsius\" : [37.85, 39.85, 38.85, 36.85, 37.85], \n",
    "\"points_in_exam\" : [0, 100, 80, 80, 40]}\n",
    "\n",
    "# Create DataFrame\n",
    "df = pd.DataFrame(data)\n",
    " \n",
    "# Print the output.\n",
    "print(df)\n",
    "print(df.index)"
   ]
  },
  {
   "cell_type": "code",
   "execution_count": 17,
   "metadata": {},
   "outputs": [
    {
     "data": {
      "text/plain": [
       "Name                             C\n",
       "Gender                      Female\n",
       "Education                    B.Sc.\n",
       "Body_temperature_celsius     38.85\n",
       "points_in_exam                  80\n",
       "Name: 2, dtype: object"
      ]
     },
     "execution_count": 17,
     "metadata": {},
     "output_type": "execute_result"
    }
   ],
   "source": [
    "df.loc[2]"
   ]
  },
  {
   "cell_type": "markdown",
   "metadata": {},
   "source": [
    "Alternatively, You can decide for any coloumn to become the index:"
   ]
  },
  {
   "cell_type": "code",
   "execution_count": 18,
   "metadata": {},
   "outputs": [
    {
     "name": "stdout",
     "output_type": "stream",
     "text": [
      "      Gender Education  Body_temperature_celsius  points_in_exam  points_bonus\n",
      "Name                                                                          \n",
      "A       Male     M.Sc.                     37.85               0             5\n",
      "B     Female     B.Sc.                     39.85             100            10\n",
      "C     Female     B.Sc.                     38.85              80             0\n",
      "D     Female       PhD                     36.85              80             5\n",
      "E       Male      none                     37.85              40             5\n"
     ]
    }
   ],
   "source": [
    "data = { \"Name\" : [\"A\",\"B\",\"C\",\"D\",\"E\"], \n",
    "\"Gender\" : [\"Male\", \"Female\", \"Female\", \"Female\", \"Male\"],\n",
    "\"Education\" : [\"M.Sc.\", \"B.Sc.\", \"B.Sc.\", \"PhD\", \"none\"],\n",
    "\"Body_temperature_celsius\" : [37.85, 39.85, 38.85, 36.85, 37.85], \n",
    "\"points_in_exam\" : [0, 100, 80, 80, 40],\n",
    "\"points_bonus\" : [5, 10, 0, 5, 5]}\n",
    "\n",
    "\n",
    "# Create DataFrame\n",
    "df = pd.DataFrame(data)\n",
    "df = df.set_index('Name')\n",
    "\n",
    "# Print the output.\n",
    "print(df)"
   ]
  },
  {
   "cell_type": "markdown",
   "metadata": {},
   "source": [
    "### Selecting a single row\n",
    "\n",
    "The ```.loc[ ]``` function selects data by the label of the rows and columns. The df.loc indexer selects data in a different way than just the indexing operator. It can select subsets of rows or columns. It can also simultaneously select subsets of rows and columns.\n"
   ]
  },
  {
   "cell_type": "code",
   "execution_count": 19,
   "metadata": {},
   "outputs": [
    {
     "data": {
      "text/plain": [
       "Index(['A', 'B', 'C', 'D', 'E'], dtype='object', name='Name')"
      ]
     },
     "execution_count": 19,
     "metadata": {},
     "output_type": "execute_result"
    }
   ],
   "source": [
    "df.index"
   ]
  },
  {
   "cell_type": "code",
   "execution_count": 20,
   "metadata": {},
   "outputs": [
    {
     "name": "stdout",
     "output_type": "stream",
     "text": [
      "Gender                      Female\n",
      "Education                    B.Sc.\n",
      "Body_temperature_celsius     39.85\n",
      "points_in_exam                 100\n",
      "points_bonus                    10\n",
      "Name: B, dtype: object\n"
     ]
    }
   ],
   "source": [
    "# retrieving columns by indexing operator\n",
    "first = df.loc[\"B\"]\n",
    " \n",
    "print(first)"
   ]
  },
  {
   "cell_type": "code",
   "execution_count": 21,
   "metadata": {},
   "outputs": [
    {
     "name": "stdout",
     "output_type": "stream",
     "text": [
      "Female\n"
     ]
    }
   ],
   "source": [
    "# retrieving columns by indexing operator\n",
    "first = df.loc[\"B\"][\"Gender\"]\n",
    " \n",
    "print(first)\n"
   ]
  },
  {
   "cell_type": "markdown",
   "metadata": {},
   "source": [
    "✍️ **Task**\n",
    "\n",
    "Select the body temperature of the person named \"C\""
   ]
  },
  {
   "cell_type": "code",
   "execution_count": null,
   "metadata": {},
   "outputs": [],
   "source": []
  },
  {
   "cell_type": "code",
   "execution_count": 23,
   "metadata": {},
   "outputs": [
    {
     "data": {
      "text/plain": [
       "38.85"
      ]
     },
     "execution_count": 23,
     "metadata": {},
     "output_type": "execute_result"
    }
   ],
   "source": [
    "#@title ❓ Click `Show code` in the code cell to show the solution. { display-mode: \"form\" }\n",
    "\n",
    "temp = df.loc[\"C\"][\"Body_temperature_celsius\"]\n",
    "temp"
   ]
  },
  {
   "cell_type": "markdown",
   "metadata": {},
   "source": [
    "Even after changing the index, You can still use the numerical position of the rows and columns to access tha data using the ```iloc[]``` function."
   ]
  },
  {
   "cell_type": "code",
   "execution_count": 24,
   "metadata": {},
   "outputs": [
    {
     "data": {
      "text/html": [
       "<div>\n",
       "<style scoped>\n",
       "    .dataframe tbody tr th:only-of-type {\n",
       "        vertical-align: middle;\n",
       "    }\n",
       "\n",
       "    .dataframe tbody tr th {\n",
       "        vertical-align: top;\n",
       "    }\n",
       "\n",
       "    .dataframe thead th {\n",
       "        text-align: right;\n",
       "    }\n",
       "</style>\n",
       "<table border=\"1\" class=\"dataframe\">\n",
       "  <thead>\n",
       "    <tr style=\"text-align: right;\">\n",
       "      <th></th>\n",
       "      <th>Gender</th>\n",
       "      <th>Education</th>\n",
       "      <th>Body_temperature_celsius</th>\n",
       "      <th>points_in_exam</th>\n",
       "      <th>points_bonus</th>\n",
       "    </tr>\n",
       "    <tr>\n",
       "      <th>Name</th>\n",
       "      <th></th>\n",
       "      <th></th>\n",
       "      <th></th>\n",
       "      <th></th>\n",
       "      <th></th>\n",
       "    </tr>\n",
       "  </thead>\n",
       "  <tbody>\n",
       "    <tr>\n",
       "      <th>A</th>\n",
       "      <td>Male</td>\n",
       "      <td>M.Sc.</td>\n",
       "      <td>37.85</td>\n",
       "      <td>0</td>\n",
       "      <td>5</td>\n",
       "    </tr>\n",
       "    <tr>\n",
       "      <th>B</th>\n",
       "      <td>Female</td>\n",
       "      <td>B.Sc.</td>\n",
       "      <td>39.85</td>\n",
       "      <td>100</td>\n",
       "      <td>10</td>\n",
       "    </tr>\n",
       "    <tr>\n",
       "      <th>C</th>\n",
       "      <td>Female</td>\n",
       "      <td>B.Sc.</td>\n",
       "      <td>38.85</td>\n",
       "      <td>80</td>\n",
       "      <td>0</td>\n",
       "    </tr>\n",
       "    <tr>\n",
       "      <th>D</th>\n",
       "      <td>Female</td>\n",
       "      <td>PhD</td>\n",
       "      <td>36.85</td>\n",
       "      <td>80</td>\n",
       "      <td>5</td>\n",
       "    </tr>\n",
       "    <tr>\n",
       "      <th>E</th>\n",
       "      <td>Male</td>\n",
       "      <td>none</td>\n",
       "      <td>37.85</td>\n",
       "      <td>40</td>\n",
       "      <td>5</td>\n",
       "    </tr>\n",
       "  </tbody>\n",
       "</table>\n",
       "</div>"
      ],
      "text/plain": [
       "      Gender Education  Body_temperature_celsius  points_in_exam  points_bonus\n",
       "Name                                                                          \n",
       "A       Male     M.Sc.                     37.85               0             5\n",
       "B     Female     B.Sc.                     39.85             100            10\n",
       "C     Female     B.Sc.                     38.85              80             0\n",
       "D     Female       PhD                     36.85              80             5\n",
       "E       Male      none                     37.85              40             5"
      ]
     },
     "execution_count": 24,
     "metadata": {},
     "output_type": "execute_result"
    }
   ],
   "source": [
    "df"
   ]
  },
  {
   "cell_type": "code",
   "execution_count": 25,
   "metadata": {},
   "outputs": [
    {
     "name": "stderr",
     "output_type": "stream",
     "text": [
      "C:\\Users\\JLHUBER\\AppData\\Local\\Temp\\ipykernel_9352\\2555595056.py:1: FutureWarning: Series.__getitem__ treating keys as positions is deprecated. In a future version, integer keys will always be treated as labels (consistent with DataFrame behavior). To access a value by position, use `ser.iloc[pos]`\n",
      "  temp = df.iloc[3][1]\n"
     ]
    },
    {
     "data": {
      "text/plain": [
       "'PhD'"
      ]
     },
     "execution_count": 25,
     "metadata": {},
     "output_type": "execute_result"
    }
   ],
   "source": [
    "temp = df.iloc[3][1]\n",
    "temp"
   ]
  },
  {
   "cell_type": "markdown",
   "metadata": {},
   "source": [
    "### Iteration\n",
    "\n",
    "You might want to iterate through the rows of the data frames  as You did with lists and dictionaries. You can do this by using the ```iterrows()``` function"
   ]
  },
  {
   "cell_type": "code",
   "execution_count": 26,
   "metadata": {},
   "outputs": [
    {
     "data": {
      "text/html": [
       "<div>\n",
       "<style scoped>\n",
       "    .dataframe tbody tr th:only-of-type {\n",
       "        vertical-align: middle;\n",
       "    }\n",
       "\n",
       "    .dataframe tbody tr th {\n",
       "        vertical-align: top;\n",
       "    }\n",
       "\n",
       "    .dataframe thead th {\n",
       "        text-align: right;\n",
       "    }\n",
       "</style>\n",
       "<table border=\"1\" class=\"dataframe\">\n",
       "  <thead>\n",
       "    <tr style=\"text-align: right;\">\n",
       "      <th></th>\n",
       "      <th>Gender</th>\n",
       "      <th>Education</th>\n",
       "      <th>Body_temperature_celsius</th>\n",
       "      <th>points_in_exam</th>\n",
       "      <th>points_bonus</th>\n",
       "    </tr>\n",
       "    <tr>\n",
       "      <th>Name</th>\n",
       "      <th></th>\n",
       "      <th></th>\n",
       "      <th></th>\n",
       "      <th></th>\n",
       "      <th></th>\n",
       "    </tr>\n",
       "  </thead>\n",
       "  <tbody>\n",
       "    <tr>\n",
       "      <th>A</th>\n",
       "      <td>Male</td>\n",
       "      <td>M.Sc.</td>\n",
       "      <td>37.85</td>\n",
       "      <td>0</td>\n",
       "      <td>5</td>\n",
       "    </tr>\n",
       "    <tr>\n",
       "      <th>B</th>\n",
       "      <td>Female</td>\n",
       "      <td>B.Sc.</td>\n",
       "      <td>39.85</td>\n",
       "      <td>100</td>\n",
       "      <td>10</td>\n",
       "    </tr>\n",
       "    <tr>\n",
       "      <th>C</th>\n",
       "      <td>Female</td>\n",
       "      <td>B.Sc.</td>\n",
       "      <td>38.85</td>\n",
       "      <td>80</td>\n",
       "      <td>0</td>\n",
       "    </tr>\n",
       "    <tr>\n",
       "      <th>D</th>\n",
       "      <td>Female</td>\n",
       "      <td>PhD</td>\n",
       "      <td>36.85</td>\n",
       "      <td>80</td>\n",
       "      <td>5</td>\n",
       "    </tr>\n",
       "    <tr>\n",
       "      <th>E</th>\n",
       "      <td>Male</td>\n",
       "      <td>none</td>\n",
       "      <td>37.85</td>\n",
       "      <td>40</td>\n",
       "      <td>5</td>\n",
       "    </tr>\n",
       "  </tbody>\n",
       "</table>\n",
       "</div>"
      ],
      "text/plain": [
       "      Gender Education  Body_temperature_celsius  points_in_exam  points_bonus\n",
       "Name                                                                          \n",
       "A       Male     M.Sc.                     37.85               0             5\n",
       "B     Female     B.Sc.                     39.85             100            10\n",
       "C     Female     B.Sc.                     38.85              80             0\n",
       "D     Female       PhD                     36.85              80             5\n",
       "E       Male      none                     37.85              40             5"
      ]
     },
     "execution_count": 26,
     "metadata": {},
     "output_type": "execute_result"
    }
   ],
   "source": [
    "df"
   ]
  },
  {
   "cell_type": "code",
   "execution_count": 27,
   "metadata": {},
   "outputs": [
    {
     "name": "stdout",
     "output_type": "stream",
     "text": [
      "The index is A. \n",
      "The full observation is \n",
      "Gender                       Male\n",
      "Education                   M.Sc.\n",
      "Body_temperature_celsius    37.85\n",
      "points_in_exam                  0\n",
      "points_bonus                    5\n",
      "Name: A, dtype: object\n",
      "The body temperature is 37.85\n",
      "\n",
      "\n",
      "The index is B. \n",
      "The full observation is \n",
      "Gender                      Female\n",
      "Education                    B.Sc.\n",
      "Body_temperature_celsius     39.85\n",
      "points_in_exam                 100\n",
      "points_bonus                    10\n",
      "Name: B, dtype: object\n",
      "The body temperature is 39.85\n",
      "\n",
      "\n",
      "The index is C. \n",
      "The full observation is \n",
      "Gender                      Female\n",
      "Education                    B.Sc.\n",
      "Body_temperature_celsius     38.85\n",
      "points_in_exam                  80\n",
      "points_bonus                     0\n",
      "Name: C, dtype: object\n",
      "The body temperature is 38.85\n",
      "\n",
      "\n",
      "The index is D. \n",
      "The full observation is \n",
      "Gender                      Female\n",
      "Education                      PhD\n",
      "Body_temperature_celsius     36.85\n",
      "points_in_exam                  80\n",
      "points_bonus                     5\n",
      "Name: D, dtype: object\n",
      "The body temperature is 36.85\n",
      "\n",
      "\n",
      "The index is E. \n",
      "The full observation is \n",
      "Gender                       Male\n",
      "Education                    none\n",
      "Body_temperature_celsius    37.85\n",
      "points_in_exam                 40\n",
      "points_bonus                    5\n",
      "Name: E, dtype: object\n",
      "The body temperature is 37.85\n",
      "\n",
      "\n"
     ]
    }
   ],
   "source": [
    "for index, observation in df.iterrows():\n",
    "    \n",
    "    print(\"The index is {}. \".format(index))\n",
    "    print(\"The full observation is \\n{}\".format(observation))\n",
    "    print(\"The body temperature is {}\".format(observation[\"Body_temperature_celsius\"]))\n",
    "    print(\"\\n\")"
   ]
  },
  {
   "cell_type": "code",
   "execution_count": 28,
   "metadata": {},
   "outputs": [
    {
     "data": {
      "text/html": [
       "<div>\n",
       "<style scoped>\n",
       "    .dataframe tbody tr th:only-of-type {\n",
       "        vertical-align: middle;\n",
       "    }\n",
       "\n",
       "    .dataframe tbody tr th {\n",
       "        vertical-align: top;\n",
       "    }\n",
       "\n",
       "    .dataframe thead th {\n",
       "        text-align: right;\n",
       "    }\n",
       "</style>\n",
       "<table border=\"1\" class=\"dataframe\">\n",
       "  <thead>\n",
       "    <tr style=\"text-align: right;\">\n",
       "      <th></th>\n",
       "      <th>Gender</th>\n",
       "      <th>Education</th>\n",
       "      <th>Body_temperature_celsius</th>\n",
       "      <th>points_in_exam</th>\n",
       "      <th>points_bonus</th>\n",
       "    </tr>\n",
       "    <tr>\n",
       "      <th>Name</th>\n",
       "      <th></th>\n",
       "      <th></th>\n",
       "      <th></th>\n",
       "      <th></th>\n",
       "      <th></th>\n",
       "    </tr>\n",
       "  </thead>\n",
       "  <tbody>\n",
       "    <tr>\n",
       "      <th>A</th>\n",
       "      <td>Male</td>\n",
       "      <td>M.Sc.</td>\n",
       "      <td>37.85</td>\n",
       "      <td>0</td>\n",
       "      <td>5</td>\n",
       "    </tr>\n",
       "    <tr>\n",
       "      <th>B</th>\n",
       "      <td>Female</td>\n",
       "      <td>B.Sc.</td>\n",
       "      <td>39.85</td>\n",
       "      <td>100</td>\n",
       "      <td>10</td>\n",
       "    </tr>\n",
       "    <tr>\n",
       "      <th>C</th>\n",
       "      <td>Female</td>\n",
       "      <td>B.Sc.</td>\n",
       "      <td>38.85</td>\n",
       "      <td>80</td>\n",
       "      <td>0</td>\n",
       "    </tr>\n",
       "    <tr>\n",
       "      <th>D</th>\n",
       "      <td>Female</td>\n",
       "      <td>PhD</td>\n",
       "      <td>36.85</td>\n",
       "      <td>80</td>\n",
       "      <td>5</td>\n",
       "    </tr>\n",
       "    <tr>\n",
       "      <th>E</th>\n",
       "      <td>Male</td>\n",
       "      <td>none</td>\n",
       "      <td>37.85</td>\n",
       "      <td>40</td>\n",
       "      <td>5</td>\n",
       "    </tr>\n",
       "  </tbody>\n",
       "</table>\n",
       "</div>"
      ],
      "text/plain": [
       "      Gender Education  Body_temperature_celsius  points_in_exam  points_bonus\n",
       "Name                                                                          \n",
       "A       Male     M.Sc.                     37.85               0             5\n",
       "B     Female     B.Sc.                     39.85             100            10\n",
       "C     Female     B.Sc.                     38.85              80             0\n",
       "D     Female       PhD                     36.85              80             5\n",
       "E       Male      none                     37.85              40             5"
      ]
     },
     "execution_count": 28,
     "metadata": {},
     "output_type": "execute_result"
    }
   ],
   "source": [
    "df"
   ]
  },
  {
   "cell_type": "markdown",
   "metadata": {},
   "source": [
    "✍️ **Task**\n",
    "\n",
    "Write a for loop, that prints \"E is a Male and his/her body temperature is 37.85. This is X degree higher than the average body temperature.\"\n",
    "\n",
    "To print multiple variables in a string You can build it like this:\n",
    "`print(\"{0} is a {1} and his body temperature is {2:.2f}.\".format(name, gender, temp-mean_temp))`\n",
    "\n",
    "🤓 Bonus:\n",
    "- make male and female lower case\n",
    "- use the right pronoun \n",
    "- use lower/higher\n",
    "- only use 2 decimals "
   ]
  },
  {
   "cell_type": "code",
   "execution_count": null,
   "metadata": {},
   "outputs": [],
   "source": []
  },
  {
   "cell_type": "code",
   "execution_count": 29,
   "metadata": {},
   "outputs": [
    {
     "name": "stdout",
     "output_type": "stream",
     "text": [
      "A is a Male and his body temperature is -0.40 degree lower than the average body temperature.\n",
      "\n",
      "\n",
      "B is a Female and his body temperature is 1.60 degree higher than the average body temperature.\n",
      "\n",
      "\n",
      "C is a Female and his body temperature is 0.60 degree higher than the average body temperature.\n",
      "\n",
      "\n",
      "D is a Female and his body temperature is -1.40 degree lower than the average body temperature.\n",
      "\n",
      "\n",
      "E is a Male and his body temperature is -0.40 degree lower than the average body temperature.\n",
      "\n",
      "\n"
     ]
    }
   ],
   "source": [
    "#@title ❓ Click `Show code` in the code cell to show the solution. { display-mode: \"form\" }\n",
    "\n",
    "mean_temp = df[\"Body_temperature_celsius\"].mean()\n",
    "\n",
    "for index, observation in df.iterrows():\n",
    "\n",
    "    name = index\n",
    "    gender = observation[\"Gender\"]\n",
    "    temp = observation[\"Body_temperature_celsius\"]\n",
    "\n",
    "    if temp >mean_temp:\n",
    "        higher_lower = \"higher\"\n",
    "    else:\n",
    "         higher_lower = \"lower\"       \n",
    "\n",
    "    print(\"{0} is a {1} and his body temperature is {2:.2f} degree {3} than the average body temperature.\".format(name, gender, temp-mean_temp, higher_lower))\n",
    "    print(\"\\n\")"
   ]
  },
  {
   "cell_type": "markdown",
   "metadata": {},
   "source": [
    "### Filtering and Where Clause\n",
    "\n",
    "If You want to remove rows from a data frame based on a filter, You can use the ```where()``` function. \n"
   ]
  },
  {
   "cell_type": "code",
   "execution_count": 30,
   "metadata": {},
   "outputs": [
    {
     "data": {
      "text/html": [
       "<div>\n",
       "<style scoped>\n",
       "    .dataframe tbody tr th:only-of-type {\n",
       "        vertical-align: middle;\n",
       "    }\n",
       "\n",
       "    .dataframe tbody tr th {\n",
       "        vertical-align: top;\n",
       "    }\n",
       "\n",
       "    .dataframe thead th {\n",
       "        text-align: right;\n",
       "    }\n",
       "</style>\n",
       "<table border=\"1\" class=\"dataframe\">\n",
       "  <thead>\n",
       "    <tr style=\"text-align: right;\">\n",
       "      <th></th>\n",
       "      <th>Gender</th>\n",
       "      <th>Education</th>\n",
       "      <th>Body_temperature_celsius</th>\n",
       "      <th>points_in_exam</th>\n",
       "      <th>points_bonus</th>\n",
       "    </tr>\n",
       "    <tr>\n",
       "      <th>Name</th>\n",
       "      <th></th>\n",
       "      <th></th>\n",
       "      <th></th>\n",
       "      <th></th>\n",
       "      <th></th>\n",
       "    </tr>\n",
       "  </thead>\n",
       "  <tbody>\n",
       "    <tr>\n",
       "      <th>A</th>\n",
       "      <td>Male</td>\n",
       "      <td>M.Sc.</td>\n",
       "      <td>37.85</td>\n",
       "      <td>0</td>\n",
       "      <td>5</td>\n",
       "    </tr>\n",
       "    <tr>\n",
       "      <th>B</th>\n",
       "      <td>Female</td>\n",
       "      <td>B.Sc.</td>\n",
       "      <td>39.85</td>\n",
       "      <td>100</td>\n",
       "      <td>10</td>\n",
       "    </tr>\n",
       "    <tr>\n",
       "      <th>C</th>\n",
       "      <td>Female</td>\n",
       "      <td>B.Sc.</td>\n",
       "      <td>38.85</td>\n",
       "      <td>80</td>\n",
       "      <td>0</td>\n",
       "    </tr>\n",
       "    <tr>\n",
       "      <th>D</th>\n",
       "      <td>Female</td>\n",
       "      <td>PhD</td>\n",
       "      <td>36.85</td>\n",
       "      <td>80</td>\n",
       "      <td>5</td>\n",
       "    </tr>\n",
       "    <tr>\n",
       "      <th>E</th>\n",
       "      <td>Male</td>\n",
       "      <td>none</td>\n",
       "      <td>37.85</td>\n",
       "      <td>40</td>\n",
       "      <td>5</td>\n",
       "    </tr>\n",
       "  </tbody>\n",
       "</table>\n",
       "</div>"
      ],
      "text/plain": [
       "      Gender Education  Body_temperature_celsius  points_in_exam  points_bonus\n",
       "Name                                                                          \n",
       "A       Male     M.Sc.                     37.85               0             5\n",
       "B     Female     B.Sc.                     39.85             100            10\n",
       "C     Female     B.Sc.                     38.85              80             0\n",
       "D     Female       PhD                     36.85              80             5\n",
       "E       Male      none                     37.85              40             5"
      ]
     },
     "execution_count": 30,
     "metadata": {},
     "output_type": "execute_result"
    }
   ],
   "source": [
    "df"
   ]
  },
  {
   "cell_type": "markdown",
   "metadata": {},
   "source": [
    "Filters are comparisons between columns or values and colums, that return a series of Boolean values:"
   ]
  },
  {
   "cell_type": "code",
   "execution_count": 31,
   "metadata": {},
   "outputs": [
    {
     "data": {
      "text/plain": [
       "Name\n",
       "A    False\n",
       "B     True\n",
       "C     True\n",
       "D     True\n",
       "E    False\n",
       "Name: Gender, dtype: bool"
      ]
     },
     "execution_count": 31,
     "metadata": {},
     "output_type": "execute_result"
    }
   ],
   "source": [
    "df[\"Gender\"]==\"Female\""
   ]
  },
  {
   "cell_type": "markdown",
   "metadata": {},
   "source": [
    "You can use such filters in a where clause to remove rows in a data frame replacing them by ```NaN```"
   ]
  },
  {
   "cell_type": "code",
   "execution_count": 32,
   "metadata": {},
   "outputs": [
    {
     "data": {
      "text/html": [
       "<div>\n",
       "<style scoped>\n",
       "    .dataframe tbody tr th:only-of-type {\n",
       "        vertical-align: middle;\n",
       "    }\n",
       "\n",
       "    .dataframe tbody tr th {\n",
       "        vertical-align: top;\n",
       "    }\n",
       "\n",
       "    .dataframe thead th {\n",
       "        text-align: right;\n",
       "    }\n",
       "</style>\n",
       "<table border=\"1\" class=\"dataframe\">\n",
       "  <thead>\n",
       "    <tr style=\"text-align: right;\">\n",
       "      <th></th>\n",
       "      <th>Gender</th>\n",
       "      <th>Education</th>\n",
       "      <th>Body_temperature_celsius</th>\n",
       "      <th>points_in_exam</th>\n",
       "      <th>points_bonus</th>\n",
       "    </tr>\n",
       "    <tr>\n",
       "      <th>Name</th>\n",
       "      <th></th>\n",
       "      <th></th>\n",
       "      <th></th>\n",
       "      <th></th>\n",
       "      <th></th>\n",
       "    </tr>\n",
       "  </thead>\n",
       "  <tbody>\n",
       "    <tr>\n",
       "      <th>A</th>\n",
       "      <td>NaN</td>\n",
       "      <td>NaN</td>\n",
       "      <td>NaN</td>\n",
       "      <td>NaN</td>\n",
       "      <td>NaN</td>\n",
       "    </tr>\n",
       "    <tr>\n",
       "      <th>B</th>\n",
       "      <td>Female</td>\n",
       "      <td>B.Sc.</td>\n",
       "      <td>39.85</td>\n",
       "      <td>100.0</td>\n",
       "      <td>10.0</td>\n",
       "    </tr>\n",
       "    <tr>\n",
       "      <th>C</th>\n",
       "      <td>Female</td>\n",
       "      <td>B.Sc.</td>\n",
       "      <td>38.85</td>\n",
       "      <td>80.0</td>\n",
       "      <td>0.0</td>\n",
       "    </tr>\n",
       "    <tr>\n",
       "      <th>D</th>\n",
       "      <td>Female</td>\n",
       "      <td>PhD</td>\n",
       "      <td>36.85</td>\n",
       "      <td>80.0</td>\n",
       "      <td>5.0</td>\n",
       "    </tr>\n",
       "    <tr>\n",
       "      <th>E</th>\n",
       "      <td>NaN</td>\n",
       "      <td>NaN</td>\n",
       "      <td>NaN</td>\n",
       "      <td>NaN</td>\n",
       "      <td>NaN</td>\n",
       "    </tr>\n",
       "  </tbody>\n",
       "</table>\n",
       "</div>"
      ],
      "text/plain": [
       "      Gender Education  Body_temperature_celsius  points_in_exam  points_bonus\n",
       "Name                                                                          \n",
       "A        NaN       NaN                       NaN             NaN           NaN\n",
       "B     Female     B.Sc.                     39.85           100.0          10.0\n",
       "C     Female     B.Sc.                     38.85            80.0           0.0\n",
       "D     Female       PhD                     36.85            80.0           5.0\n",
       "E        NaN       NaN                       NaN             NaN           NaN"
      ]
     },
     "execution_count": 32,
     "metadata": {},
     "output_type": "execute_result"
    }
   ],
   "source": [
    "# making boolean series for a team name\n",
    "filter1 = df[\"Gender\"]==\"Female\"\n",
    "  \n",
    "# making boolean series for age\n",
    "filter2 = df[\"points_in_exam\"]>60\n",
    "  \n",
    "# filtering data on basis of both filters\n",
    "filtered_df = df.where(filter1 & filter2)\n",
    "  \n",
    "# display\n",
    "filtered_df"
   ]
  },
  {
   "cell_type": "code",
   "execution_count": 33,
   "metadata": {},
   "outputs": [
    {
     "data": {
      "text/html": [
       "<div>\n",
       "<style scoped>\n",
       "    .dataframe tbody tr th:only-of-type {\n",
       "        vertical-align: middle;\n",
       "    }\n",
       "\n",
       "    .dataframe tbody tr th {\n",
       "        vertical-align: top;\n",
       "    }\n",
       "\n",
       "    .dataframe thead th {\n",
       "        text-align: right;\n",
       "    }\n",
       "</style>\n",
       "<table border=\"1\" class=\"dataframe\">\n",
       "  <thead>\n",
       "    <tr style=\"text-align: right;\">\n",
       "      <th></th>\n",
       "      <th>Gender</th>\n",
       "      <th>Education</th>\n",
       "      <th>Body_temperature_celsius</th>\n",
       "      <th>points_in_exam</th>\n",
       "      <th>points_bonus</th>\n",
       "    </tr>\n",
       "    <tr>\n",
       "      <th>Name</th>\n",
       "      <th></th>\n",
       "      <th></th>\n",
       "      <th></th>\n",
       "      <th></th>\n",
       "      <th></th>\n",
       "    </tr>\n",
       "  </thead>\n",
       "  <tbody>\n",
       "    <tr>\n",
       "      <th>B</th>\n",
       "      <td>Female</td>\n",
       "      <td>B.Sc.</td>\n",
       "      <td>39.85</td>\n",
       "      <td>100.0</td>\n",
       "      <td>10.0</td>\n",
       "    </tr>\n",
       "    <tr>\n",
       "      <th>C</th>\n",
       "      <td>Female</td>\n",
       "      <td>B.Sc.</td>\n",
       "      <td>38.85</td>\n",
       "      <td>80.0</td>\n",
       "      <td>0.0</td>\n",
       "    </tr>\n",
       "    <tr>\n",
       "      <th>D</th>\n",
       "      <td>Female</td>\n",
       "      <td>PhD</td>\n",
       "      <td>36.85</td>\n",
       "      <td>80.0</td>\n",
       "      <td>5.0</td>\n",
       "    </tr>\n",
       "  </tbody>\n",
       "</table>\n",
       "</div>"
      ],
      "text/plain": [
       "      Gender Education  Body_temperature_celsius  points_in_exam  points_bonus\n",
       "Name                                                                          \n",
       "B     Female     B.Sc.                     39.85           100.0          10.0\n",
       "C     Female     B.Sc.                     38.85            80.0           0.0\n",
       "D     Female       PhD                     36.85            80.0           5.0"
      ]
     },
     "execution_count": 33,
     "metadata": {},
     "output_type": "execute_result"
    }
   ],
   "source": [
    "filtered_df.dropna()"
   ]
  },
  {
   "cell_type": "markdown",
   "metadata": {},
   "source": [
    "You might come across a shorter notation with the same effect. Here the series reternd by the filter is used for indexing the data frame:"
   ]
  },
  {
   "cell_type": "code",
   "execution_count": 34,
   "metadata": {},
   "outputs": [
    {
     "data": {
      "text/html": [
       "<div>\n",
       "<style scoped>\n",
       "    .dataframe tbody tr th:only-of-type {\n",
       "        vertical-align: middle;\n",
       "    }\n",
       "\n",
       "    .dataframe tbody tr th {\n",
       "        vertical-align: top;\n",
       "    }\n",
       "\n",
       "    .dataframe thead th {\n",
       "        text-align: right;\n",
       "    }\n",
       "</style>\n",
       "<table border=\"1\" class=\"dataframe\">\n",
       "  <thead>\n",
       "    <tr style=\"text-align: right;\">\n",
       "      <th></th>\n",
       "      <th>Gender</th>\n",
       "      <th>Education</th>\n",
       "      <th>Body_temperature_celsius</th>\n",
       "      <th>points_in_exam</th>\n",
       "      <th>points_bonus</th>\n",
       "    </tr>\n",
       "    <tr>\n",
       "      <th>Name</th>\n",
       "      <th></th>\n",
       "      <th></th>\n",
       "      <th></th>\n",
       "      <th></th>\n",
       "      <th></th>\n",
       "    </tr>\n",
       "  </thead>\n",
       "  <tbody>\n",
       "    <tr>\n",
       "      <th>A</th>\n",
       "      <td>Male</td>\n",
       "      <td>M.Sc.</td>\n",
       "      <td>37.85</td>\n",
       "      <td>0</td>\n",
       "      <td>5</td>\n",
       "    </tr>\n",
       "    <tr>\n",
       "      <th>B</th>\n",
       "      <td>Female</td>\n",
       "      <td>B.Sc.</td>\n",
       "      <td>39.85</td>\n",
       "      <td>100</td>\n",
       "      <td>10</td>\n",
       "    </tr>\n",
       "    <tr>\n",
       "      <th>C</th>\n",
       "      <td>Female</td>\n",
       "      <td>B.Sc.</td>\n",
       "      <td>38.85</td>\n",
       "      <td>80</td>\n",
       "      <td>0</td>\n",
       "    </tr>\n",
       "    <tr>\n",
       "      <th>D</th>\n",
       "      <td>Female</td>\n",
       "      <td>PhD</td>\n",
       "      <td>36.85</td>\n",
       "      <td>80</td>\n",
       "      <td>5</td>\n",
       "    </tr>\n",
       "    <tr>\n",
       "      <th>E</th>\n",
       "      <td>Male</td>\n",
       "      <td>none</td>\n",
       "      <td>37.85</td>\n",
       "      <td>40</td>\n",
       "      <td>5</td>\n",
       "    </tr>\n",
       "  </tbody>\n",
       "</table>\n",
       "</div>"
      ],
      "text/plain": [
       "      Gender Education  Body_temperature_celsius  points_in_exam  points_bonus\n",
       "Name                                                                          \n",
       "A       Male     M.Sc.                     37.85               0             5\n",
       "B     Female     B.Sc.                     39.85             100            10\n",
       "C     Female     B.Sc.                     38.85              80             0\n",
       "D     Female       PhD                     36.85              80             5\n",
       "E       Male      none                     37.85              40             5"
      ]
     },
     "execution_count": 34,
     "metadata": {},
     "output_type": "execute_result"
    }
   ],
   "source": [
    "df"
   ]
  },
  {
   "cell_type": "code",
   "execution_count": 35,
   "metadata": {},
   "outputs": [
    {
     "data": {
      "text/plain": [
       "Name\n",
       "A    False\n",
       "B     True\n",
       "C     True\n",
       "D     True\n",
       "E    False\n",
       "Name: Gender, dtype: bool"
      ]
     },
     "execution_count": 35,
     "metadata": {},
     "output_type": "execute_result"
    }
   ],
   "source": [
    "df[\"Gender\"]==\"Female\"\n"
   ]
  },
  {
   "cell_type": "code",
   "execution_count": 36,
   "metadata": {},
   "outputs": [
    {
     "data": {
      "text/html": [
       "<div>\n",
       "<style scoped>\n",
       "    .dataframe tbody tr th:only-of-type {\n",
       "        vertical-align: middle;\n",
       "    }\n",
       "\n",
       "    .dataframe tbody tr th {\n",
       "        vertical-align: top;\n",
       "    }\n",
       "\n",
       "    .dataframe thead th {\n",
       "        text-align: right;\n",
       "    }\n",
       "</style>\n",
       "<table border=\"1\" class=\"dataframe\">\n",
       "  <thead>\n",
       "    <tr style=\"text-align: right;\">\n",
       "      <th></th>\n",
       "      <th>Gender</th>\n",
       "      <th>Education</th>\n",
       "      <th>Body_temperature_celsius</th>\n",
       "      <th>points_in_exam</th>\n",
       "      <th>points_bonus</th>\n",
       "    </tr>\n",
       "    <tr>\n",
       "      <th>Name</th>\n",
       "      <th></th>\n",
       "      <th></th>\n",
       "      <th></th>\n",
       "      <th></th>\n",
       "      <th></th>\n",
       "    </tr>\n",
       "  </thead>\n",
       "  <tbody>\n",
       "    <tr>\n",
       "      <th>B</th>\n",
       "      <td>Female</td>\n",
       "      <td>B.Sc.</td>\n",
       "      <td>39.85</td>\n",
       "      <td>100</td>\n",
       "      <td>10</td>\n",
       "    </tr>\n",
       "    <tr>\n",
       "      <th>C</th>\n",
       "      <td>Female</td>\n",
       "      <td>B.Sc.</td>\n",
       "      <td>38.85</td>\n",
       "      <td>80</td>\n",
       "      <td>0</td>\n",
       "    </tr>\n",
       "    <tr>\n",
       "      <th>D</th>\n",
       "      <td>Female</td>\n",
       "      <td>PhD</td>\n",
       "      <td>36.85</td>\n",
       "      <td>80</td>\n",
       "      <td>5</td>\n",
       "    </tr>\n",
       "  </tbody>\n",
       "</table>\n",
       "</div>"
      ],
      "text/plain": [
       "      Gender Education  Body_temperature_celsius  points_in_exam  points_bonus\n",
       "Name                                                                          \n",
       "B     Female     B.Sc.                     39.85             100            10\n",
       "C     Female     B.Sc.                     38.85              80             0\n",
       "D     Female       PhD                     36.85              80             5"
      ]
     },
     "execution_count": 36,
     "metadata": {},
     "output_type": "execute_result"
    }
   ],
   "source": [
    "df[df[\"Gender\"]==\"Female\"]\n",
    "# ich möchte df\n",
    "    #df\n",
    "    # an der stelle wo\n",
    "    # df[\"Gender\"]==\"Female\""
   ]
  },
  {
   "cell_type": "code",
   "execution_count": 37,
   "metadata": {},
   "outputs": [
    {
     "data": {
      "text/plain": [
       "Name\n",
       "A      Male\n",
       "B    Female\n",
       "C    Female\n",
       "D    Female\n",
       "E      Male\n",
       "Name: Gender, dtype: object"
      ]
     },
     "execution_count": 37,
     "metadata": {},
     "output_type": "execute_result"
    }
   ],
   "source": [
    "df[\"Gender\"]"
   ]
  },
  {
   "cell_type": "markdown",
   "metadata": {},
   "source": [
    "## Group By\n",
    "\n",
    "Groupby is a pretty simple concept. We can create a grouping of categories and apply a function to the categories. It’s a simple concept but it’s an extremely valuable technique that’s widely used in data science and when working with data bases.\n",
    "\n",
    "- Splitting : It is a process in which we split data into group by applying some conditions on datasets.\n",
    "- Applying : It is a process in which we apply a function to each group independently"
   ]
  },
  {
   "cell_type": "code",
   "execution_count": 38,
   "metadata": {},
   "outputs": [
    {
     "data": {
      "text/html": [
       "<div>\n",
       "<style scoped>\n",
       "    .dataframe tbody tr th:only-of-type {\n",
       "        vertical-align: middle;\n",
       "    }\n",
       "\n",
       "    .dataframe tbody tr th {\n",
       "        vertical-align: top;\n",
       "    }\n",
       "\n",
       "    .dataframe thead th {\n",
       "        text-align: right;\n",
       "    }\n",
       "</style>\n",
       "<table border=\"1\" class=\"dataframe\">\n",
       "  <thead>\n",
       "    <tr style=\"text-align: right;\">\n",
       "      <th></th>\n",
       "      <th>Gender</th>\n",
       "      <th>Education</th>\n",
       "      <th>Body_temperature_celsius</th>\n",
       "      <th>points_in_exam</th>\n",
       "      <th>points_bonus</th>\n",
       "    </tr>\n",
       "    <tr>\n",
       "      <th>Name</th>\n",
       "      <th></th>\n",
       "      <th></th>\n",
       "      <th></th>\n",
       "      <th></th>\n",
       "      <th></th>\n",
       "    </tr>\n",
       "  </thead>\n",
       "  <tbody>\n",
       "    <tr>\n",
       "      <th>A</th>\n",
       "      <td>Male</td>\n",
       "      <td>M.Sc.</td>\n",
       "      <td>37.85</td>\n",
       "      <td>0</td>\n",
       "      <td>5</td>\n",
       "    </tr>\n",
       "    <tr>\n",
       "      <th>B</th>\n",
       "      <td>Female</td>\n",
       "      <td>B.Sc.</td>\n",
       "      <td>39.85</td>\n",
       "      <td>100</td>\n",
       "      <td>10</td>\n",
       "    </tr>\n",
       "    <tr>\n",
       "      <th>C</th>\n",
       "      <td>Female</td>\n",
       "      <td>B.Sc.</td>\n",
       "      <td>38.85</td>\n",
       "      <td>80</td>\n",
       "      <td>0</td>\n",
       "    </tr>\n",
       "    <tr>\n",
       "      <th>D</th>\n",
       "      <td>Female</td>\n",
       "      <td>PhD</td>\n",
       "      <td>36.85</td>\n",
       "      <td>80</td>\n",
       "      <td>5</td>\n",
       "    </tr>\n",
       "    <tr>\n",
       "      <th>E</th>\n",
       "      <td>Male</td>\n",
       "      <td>none</td>\n",
       "      <td>37.85</td>\n",
       "      <td>40</td>\n",
       "      <td>5</td>\n",
       "    </tr>\n",
       "  </tbody>\n",
       "</table>\n",
       "</div>"
      ],
      "text/plain": [
       "      Gender Education  Body_temperature_celsius  points_in_exam  points_bonus\n",
       "Name                                                                          \n",
       "A       Male     M.Sc.                     37.85               0             5\n",
       "B     Female     B.Sc.                     39.85             100            10\n",
       "C     Female     B.Sc.                     38.85              80             0\n",
       "D     Female       PhD                     36.85              80             5\n",
       "E       Male      none                     37.85              40             5"
      ]
     },
     "execution_count": 38,
     "metadata": {},
     "output_type": "execute_result"
    }
   ],
   "source": [
    "df"
   ]
  },
  {
   "cell_type": "code",
   "execution_count": 39,
   "metadata": {},
   "outputs": [
    {
     "name": "stdout",
     "output_type": "stream",
     "text": [
      "{'Female': ['B', 'C', 'D'], 'Male': ['A', 'E']}\n"
     ]
    }
   ],
   "source": [
    "# Splitting the data\n",
    "df.groupby('Gender')\n",
    "print(df.groupby('Gender').groups)"
   ]
  },
  {
   "cell_type": "code",
   "execution_count": 40,
   "metadata": {},
   "outputs": [
    {
     "ename": "TypeError",
     "evalue": "agg function failed [how->mean,dtype->object]",
     "output_type": "error",
     "traceback": [
      "\u001b[1;31m---------------------------------------------------------------------------\u001b[0m",
      "\u001b[1;31mTypeError\u001b[0m                                 Traceback (most recent call last)",
      "File \u001b[1;32mc:\\code\\programmieruebung2\\.venv\\Lib\\site-packages\\pandas\\core\\groupby\\groupby.py:1942\u001b[0m, in \u001b[0;36mGroupBy._agg_py_fallback\u001b[1;34m(self, how, values, ndim, alt)\u001b[0m\n\u001b[0;32m   1941\u001b[0m \u001b[38;5;28;01mtry\u001b[39;00m:\n\u001b[1;32m-> 1942\u001b[0m     res_values \u001b[38;5;241m=\u001b[39m \u001b[38;5;28;43mself\u001b[39;49m\u001b[38;5;241;43m.\u001b[39;49m\u001b[43m_grouper\u001b[49m\u001b[38;5;241;43m.\u001b[39;49m\u001b[43magg_series\u001b[49m\u001b[43m(\u001b[49m\u001b[43mser\u001b[49m\u001b[43m,\u001b[49m\u001b[43m \u001b[49m\u001b[43malt\u001b[49m\u001b[43m,\u001b[49m\u001b[43m \u001b[49m\u001b[43mpreserve_dtype\u001b[49m\u001b[38;5;241;43m=\u001b[39;49m\u001b[38;5;28;43;01mTrue\u001b[39;49;00m\u001b[43m)\u001b[49m\n\u001b[0;32m   1943\u001b[0m \u001b[38;5;28;01mexcept\u001b[39;00m \u001b[38;5;167;01mException\u001b[39;00m \u001b[38;5;28;01mas\u001b[39;00m err:\n",
      "File \u001b[1;32mc:\\code\\programmieruebung2\\.venv\\Lib\\site-packages\\pandas\\core\\groupby\\ops.py:863\u001b[0m, in \u001b[0;36mBaseGrouper.agg_series\u001b[1;34m(self, obj, func, preserve_dtype)\u001b[0m\n\u001b[0;32m    861\u001b[0m     preserve_dtype \u001b[38;5;241m=\u001b[39m \u001b[38;5;28;01mTrue\u001b[39;00m\n\u001b[1;32m--> 863\u001b[0m result \u001b[38;5;241m=\u001b[39m \u001b[38;5;28;43mself\u001b[39;49m\u001b[38;5;241;43m.\u001b[39;49m\u001b[43m_aggregate_series_pure_python\u001b[49m\u001b[43m(\u001b[49m\u001b[43mobj\u001b[49m\u001b[43m,\u001b[49m\u001b[43m \u001b[49m\u001b[43mfunc\u001b[49m\u001b[43m)\u001b[49m\n\u001b[0;32m    865\u001b[0m npvalues \u001b[38;5;241m=\u001b[39m lib\u001b[38;5;241m.\u001b[39mmaybe_convert_objects(result, try_float\u001b[38;5;241m=\u001b[39m\u001b[38;5;28;01mFalse\u001b[39;00m)\n",
      "File \u001b[1;32mc:\\code\\programmieruebung2\\.venv\\Lib\\site-packages\\pandas\\core\\groupby\\ops.py:884\u001b[0m, in \u001b[0;36mBaseGrouper._aggregate_series_pure_python\u001b[1;34m(self, obj, func)\u001b[0m\n\u001b[0;32m    883\u001b[0m \u001b[38;5;28;01mfor\u001b[39;00m i, group \u001b[38;5;129;01min\u001b[39;00m \u001b[38;5;28menumerate\u001b[39m(splitter):\n\u001b[1;32m--> 884\u001b[0m     res \u001b[38;5;241m=\u001b[39m \u001b[43mfunc\u001b[49m\u001b[43m(\u001b[49m\u001b[43mgroup\u001b[49m\u001b[43m)\u001b[49m\n\u001b[0;32m    885\u001b[0m     res \u001b[38;5;241m=\u001b[39m extract_result(res)\n",
      "File \u001b[1;32mc:\\code\\programmieruebung2\\.venv\\Lib\\site-packages\\pandas\\core\\groupby\\groupby.py:2454\u001b[0m, in \u001b[0;36mGroupBy.mean.<locals>.<lambda>\u001b[1;34m(x)\u001b[0m\n\u001b[0;32m   2451\u001b[0m \u001b[38;5;28;01melse\u001b[39;00m:\n\u001b[0;32m   2452\u001b[0m     result \u001b[38;5;241m=\u001b[39m \u001b[38;5;28mself\u001b[39m\u001b[38;5;241m.\u001b[39m_cython_agg_general(\n\u001b[0;32m   2453\u001b[0m         \u001b[38;5;124m\"\u001b[39m\u001b[38;5;124mmean\u001b[39m\u001b[38;5;124m\"\u001b[39m,\n\u001b[1;32m-> 2454\u001b[0m         alt\u001b[38;5;241m=\u001b[39m\u001b[38;5;28;01mlambda\u001b[39;00m x: \u001b[43mSeries\u001b[49m\u001b[43m(\u001b[49m\u001b[43mx\u001b[49m\u001b[43m,\u001b[49m\u001b[43m \u001b[49m\u001b[43mcopy\u001b[49m\u001b[38;5;241;43m=\u001b[39;49m\u001b[38;5;28;43;01mFalse\u001b[39;49;00m\u001b[43m)\u001b[49m\u001b[38;5;241;43m.\u001b[39;49m\u001b[43mmean\u001b[49m\u001b[43m(\u001b[49m\u001b[43mnumeric_only\u001b[49m\u001b[38;5;241;43m=\u001b[39;49m\u001b[43mnumeric_only\u001b[49m\u001b[43m)\u001b[49m,\n\u001b[0;32m   2455\u001b[0m         numeric_only\u001b[38;5;241m=\u001b[39mnumeric_only,\n\u001b[0;32m   2456\u001b[0m     )\n\u001b[0;32m   2457\u001b[0m     \u001b[38;5;28;01mreturn\u001b[39;00m result\u001b[38;5;241m.\u001b[39m__finalize__(\u001b[38;5;28mself\u001b[39m\u001b[38;5;241m.\u001b[39mobj, method\u001b[38;5;241m=\u001b[39m\u001b[38;5;124m\"\u001b[39m\u001b[38;5;124mgroupby\u001b[39m\u001b[38;5;124m\"\u001b[39m)\n",
      "File \u001b[1;32mc:\\code\\programmieruebung2\\.venv\\Lib\\site-packages\\pandas\\core\\series.py:6529\u001b[0m, in \u001b[0;36mSeries.mean\u001b[1;34m(self, axis, skipna, numeric_only, **kwargs)\u001b[0m\n\u001b[0;32m   6521\u001b[0m \u001b[38;5;129m@doc\u001b[39m(make_doc(\u001b[38;5;124m\"\u001b[39m\u001b[38;5;124mmean\u001b[39m\u001b[38;5;124m\"\u001b[39m, ndim\u001b[38;5;241m=\u001b[39m\u001b[38;5;241m1\u001b[39m))\n\u001b[0;32m   6522\u001b[0m \u001b[38;5;28;01mdef\u001b[39;00m \u001b[38;5;21mmean\u001b[39m(\n\u001b[0;32m   6523\u001b[0m     \u001b[38;5;28mself\u001b[39m,\n\u001b[1;32m   (...)\u001b[0m\n\u001b[0;32m   6527\u001b[0m     \u001b[38;5;241m*\u001b[39m\u001b[38;5;241m*\u001b[39mkwargs,\n\u001b[0;32m   6528\u001b[0m ):\n\u001b[1;32m-> 6529\u001b[0m     \u001b[38;5;28;01mreturn\u001b[39;00m \u001b[43mNDFrame\u001b[49m\u001b[38;5;241;43m.\u001b[39;49m\u001b[43mmean\u001b[49m\u001b[43m(\u001b[49m\u001b[38;5;28;43mself\u001b[39;49m\u001b[43m,\u001b[49m\u001b[43m \u001b[49m\u001b[43maxis\u001b[49m\u001b[43m,\u001b[49m\u001b[43m \u001b[49m\u001b[43mskipna\u001b[49m\u001b[43m,\u001b[49m\u001b[43m \u001b[49m\u001b[43mnumeric_only\u001b[49m\u001b[43m,\u001b[49m\u001b[43m \u001b[49m\u001b[38;5;241;43m*\u001b[39;49m\u001b[38;5;241;43m*\u001b[39;49m\u001b[43mkwargs\u001b[49m\u001b[43m)\u001b[49m\n",
      "File \u001b[1;32mc:\\code\\programmieruebung2\\.venv\\Lib\\site-packages\\pandas\\core\\generic.py:12413\u001b[0m, in \u001b[0;36mNDFrame.mean\u001b[1;34m(self, axis, skipna, numeric_only, **kwargs)\u001b[0m\n\u001b[0;32m  12406\u001b[0m \u001b[38;5;28;01mdef\u001b[39;00m \u001b[38;5;21mmean\u001b[39m(\n\u001b[0;32m  12407\u001b[0m     \u001b[38;5;28mself\u001b[39m,\n\u001b[0;32m  12408\u001b[0m     axis: Axis \u001b[38;5;241m|\u001b[39m \u001b[38;5;28;01mNone\u001b[39;00m \u001b[38;5;241m=\u001b[39m \u001b[38;5;241m0\u001b[39m,\n\u001b[1;32m   (...)\u001b[0m\n\u001b[0;32m  12411\u001b[0m     \u001b[38;5;241m*\u001b[39m\u001b[38;5;241m*\u001b[39mkwargs,\n\u001b[0;32m  12412\u001b[0m ) \u001b[38;5;241m-\u001b[39m\u001b[38;5;241m>\u001b[39m Series \u001b[38;5;241m|\u001b[39m \u001b[38;5;28mfloat\u001b[39m:\n\u001b[1;32m> 12413\u001b[0m     \u001b[38;5;28;01mreturn\u001b[39;00m \u001b[38;5;28;43mself\u001b[39;49m\u001b[38;5;241;43m.\u001b[39;49m\u001b[43m_stat_function\u001b[49m\u001b[43m(\u001b[49m\n\u001b[0;32m  12414\u001b[0m \u001b[43m        \u001b[49m\u001b[38;5;124;43m\"\u001b[39;49m\u001b[38;5;124;43mmean\u001b[39;49m\u001b[38;5;124;43m\"\u001b[39;49m\u001b[43m,\u001b[49m\u001b[43m \u001b[49m\u001b[43mnanops\u001b[49m\u001b[38;5;241;43m.\u001b[39;49m\u001b[43mnanmean\u001b[49m\u001b[43m,\u001b[49m\u001b[43m \u001b[49m\u001b[43maxis\u001b[49m\u001b[43m,\u001b[49m\u001b[43m \u001b[49m\u001b[43mskipna\u001b[49m\u001b[43m,\u001b[49m\u001b[43m \u001b[49m\u001b[43mnumeric_only\u001b[49m\u001b[43m,\u001b[49m\u001b[43m \u001b[49m\u001b[38;5;241;43m*\u001b[39;49m\u001b[38;5;241;43m*\u001b[39;49m\u001b[43mkwargs\u001b[49m\n\u001b[0;32m  12415\u001b[0m \u001b[43m    \u001b[49m\u001b[43m)\u001b[49m\n",
      "File \u001b[1;32mc:\\code\\programmieruebung2\\.venv\\Lib\\site-packages\\pandas\\core\\generic.py:12370\u001b[0m, in \u001b[0;36mNDFrame._stat_function\u001b[1;34m(self, name, func, axis, skipna, numeric_only, **kwargs)\u001b[0m\n\u001b[0;32m  12368\u001b[0m validate_bool_kwarg(skipna, \u001b[38;5;124m\"\u001b[39m\u001b[38;5;124mskipna\u001b[39m\u001b[38;5;124m\"\u001b[39m, none_allowed\u001b[38;5;241m=\u001b[39m\u001b[38;5;28;01mFalse\u001b[39;00m)\n\u001b[1;32m> 12370\u001b[0m \u001b[38;5;28;01mreturn\u001b[39;00m \u001b[38;5;28;43mself\u001b[39;49m\u001b[38;5;241;43m.\u001b[39;49m\u001b[43m_reduce\u001b[49m\u001b[43m(\u001b[49m\n\u001b[0;32m  12371\u001b[0m \u001b[43m    \u001b[49m\u001b[43mfunc\u001b[49m\u001b[43m,\u001b[49m\u001b[43m \u001b[49m\u001b[43mname\u001b[49m\u001b[38;5;241;43m=\u001b[39;49m\u001b[43mname\u001b[49m\u001b[43m,\u001b[49m\u001b[43m \u001b[49m\u001b[43maxis\u001b[49m\u001b[38;5;241;43m=\u001b[39;49m\u001b[43maxis\u001b[49m\u001b[43m,\u001b[49m\u001b[43m \u001b[49m\u001b[43mskipna\u001b[49m\u001b[38;5;241;43m=\u001b[39;49m\u001b[43mskipna\u001b[49m\u001b[43m,\u001b[49m\u001b[43m \u001b[49m\u001b[43mnumeric_only\u001b[49m\u001b[38;5;241;43m=\u001b[39;49m\u001b[43mnumeric_only\u001b[49m\n\u001b[0;32m  12372\u001b[0m \u001b[43m\u001b[49m\u001b[43m)\u001b[49m\n",
      "File \u001b[1;32mc:\\code\\programmieruebung2\\.venv\\Lib\\site-packages\\pandas\\core\\series.py:6437\u001b[0m, in \u001b[0;36mSeries._reduce\u001b[1;34m(self, op, name, axis, skipna, numeric_only, filter_type, **kwds)\u001b[0m\n\u001b[0;32m   6433\u001b[0m     \u001b[38;5;28;01mraise\u001b[39;00m \u001b[38;5;167;01mTypeError\u001b[39;00m(\n\u001b[0;32m   6434\u001b[0m         \u001b[38;5;124mf\u001b[39m\u001b[38;5;124m\"\u001b[39m\u001b[38;5;124mSeries.\u001b[39m\u001b[38;5;132;01m{\u001b[39;00mname\u001b[38;5;132;01m}\u001b[39;00m\u001b[38;5;124m does not allow \u001b[39m\u001b[38;5;132;01m{\u001b[39;00mkwd_name\u001b[38;5;132;01m}\u001b[39;00m\u001b[38;5;124m=\u001b[39m\u001b[38;5;132;01m{\u001b[39;00mnumeric_only\u001b[38;5;132;01m}\u001b[39;00m\u001b[38;5;124m \u001b[39m\u001b[38;5;124m\"\u001b[39m\n\u001b[0;32m   6435\u001b[0m         \u001b[38;5;124m\"\u001b[39m\u001b[38;5;124mwith non-numeric dtypes.\u001b[39m\u001b[38;5;124m\"\u001b[39m\n\u001b[0;32m   6436\u001b[0m     )\n\u001b[1;32m-> 6437\u001b[0m \u001b[38;5;28;01mreturn\u001b[39;00m \u001b[43mop\u001b[49m\u001b[43m(\u001b[49m\u001b[43mdelegate\u001b[49m\u001b[43m,\u001b[49m\u001b[43m \u001b[49m\u001b[43mskipna\u001b[49m\u001b[38;5;241;43m=\u001b[39;49m\u001b[43mskipna\u001b[49m\u001b[43m,\u001b[49m\u001b[43m \u001b[49m\u001b[38;5;241;43m*\u001b[39;49m\u001b[38;5;241;43m*\u001b[39;49m\u001b[43mkwds\u001b[49m\u001b[43m)\u001b[49m\n",
      "File \u001b[1;32mc:\\code\\programmieruebung2\\.venv\\Lib\\site-packages\\pandas\\core\\nanops.py:147\u001b[0m, in \u001b[0;36mbottleneck_switch.__call__.<locals>.f\u001b[1;34m(values, axis, skipna, **kwds)\u001b[0m\n\u001b[0;32m    146\u001b[0m \u001b[38;5;28;01melse\u001b[39;00m:\n\u001b[1;32m--> 147\u001b[0m     result \u001b[38;5;241m=\u001b[39m \u001b[43malt\u001b[49m\u001b[43m(\u001b[49m\u001b[43mvalues\u001b[49m\u001b[43m,\u001b[49m\u001b[43m \u001b[49m\u001b[43maxis\u001b[49m\u001b[38;5;241;43m=\u001b[39;49m\u001b[43maxis\u001b[49m\u001b[43m,\u001b[49m\u001b[43m \u001b[49m\u001b[43mskipna\u001b[49m\u001b[38;5;241;43m=\u001b[39;49m\u001b[43mskipna\u001b[49m\u001b[43m,\u001b[49m\u001b[43m \u001b[49m\u001b[38;5;241;43m*\u001b[39;49m\u001b[38;5;241;43m*\u001b[39;49m\u001b[43mkwds\u001b[49m\u001b[43m)\u001b[49m\n\u001b[0;32m    149\u001b[0m \u001b[38;5;28;01mreturn\u001b[39;00m result\n",
      "File \u001b[1;32mc:\\code\\programmieruebung2\\.venv\\Lib\\site-packages\\pandas\\core\\nanops.py:404\u001b[0m, in \u001b[0;36m_datetimelike_compat.<locals>.new_func\u001b[1;34m(values, axis, skipna, mask, **kwargs)\u001b[0m\n\u001b[0;32m    402\u001b[0m     mask \u001b[38;5;241m=\u001b[39m isna(values)\n\u001b[1;32m--> 404\u001b[0m result \u001b[38;5;241m=\u001b[39m \u001b[43mfunc\u001b[49m\u001b[43m(\u001b[49m\u001b[43mvalues\u001b[49m\u001b[43m,\u001b[49m\u001b[43m \u001b[49m\u001b[43maxis\u001b[49m\u001b[38;5;241;43m=\u001b[39;49m\u001b[43maxis\u001b[49m\u001b[43m,\u001b[49m\u001b[43m \u001b[49m\u001b[43mskipna\u001b[49m\u001b[38;5;241;43m=\u001b[39;49m\u001b[43mskipna\u001b[49m\u001b[43m,\u001b[49m\u001b[43m \u001b[49m\u001b[43mmask\u001b[49m\u001b[38;5;241;43m=\u001b[39;49m\u001b[43mmask\u001b[49m\u001b[43m,\u001b[49m\u001b[43m \u001b[49m\u001b[38;5;241;43m*\u001b[39;49m\u001b[38;5;241;43m*\u001b[39;49m\u001b[43mkwargs\u001b[49m\u001b[43m)\u001b[49m\n\u001b[0;32m    406\u001b[0m \u001b[38;5;28;01mif\u001b[39;00m datetimelike:\n",
      "File \u001b[1;32mc:\\code\\programmieruebung2\\.venv\\Lib\\site-packages\\pandas\\core\\nanops.py:720\u001b[0m, in \u001b[0;36mnanmean\u001b[1;34m(values, axis, skipna, mask)\u001b[0m\n\u001b[0;32m    719\u001b[0m the_sum \u001b[38;5;241m=\u001b[39m values\u001b[38;5;241m.\u001b[39msum(axis, dtype\u001b[38;5;241m=\u001b[39mdtype_sum)\n\u001b[1;32m--> 720\u001b[0m the_sum \u001b[38;5;241m=\u001b[39m \u001b[43m_ensure_numeric\u001b[49m\u001b[43m(\u001b[49m\u001b[43mthe_sum\u001b[49m\u001b[43m)\u001b[49m\n\u001b[0;32m    722\u001b[0m \u001b[38;5;28;01mif\u001b[39;00m axis \u001b[38;5;129;01mis\u001b[39;00m \u001b[38;5;129;01mnot\u001b[39;00m \u001b[38;5;28;01mNone\u001b[39;00m \u001b[38;5;129;01mand\u001b[39;00m \u001b[38;5;28mgetattr\u001b[39m(the_sum, \u001b[38;5;124m\"\u001b[39m\u001b[38;5;124mndim\u001b[39m\u001b[38;5;124m\"\u001b[39m, \u001b[38;5;28;01mFalse\u001b[39;00m):\n",
      "File \u001b[1;32mc:\\code\\programmieruebung2\\.venv\\Lib\\site-packages\\pandas\\core\\nanops.py:1701\u001b[0m, in \u001b[0;36m_ensure_numeric\u001b[1;34m(x)\u001b[0m\n\u001b[0;32m   1699\u001b[0m \u001b[38;5;28;01mif\u001b[39;00m \u001b[38;5;28misinstance\u001b[39m(x, \u001b[38;5;28mstr\u001b[39m):\n\u001b[0;32m   1700\u001b[0m     \u001b[38;5;66;03m# GH#44008, GH#36703 avoid casting e.g. strings to numeric\u001b[39;00m\n\u001b[1;32m-> 1701\u001b[0m     \u001b[38;5;28;01mraise\u001b[39;00m \u001b[38;5;167;01mTypeError\u001b[39;00m(\u001b[38;5;124mf\u001b[39m\u001b[38;5;124m\"\u001b[39m\u001b[38;5;124mCould not convert string \u001b[39m\u001b[38;5;124m'\u001b[39m\u001b[38;5;132;01m{\u001b[39;00mx\u001b[38;5;132;01m}\u001b[39;00m\u001b[38;5;124m'\u001b[39m\u001b[38;5;124m to numeric\u001b[39m\u001b[38;5;124m\"\u001b[39m)\n\u001b[0;32m   1702\u001b[0m \u001b[38;5;28;01mtry\u001b[39;00m:\n",
      "\u001b[1;31mTypeError\u001b[0m: Could not convert string 'B.Sc.B.Sc.PhD' to numeric",
      "\nThe above exception was the direct cause of the following exception:\n",
      "\u001b[1;31mTypeError\u001b[0m                                 Traceback (most recent call last)",
      "Cell \u001b[1;32mIn[40], line 2\u001b[0m\n\u001b[0;32m      1\u001b[0m \u001b[38;5;66;03m# Splitting and applying a fuction\u001b[39;00m\n\u001b[1;32m----> 2\u001b[0m \u001b[43mdf\u001b[49m\u001b[38;5;241;43m.\u001b[39;49m\u001b[43mgroupby\u001b[49m\u001b[43m(\u001b[49m\u001b[38;5;124;43m'\u001b[39;49m\u001b[38;5;124;43mGender\u001b[39;49m\u001b[38;5;124;43m'\u001b[39;49m\u001b[43m)\u001b[49m\u001b[38;5;241;43m.\u001b[39;49m\u001b[43mmean\u001b[49m\u001b[43m(\u001b[49m\u001b[43m)\u001b[49m\n",
      "File \u001b[1;32mc:\\code\\programmieruebung2\\.venv\\Lib\\site-packages\\pandas\\core\\groupby\\groupby.py:2452\u001b[0m, in \u001b[0;36mGroupBy.mean\u001b[1;34m(self, numeric_only, engine, engine_kwargs)\u001b[0m\n\u001b[0;32m   2445\u001b[0m     \u001b[38;5;28;01mreturn\u001b[39;00m \u001b[38;5;28mself\u001b[39m\u001b[38;5;241m.\u001b[39m_numba_agg_general(\n\u001b[0;32m   2446\u001b[0m         grouped_mean,\n\u001b[0;32m   2447\u001b[0m         executor\u001b[38;5;241m.\u001b[39mfloat_dtype_mapping,\n\u001b[0;32m   2448\u001b[0m         engine_kwargs,\n\u001b[0;32m   2449\u001b[0m         min_periods\u001b[38;5;241m=\u001b[39m\u001b[38;5;241m0\u001b[39m,\n\u001b[0;32m   2450\u001b[0m     )\n\u001b[0;32m   2451\u001b[0m \u001b[38;5;28;01melse\u001b[39;00m:\n\u001b[1;32m-> 2452\u001b[0m     result \u001b[38;5;241m=\u001b[39m \u001b[38;5;28;43mself\u001b[39;49m\u001b[38;5;241;43m.\u001b[39;49m\u001b[43m_cython_agg_general\u001b[49m\u001b[43m(\u001b[49m\n\u001b[0;32m   2453\u001b[0m \u001b[43m        \u001b[49m\u001b[38;5;124;43m\"\u001b[39;49m\u001b[38;5;124;43mmean\u001b[39;49m\u001b[38;5;124;43m\"\u001b[39;49m\u001b[43m,\u001b[49m\n\u001b[0;32m   2454\u001b[0m \u001b[43m        \u001b[49m\u001b[43malt\u001b[49m\u001b[38;5;241;43m=\u001b[39;49m\u001b[38;5;28;43;01mlambda\u001b[39;49;00m\u001b[43m \u001b[49m\u001b[43mx\u001b[49m\u001b[43m:\u001b[49m\u001b[43m \u001b[49m\u001b[43mSeries\u001b[49m\u001b[43m(\u001b[49m\u001b[43mx\u001b[49m\u001b[43m,\u001b[49m\u001b[43m \u001b[49m\u001b[43mcopy\u001b[49m\u001b[38;5;241;43m=\u001b[39;49m\u001b[38;5;28;43;01mFalse\u001b[39;49;00m\u001b[43m)\u001b[49m\u001b[38;5;241;43m.\u001b[39;49m\u001b[43mmean\u001b[49m\u001b[43m(\u001b[49m\u001b[43mnumeric_only\u001b[49m\u001b[38;5;241;43m=\u001b[39;49m\u001b[43mnumeric_only\u001b[49m\u001b[43m)\u001b[49m\u001b[43m,\u001b[49m\n\u001b[0;32m   2455\u001b[0m \u001b[43m        \u001b[49m\u001b[43mnumeric_only\u001b[49m\u001b[38;5;241;43m=\u001b[39;49m\u001b[43mnumeric_only\u001b[49m\u001b[43m,\u001b[49m\n\u001b[0;32m   2456\u001b[0m \u001b[43m    \u001b[49m\u001b[43m)\u001b[49m\n\u001b[0;32m   2457\u001b[0m     \u001b[38;5;28;01mreturn\u001b[39;00m result\u001b[38;5;241m.\u001b[39m__finalize__(\u001b[38;5;28mself\u001b[39m\u001b[38;5;241m.\u001b[39mobj, method\u001b[38;5;241m=\u001b[39m\u001b[38;5;124m\"\u001b[39m\u001b[38;5;124mgroupby\u001b[39m\u001b[38;5;124m\"\u001b[39m)\n",
      "File \u001b[1;32mc:\\code\\programmieruebung2\\.venv\\Lib\\site-packages\\pandas\\core\\groupby\\groupby.py:1998\u001b[0m, in \u001b[0;36mGroupBy._cython_agg_general\u001b[1;34m(self, how, alt, numeric_only, min_count, **kwargs)\u001b[0m\n\u001b[0;32m   1995\u001b[0m     result \u001b[38;5;241m=\u001b[39m \u001b[38;5;28mself\u001b[39m\u001b[38;5;241m.\u001b[39m_agg_py_fallback(how, values, ndim\u001b[38;5;241m=\u001b[39mdata\u001b[38;5;241m.\u001b[39mndim, alt\u001b[38;5;241m=\u001b[39malt)\n\u001b[0;32m   1996\u001b[0m     \u001b[38;5;28;01mreturn\u001b[39;00m result\n\u001b[1;32m-> 1998\u001b[0m new_mgr \u001b[38;5;241m=\u001b[39m \u001b[43mdata\u001b[49m\u001b[38;5;241;43m.\u001b[39;49m\u001b[43mgrouped_reduce\u001b[49m\u001b[43m(\u001b[49m\u001b[43marray_func\u001b[49m\u001b[43m)\u001b[49m\n\u001b[0;32m   1999\u001b[0m res \u001b[38;5;241m=\u001b[39m \u001b[38;5;28mself\u001b[39m\u001b[38;5;241m.\u001b[39m_wrap_agged_manager(new_mgr)\n\u001b[0;32m   2000\u001b[0m \u001b[38;5;28;01mif\u001b[39;00m how \u001b[38;5;129;01min\u001b[39;00m [\u001b[38;5;124m\"\u001b[39m\u001b[38;5;124midxmin\u001b[39m\u001b[38;5;124m\"\u001b[39m, \u001b[38;5;124m\"\u001b[39m\u001b[38;5;124midxmax\u001b[39m\u001b[38;5;124m\"\u001b[39m]:\n",
      "File \u001b[1;32mc:\\code\\programmieruebung2\\.venv\\Lib\\site-packages\\pandas\\core\\internals\\managers.py:1470\u001b[0m, in \u001b[0;36mBlockManager.grouped_reduce\u001b[1;34m(self, func)\u001b[0m\n\u001b[0;32m   1466\u001b[0m \u001b[38;5;28;01mif\u001b[39;00m blk\u001b[38;5;241m.\u001b[39mis_object:\n\u001b[0;32m   1467\u001b[0m     \u001b[38;5;66;03m# split on object-dtype blocks bc some columns may raise\u001b[39;00m\n\u001b[0;32m   1468\u001b[0m     \u001b[38;5;66;03m#  while others do not.\u001b[39;00m\n\u001b[0;32m   1469\u001b[0m     \u001b[38;5;28;01mfor\u001b[39;00m sb \u001b[38;5;129;01min\u001b[39;00m blk\u001b[38;5;241m.\u001b[39m_split():\n\u001b[1;32m-> 1470\u001b[0m         applied \u001b[38;5;241m=\u001b[39m \u001b[43msb\u001b[49m\u001b[38;5;241;43m.\u001b[39;49m\u001b[43mapply\u001b[49m\u001b[43m(\u001b[49m\u001b[43mfunc\u001b[49m\u001b[43m)\u001b[49m\n\u001b[0;32m   1471\u001b[0m         result_blocks \u001b[38;5;241m=\u001b[39m extend_blocks(applied, result_blocks)\n\u001b[0;32m   1472\u001b[0m \u001b[38;5;28;01melse\u001b[39;00m:\n",
      "File \u001b[1;32mc:\\code\\programmieruebung2\\.venv\\Lib\\site-packages\\pandas\\core\\internals\\blocks.py:393\u001b[0m, in \u001b[0;36mBlock.apply\u001b[1;34m(self, func, **kwargs)\u001b[0m\n\u001b[0;32m    387\u001b[0m \u001b[38;5;129m@final\u001b[39m\n\u001b[0;32m    388\u001b[0m \u001b[38;5;28;01mdef\u001b[39;00m \u001b[38;5;21mapply\u001b[39m(\u001b[38;5;28mself\u001b[39m, func, \u001b[38;5;241m*\u001b[39m\u001b[38;5;241m*\u001b[39mkwargs) \u001b[38;5;241m-\u001b[39m\u001b[38;5;241m>\u001b[39m \u001b[38;5;28mlist\u001b[39m[Block]:\n\u001b[0;32m    389\u001b[0m \u001b[38;5;250m    \u001b[39m\u001b[38;5;124;03m\"\"\"\u001b[39;00m\n\u001b[0;32m    390\u001b[0m \u001b[38;5;124;03m    apply the function to my values; return a block if we are not\u001b[39;00m\n\u001b[0;32m    391\u001b[0m \u001b[38;5;124;03m    one\u001b[39;00m\n\u001b[0;32m    392\u001b[0m \u001b[38;5;124;03m    \"\"\"\u001b[39;00m\n\u001b[1;32m--> 393\u001b[0m     result \u001b[38;5;241m=\u001b[39m \u001b[43mfunc\u001b[49m\u001b[43m(\u001b[49m\u001b[38;5;28;43mself\u001b[39;49m\u001b[38;5;241;43m.\u001b[39;49m\u001b[43mvalues\u001b[49m\u001b[43m,\u001b[49m\u001b[43m \u001b[49m\u001b[38;5;241;43m*\u001b[39;49m\u001b[38;5;241;43m*\u001b[39;49m\u001b[43mkwargs\u001b[49m\u001b[43m)\u001b[49m\n\u001b[0;32m    395\u001b[0m     result \u001b[38;5;241m=\u001b[39m maybe_coerce_values(result)\n\u001b[0;32m    396\u001b[0m     \u001b[38;5;28;01mreturn\u001b[39;00m \u001b[38;5;28mself\u001b[39m\u001b[38;5;241m.\u001b[39m_split_op_result(result)\n",
      "File \u001b[1;32mc:\\code\\programmieruebung2\\.venv\\Lib\\site-packages\\pandas\\core\\groupby\\groupby.py:1995\u001b[0m, in \u001b[0;36mGroupBy._cython_agg_general.<locals>.array_func\u001b[1;34m(values)\u001b[0m\n\u001b[0;32m   1992\u001b[0m     \u001b[38;5;28;01mreturn\u001b[39;00m result\n\u001b[0;32m   1994\u001b[0m \u001b[38;5;28;01massert\u001b[39;00m alt \u001b[38;5;129;01mis\u001b[39;00m \u001b[38;5;129;01mnot\u001b[39;00m \u001b[38;5;28;01mNone\u001b[39;00m\n\u001b[1;32m-> 1995\u001b[0m result \u001b[38;5;241m=\u001b[39m \u001b[38;5;28;43mself\u001b[39;49m\u001b[38;5;241;43m.\u001b[39;49m\u001b[43m_agg_py_fallback\u001b[49m\u001b[43m(\u001b[49m\u001b[43mhow\u001b[49m\u001b[43m,\u001b[49m\u001b[43m \u001b[49m\u001b[43mvalues\u001b[49m\u001b[43m,\u001b[49m\u001b[43m \u001b[49m\u001b[43mndim\u001b[49m\u001b[38;5;241;43m=\u001b[39;49m\u001b[43mdata\u001b[49m\u001b[38;5;241;43m.\u001b[39;49m\u001b[43mndim\u001b[49m\u001b[43m,\u001b[49m\u001b[43m \u001b[49m\u001b[43malt\u001b[49m\u001b[38;5;241;43m=\u001b[39;49m\u001b[43malt\u001b[49m\u001b[43m)\u001b[49m\n\u001b[0;32m   1996\u001b[0m \u001b[38;5;28;01mreturn\u001b[39;00m result\n",
      "File \u001b[1;32mc:\\code\\programmieruebung2\\.venv\\Lib\\site-packages\\pandas\\core\\groupby\\groupby.py:1946\u001b[0m, in \u001b[0;36mGroupBy._agg_py_fallback\u001b[1;34m(self, how, values, ndim, alt)\u001b[0m\n\u001b[0;32m   1944\u001b[0m     msg \u001b[38;5;241m=\u001b[39m \u001b[38;5;124mf\u001b[39m\u001b[38;5;124m\"\u001b[39m\u001b[38;5;124magg function failed [how->\u001b[39m\u001b[38;5;132;01m{\u001b[39;00mhow\u001b[38;5;132;01m}\u001b[39;00m\u001b[38;5;124m,dtype->\u001b[39m\u001b[38;5;132;01m{\u001b[39;00mser\u001b[38;5;241m.\u001b[39mdtype\u001b[38;5;132;01m}\u001b[39;00m\u001b[38;5;124m]\u001b[39m\u001b[38;5;124m\"\u001b[39m\n\u001b[0;32m   1945\u001b[0m     \u001b[38;5;66;03m# preserve the kind of exception that raised\u001b[39;00m\n\u001b[1;32m-> 1946\u001b[0m     \u001b[38;5;28;01mraise\u001b[39;00m \u001b[38;5;28mtype\u001b[39m(err)(msg) \u001b[38;5;28;01mfrom\u001b[39;00m \u001b[38;5;21;01merr\u001b[39;00m\n\u001b[0;32m   1948\u001b[0m \u001b[38;5;28;01mif\u001b[39;00m ser\u001b[38;5;241m.\u001b[39mdtype \u001b[38;5;241m==\u001b[39m \u001b[38;5;28mobject\u001b[39m:\n\u001b[0;32m   1949\u001b[0m     res_values \u001b[38;5;241m=\u001b[39m res_values\u001b[38;5;241m.\u001b[39mastype(\u001b[38;5;28mobject\u001b[39m, copy\u001b[38;5;241m=\u001b[39m\u001b[38;5;28;01mFalse\u001b[39;00m)\n",
      "\u001b[1;31mTypeError\u001b[0m: agg function failed [how->mean,dtype->object]"
     ]
    }
   ],
   "source": [
    "# Splitting and applying a fuction\n",
    "df.groupby('Gender').mean()"
   ]
  },
  {
   "cell_type": "markdown",
   "metadata": {},
   "source": [
    "✍️ **Task**\n",
    "\n",
    "Split the data by the highest education and return the minimum points in the exam in each group. Try to return a series with only the eduction and the points  "
   ]
  },
  {
   "cell_type": "code",
   "execution_count": null,
   "metadata": {},
   "outputs": [],
   "source": []
  },
  {
   "cell_type": "code",
   "execution_count": null,
   "metadata": {},
   "outputs": [
    {
     "data": {
      "text/html": [
       "<div>\n",
       "<style scoped>\n",
       "    .dataframe tbody tr th:only-of-type {\n",
       "        vertical-align: middle;\n",
       "    }\n",
       "\n",
       "    .dataframe tbody tr th {\n",
       "        vertical-align: top;\n",
       "    }\n",
       "\n",
       "    .dataframe thead th {\n",
       "        text-align: right;\n",
       "    }\n",
       "</style>\n",
       "<table border=\"1\" class=\"dataframe\">\n",
       "  <thead>\n",
       "    <tr style=\"text-align: right;\">\n",
       "      <th></th>\n",
       "      <th>Gender</th>\n",
       "      <th>Body_temperature_celsius</th>\n",
       "      <th>points_in_exam</th>\n",
       "    </tr>\n",
       "    <tr>\n",
       "      <th>Education</th>\n",
       "      <th></th>\n",
       "      <th></th>\n",
       "      <th></th>\n",
       "    </tr>\n",
       "  </thead>\n",
       "  <tbody>\n",
       "    <tr>\n",
       "      <th>B.Sc.</th>\n",
       "      <td>Female</td>\n",
       "      <td>38.85</td>\n",
       "      <td>80</td>\n",
       "    </tr>\n",
       "    <tr>\n",
       "      <th>M.Sc.</th>\n",
       "      <td>Male</td>\n",
       "      <td>37.85</td>\n",
       "      <td>0</td>\n",
       "    </tr>\n",
       "    <tr>\n",
       "      <th>PhD</th>\n",
       "      <td>Female</td>\n",
       "      <td>36.85</td>\n",
       "      <td>80</td>\n",
       "    </tr>\n",
       "    <tr>\n",
       "      <th>none</th>\n",
       "      <td>Male</td>\n",
       "      <td>37.85</td>\n",
       "      <td>40</td>\n",
       "    </tr>\n",
       "  </tbody>\n",
       "</table>\n",
       "</div>"
      ],
      "text/plain": [
       "           Gender  Body_temperature_celsius  points_in_exam\n",
       "Education                                                  \n",
       "B.Sc.      Female                     38.85              80\n",
       "M.Sc.        Male                     37.85               0\n",
       "PhD        Female                     36.85              80\n",
       "none         Male                     37.85              40"
      ]
     },
     "execution_count": 11,
     "metadata": {},
     "output_type": "execute_result"
    }
   ],
   "source": [
    "#@title ❓ Click `Show code` in the code cell to show the solution. { display-mode: \"form\" }\n",
    "\n",
    "df.groupby('Education').min()"
   ]
  },
  {
   "cell_type": "code",
   "execution_count": null,
   "metadata": {},
   "outputs": [
    {
     "data": {
      "text/plain": [
       "Education\n",
       "B.Sc.    80\n",
       "M.Sc.     0\n",
       "PhD      80\n",
       "none     40\n",
       "Name: points_in_exam, dtype: int64"
      ]
     },
     "execution_count": 12,
     "metadata": {},
     "output_type": "execute_result"
    }
   ],
   "source": [
    "df.groupby('Education').min()['points_in_exam']"
   ]
  },
  {
   "cell_type": "markdown",
   "metadata": {},
   "source": [
    "## Operations on Columns\n",
    "\n",
    "Pandas allows operations on the colums. For instance, you can use a constant value You apply to all columns.\n"
   ]
  },
  {
   "cell_type": "code",
   "execution_count": 41,
   "metadata": {},
   "outputs": [
    {
     "data": {
      "text/plain": [
       "Name\n",
       "A      0\n",
       "B    100\n",
       "C     80\n",
       "D     80\n",
       "E     40\n",
       "Name: points_in_exam, dtype: int64"
      ]
     },
     "execution_count": 41,
     "metadata": {},
     "output_type": "execute_result"
    }
   ],
   "source": [
    "# Changing Colums\n",
    "df['points_in_exam']"
   ]
  },
  {
   "cell_type": "markdown",
   "metadata": {},
   "source": [
    "or operate on colums of the same row:"
   ]
  },
  {
   "cell_type": "code",
   "execution_count": 42,
   "metadata": {},
   "outputs": [
    {
     "data": {
      "text/html": [
       "<div>\n",
       "<style scoped>\n",
       "    .dataframe tbody tr th:only-of-type {\n",
       "        vertical-align: middle;\n",
       "    }\n",
       "\n",
       "    .dataframe tbody tr th {\n",
       "        vertical-align: top;\n",
       "    }\n",
       "\n",
       "    .dataframe thead th {\n",
       "        text-align: right;\n",
       "    }\n",
       "</style>\n",
       "<table border=\"1\" class=\"dataframe\">\n",
       "  <thead>\n",
       "    <tr style=\"text-align: right;\">\n",
       "      <th></th>\n",
       "      <th>Gender</th>\n",
       "      <th>Education</th>\n",
       "      <th>Body_temperature_celsius</th>\n",
       "      <th>points_in_exam</th>\n",
       "      <th>points_bonus</th>\n",
       "    </tr>\n",
       "    <tr>\n",
       "      <th>Name</th>\n",
       "      <th></th>\n",
       "      <th></th>\n",
       "      <th></th>\n",
       "      <th></th>\n",
       "      <th></th>\n",
       "    </tr>\n",
       "  </thead>\n",
       "  <tbody>\n",
       "    <tr>\n",
       "      <th>A</th>\n",
       "      <td>Male</td>\n",
       "      <td>M.Sc.</td>\n",
       "      <td>37.85</td>\n",
       "      <td>0</td>\n",
       "      <td>5</td>\n",
       "    </tr>\n",
       "    <tr>\n",
       "      <th>B</th>\n",
       "      <td>Female</td>\n",
       "      <td>B.Sc.</td>\n",
       "      <td>39.85</td>\n",
       "      <td>100</td>\n",
       "      <td>10</td>\n",
       "    </tr>\n",
       "    <tr>\n",
       "      <th>C</th>\n",
       "      <td>Female</td>\n",
       "      <td>B.Sc.</td>\n",
       "      <td>38.85</td>\n",
       "      <td>80</td>\n",
       "      <td>0</td>\n",
       "    </tr>\n",
       "    <tr>\n",
       "      <th>D</th>\n",
       "      <td>Female</td>\n",
       "      <td>PhD</td>\n",
       "      <td>36.85</td>\n",
       "      <td>80</td>\n",
       "      <td>5</td>\n",
       "    </tr>\n",
       "    <tr>\n",
       "      <th>E</th>\n",
       "      <td>Male</td>\n",
       "      <td>none</td>\n",
       "      <td>37.85</td>\n",
       "      <td>40</td>\n",
       "      <td>5</td>\n",
       "    </tr>\n",
       "  </tbody>\n",
       "</table>\n",
       "</div>"
      ],
      "text/plain": [
       "      Gender Education  Body_temperature_celsius  points_in_exam  points_bonus\n",
       "Name                                                                          \n",
       "A       Male     M.Sc.                     37.85               0             5\n",
       "B     Female     B.Sc.                     39.85             100            10\n",
       "C     Female     B.Sc.                     38.85              80             0\n",
       "D     Female       PhD                     36.85              80             5\n",
       "E       Male      none                     37.85              40             5"
      ]
     },
     "execution_count": 42,
     "metadata": {},
     "output_type": "execute_result"
    }
   ],
   "source": [
    "df"
   ]
  },
  {
   "cell_type": "code",
   "execution_count": 43,
   "metadata": {},
   "outputs": [
    {
     "data": {
      "text/html": [
       "<div>\n",
       "<style scoped>\n",
       "    .dataframe tbody tr th:only-of-type {\n",
       "        vertical-align: middle;\n",
       "    }\n",
       "\n",
       "    .dataframe tbody tr th {\n",
       "        vertical-align: top;\n",
       "    }\n",
       "\n",
       "    .dataframe thead th {\n",
       "        text-align: right;\n",
       "    }\n",
       "</style>\n",
       "<table border=\"1\" class=\"dataframe\">\n",
       "  <thead>\n",
       "    <tr style=\"text-align: right;\">\n",
       "      <th></th>\n",
       "      <th>Gender</th>\n",
       "      <th>Education</th>\n",
       "      <th>Body_temperature_celsius</th>\n",
       "      <th>points_in_exam</th>\n",
       "      <th>points_bonus</th>\n",
       "      <th>sum_points</th>\n",
       "    </tr>\n",
       "    <tr>\n",
       "      <th>Name</th>\n",
       "      <th></th>\n",
       "      <th></th>\n",
       "      <th></th>\n",
       "      <th></th>\n",
       "      <th></th>\n",
       "      <th></th>\n",
       "    </tr>\n",
       "  </thead>\n",
       "  <tbody>\n",
       "    <tr>\n",
       "      <th>A</th>\n",
       "      <td>Male</td>\n",
       "      <td>M.Sc.</td>\n",
       "      <td>37.85</td>\n",
       "      <td>0</td>\n",
       "      <td>5</td>\n",
       "      <td>5</td>\n",
       "    </tr>\n",
       "    <tr>\n",
       "      <th>B</th>\n",
       "      <td>Female</td>\n",
       "      <td>B.Sc.</td>\n",
       "      <td>39.85</td>\n",
       "      <td>100</td>\n",
       "      <td>10</td>\n",
       "      <td>110</td>\n",
       "    </tr>\n",
       "    <tr>\n",
       "      <th>C</th>\n",
       "      <td>Female</td>\n",
       "      <td>B.Sc.</td>\n",
       "      <td>38.85</td>\n",
       "      <td>80</td>\n",
       "      <td>0</td>\n",
       "      <td>80</td>\n",
       "    </tr>\n",
       "    <tr>\n",
       "      <th>D</th>\n",
       "      <td>Female</td>\n",
       "      <td>PhD</td>\n",
       "      <td>36.85</td>\n",
       "      <td>80</td>\n",
       "      <td>5</td>\n",
       "      <td>85</td>\n",
       "    </tr>\n",
       "    <tr>\n",
       "      <th>E</th>\n",
       "      <td>Male</td>\n",
       "      <td>none</td>\n",
       "      <td>37.85</td>\n",
       "      <td>40</td>\n",
       "      <td>5</td>\n",
       "      <td>45</td>\n",
       "    </tr>\n",
       "  </tbody>\n",
       "</table>\n",
       "</div>"
      ],
      "text/plain": [
       "      Gender Education  Body_temperature_celsius  points_in_exam  \\\n",
       "Name                                                               \n",
       "A       Male     M.Sc.                     37.85               0   \n",
       "B     Female     B.Sc.                     39.85             100   \n",
       "C     Female     B.Sc.                     38.85              80   \n",
       "D     Female       PhD                     36.85              80   \n",
       "E       Male      none                     37.85              40   \n",
       "\n",
       "      points_bonus  sum_points  \n",
       "Name                            \n",
       "A                5           5  \n",
       "B               10         110  \n",
       "C                0          80  \n",
       "D                5          85  \n",
       "E                5          45  "
      ]
     },
     "execution_count": 43,
     "metadata": {},
     "output_type": "execute_result"
    }
   ],
   "source": [
    "# Creating new colums\n",
    "df[\"sum_points\"] = df['points_in_exam'] + df['points_bonus']\n",
    "df"
   ]
  },
  {
   "cell_type": "markdown",
   "metadata": {},
   "source": [
    "## Creating new Columns\n",
    "\n",
    "You can create new colums an fill them all with the same value or calculations based on other columns:"
   ]
  },
  {
   "cell_type": "code",
   "execution_count": 44,
   "metadata": {},
   "outputs": [
    {
     "data": {
      "text/html": [
       "<div>\n",
       "<style scoped>\n",
       "    .dataframe tbody tr th:only-of-type {\n",
       "        vertical-align: middle;\n",
       "    }\n",
       "\n",
       "    .dataframe tbody tr th {\n",
       "        vertical-align: top;\n",
       "    }\n",
       "\n",
       "    .dataframe thead th {\n",
       "        text-align: right;\n",
       "    }\n",
       "</style>\n",
       "<table border=\"1\" class=\"dataframe\">\n",
       "  <thead>\n",
       "    <tr style=\"text-align: right;\">\n",
       "      <th></th>\n",
       "      <th>Gender</th>\n",
       "      <th>Education</th>\n",
       "      <th>Body_temperature_celsius</th>\n",
       "      <th>points_in_exam</th>\n",
       "      <th>points_bonus</th>\n",
       "      <th>sum_points</th>\n",
       "      <th>frist_try</th>\n",
       "    </tr>\n",
       "    <tr>\n",
       "      <th>Name</th>\n",
       "      <th></th>\n",
       "      <th></th>\n",
       "      <th></th>\n",
       "      <th></th>\n",
       "      <th></th>\n",
       "      <th></th>\n",
       "      <th></th>\n",
       "    </tr>\n",
       "  </thead>\n",
       "  <tbody>\n",
       "    <tr>\n",
       "      <th>A</th>\n",
       "      <td>Male</td>\n",
       "      <td>M.Sc.</td>\n",
       "      <td>37.85</td>\n",
       "      <td>0</td>\n",
       "      <td>5</td>\n",
       "      <td>5</td>\n",
       "      <td>True</td>\n",
       "    </tr>\n",
       "    <tr>\n",
       "      <th>B</th>\n",
       "      <td>Female</td>\n",
       "      <td>B.Sc.</td>\n",
       "      <td>39.85</td>\n",
       "      <td>100</td>\n",
       "      <td>10</td>\n",
       "      <td>110</td>\n",
       "      <td>True</td>\n",
       "    </tr>\n",
       "    <tr>\n",
       "      <th>C</th>\n",
       "      <td>Female</td>\n",
       "      <td>B.Sc.</td>\n",
       "      <td>38.85</td>\n",
       "      <td>80</td>\n",
       "      <td>0</td>\n",
       "      <td>80</td>\n",
       "      <td>True</td>\n",
       "    </tr>\n",
       "    <tr>\n",
       "      <th>D</th>\n",
       "      <td>Female</td>\n",
       "      <td>PhD</td>\n",
       "      <td>36.85</td>\n",
       "      <td>80</td>\n",
       "      <td>5</td>\n",
       "      <td>85</td>\n",
       "      <td>True</td>\n",
       "    </tr>\n",
       "    <tr>\n",
       "      <th>E</th>\n",
       "      <td>Male</td>\n",
       "      <td>none</td>\n",
       "      <td>37.85</td>\n",
       "      <td>40</td>\n",
       "      <td>5</td>\n",
       "      <td>45</td>\n",
       "      <td>True</td>\n",
       "    </tr>\n",
       "  </tbody>\n",
       "</table>\n",
       "</div>"
      ],
      "text/plain": [
       "      Gender Education  Body_temperature_celsius  points_in_exam  \\\n",
       "Name                                                               \n",
       "A       Male     M.Sc.                     37.85               0   \n",
       "B     Female     B.Sc.                     39.85             100   \n",
       "C     Female     B.Sc.                     38.85              80   \n",
       "D     Female       PhD                     36.85              80   \n",
       "E       Male      none                     37.85              40   \n",
       "\n",
       "      points_bonus  sum_points  frist_try  \n",
       "Name                                       \n",
       "A                5           5       True  \n",
       "B               10         110       True  \n",
       "C                0          80       True  \n",
       "D                5          85       True  \n",
       "E                5          45       True  "
      ]
     },
     "execution_count": 44,
     "metadata": {},
     "output_type": "execute_result"
    }
   ],
   "source": [
    "df['frist_try'] = True\n",
    "df"
   ]
  },
  {
   "cell_type": "code",
   "execution_count": 45,
   "metadata": {},
   "outputs": [
    {
     "data": {
      "text/html": [
       "<div>\n",
       "<style scoped>\n",
       "    .dataframe tbody tr th:only-of-type {\n",
       "        vertical-align: middle;\n",
       "    }\n",
       "\n",
       "    .dataframe tbody tr th {\n",
       "        vertical-align: top;\n",
       "    }\n",
       "\n",
       "    .dataframe thead th {\n",
       "        text-align: right;\n",
       "    }\n",
       "</style>\n",
       "<table border=\"1\" class=\"dataframe\">\n",
       "  <thead>\n",
       "    <tr style=\"text-align: right;\">\n",
       "      <th></th>\n",
       "      <th>Gender</th>\n",
       "      <th>Education</th>\n",
       "      <th>Body_temperature_celsius</th>\n",
       "      <th>points_in_exam</th>\n",
       "      <th>points_bonus</th>\n",
       "      <th>sum_points</th>\n",
       "      <th>frist_try</th>\n",
       "      <th>points_total</th>\n",
       "    </tr>\n",
       "    <tr>\n",
       "      <th>Name</th>\n",
       "      <th></th>\n",
       "      <th></th>\n",
       "      <th></th>\n",
       "      <th></th>\n",
       "      <th></th>\n",
       "      <th></th>\n",
       "      <th></th>\n",
       "      <th></th>\n",
       "    </tr>\n",
       "  </thead>\n",
       "  <tbody>\n",
       "    <tr>\n",
       "      <th>A</th>\n",
       "      <td>Male</td>\n",
       "      <td>M.Sc.</td>\n",
       "      <td>37.85</td>\n",
       "      <td>0</td>\n",
       "      <td>5</td>\n",
       "      <td>5</td>\n",
       "      <td>True</td>\n",
       "      <td>5</td>\n",
       "    </tr>\n",
       "    <tr>\n",
       "      <th>B</th>\n",
       "      <td>Female</td>\n",
       "      <td>B.Sc.</td>\n",
       "      <td>39.85</td>\n",
       "      <td>100</td>\n",
       "      <td>10</td>\n",
       "      <td>110</td>\n",
       "      <td>True</td>\n",
       "      <td>110</td>\n",
       "    </tr>\n",
       "    <tr>\n",
       "      <th>C</th>\n",
       "      <td>Female</td>\n",
       "      <td>B.Sc.</td>\n",
       "      <td>38.85</td>\n",
       "      <td>80</td>\n",
       "      <td>0</td>\n",
       "      <td>80</td>\n",
       "      <td>True</td>\n",
       "      <td>80</td>\n",
       "    </tr>\n",
       "    <tr>\n",
       "      <th>D</th>\n",
       "      <td>Female</td>\n",
       "      <td>PhD</td>\n",
       "      <td>36.85</td>\n",
       "      <td>80</td>\n",
       "      <td>5</td>\n",
       "      <td>85</td>\n",
       "      <td>True</td>\n",
       "      <td>85</td>\n",
       "    </tr>\n",
       "    <tr>\n",
       "      <th>E</th>\n",
       "      <td>Male</td>\n",
       "      <td>none</td>\n",
       "      <td>37.85</td>\n",
       "      <td>40</td>\n",
       "      <td>5</td>\n",
       "      <td>45</td>\n",
       "      <td>True</td>\n",
       "      <td>45</td>\n",
       "    </tr>\n",
       "  </tbody>\n",
       "</table>\n",
       "</div>"
      ],
      "text/plain": [
       "      Gender Education  Body_temperature_celsius  points_in_exam  \\\n",
       "Name                                                               \n",
       "A       Male     M.Sc.                     37.85               0   \n",
       "B     Female     B.Sc.                     39.85             100   \n",
       "C     Female     B.Sc.                     38.85              80   \n",
       "D     Female       PhD                     36.85              80   \n",
       "E       Male      none                     37.85              40   \n",
       "\n",
       "      points_bonus  sum_points  frist_try  points_total  \n",
       "Name                                                     \n",
       "A                5           5       True             5  \n",
       "B               10         110       True           110  \n",
       "C                0          80       True            80  \n",
       "D                5          85       True            85  \n",
       "E                5          45       True            45  "
      ]
     },
     "execution_count": 45,
     "metadata": {},
     "output_type": "execute_result"
    }
   ],
   "source": [
    "df['points_total'] = df['points_in_exam'] + df['points_bonus']\n",
    "df"
   ]
  },
  {
   "cell_type": "markdown",
   "metadata": {},
   "source": [
    "✍️ **Task**\n",
    "\n",
    "Create a now colum \"grade\" the holds the grade based on the exam points.\n",
    "\n",
    "- A: 90 - 100\n",
    "- B: 80 - 90\n",
    "- C: 70 - 80\n",
    "- D: 60 - 70\n",
    "- F: < 60\n",
    "\n",
    "*Hint*:\n",
    "- use the ```at()``` with a loop through the rows:\n",
    "`df.at[index, 'grade'] = grade`"
   ]
  },
  {
   "cell_type": "code",
   "execution_count": null,
   "metadata": {},
   "outputs": [],
   "source": []
  },
  {
   "cell_type": "code",
   "execution_count": 46,
   "metadata": {},
   "outputs": [
    {
     "name": "stdout",
     "output_type": "stream",
     "text": [
      "Gender                      Female\n",
      "Education                    B.Sc.\n",
      "Body_temperature_celsius     39.85\n",
      "points_in_exam                 100\n",
      "points_bonus                    10\n",
      "sum_points                     110\n",
      "frist_try                     True\n",
      "points_total                   110\n",
      "grade                             \n",
      "Name: B, dtype: object\n",
      "Gender                      Female\n",
      "Education                    B.Sc.\n",
      "Body_temperature_celsius     38.85\n",
      "points_in_exam                  80\n",
      "points_bonus                     0\n",
      "sum_points                      80\n",
      "frist_try                     True\n",
      "points_total                    80\n",
      "grade                             \n",
      "Name: C, dtype: object\n",
      "Gender                      Female\n",
      "Education                      PhD\n",
      "Body_temperature_celsius     36.85\n",
      "points_in_exam                  80\n",
      "points_bonus                     5\n",
      "sum_points                      85\n",
      "frist_try                     True\n",
      "points_total                    85\n",
      "grade                             \n",
      "Name: D, dtype: object\n"
     ]
    },
    {
     "data": {
      "text/html": [
       "<div>\n",
       "<style scoped>\n",
       "    .dataframe tbody tr th:only-of-type {\n",
       "        vertical-align: middle;\n",
       "    }\n",
       "\n",
       "    .dataframe tbody tr th {\n",
       "        vertical-align: top;\n",
       "    }\n",
       "\n",
       "    .dataframe thead th {\n",
       "        text-align: right;\n",
       "    }\n",
       "</style>\n",
       "<table border=\"1\" class=\"dataframe\">\n",
       "  <thead>\n",
       "    <tr style=\"text-align: right;\">\n",
       "      <th></th>\n",
       "      <th>Gender</th>\n",
       "      <th>Education</th>\n",
       "      <th>Body_temperature_celsius</th>\n",
       "      <th>points_in_exam</th>\n",
       "      <th>points_bonus</th>\n",
       "      <th>sum_points</th>\n",
       "      <th>frist_try</th>\n",
       "      <th>points_total</th>\n",
       "      <th>grade</th>\n",
       "    </tr>\n",
       "    <tr>\n",
       "      <th>Name</th>\n",
       "      <th></th>\n",
       "      <th></th>\n",
       "      <th></th>\n",
       "      <th></th>\n",
       "      <th></th>\n",
       "      <th></th>\n",
       "      <th></th>\n",
       "      <th></th>\n",
       "      <th></th>\n",
       "    </tr>\n",
       "  </thead>\n",
       "  <tbody>\n",
       "    <tr>\n",
       "      <th>A</th>\n",
       "      <td>Male</td>\n",
       "      <td>M.Sc.</td>\n",
       "      <td>37.85</td>\n",
       "      <td>0</td>\n",
       "      <td>5</td>\n",
       "      <td>5</td>\n",
       "      <td>True</td>\n",
       "      <td>5</td>\n",
       "      <td>F</td>\n",
       "    </tr>\n",
       "    <tr>\n",
       "      <th>B</th>\n",
       "      <td>Female</td>\n",
       "      <td>B.Sc.</td>\n",
       "      <td>39.85</td>\n",
       "      <td>100</td>\n",
       "      <td>10</td>\n",
       "      <td>110</td>\n",
       "      <td>True</td>\n",
       "      <td>110</td>\n",
       "      <td>A</td>\n",
       "    </tr>\n",
       "    <tr>\n",
       "      <th>C</th>\n",
       "      <td>Female</td>\n",
       "      <td>B.Sc.</td>\n",
       "      <td>38.85</td>\n",
       "      <td>80</td>\n",
       "      <td>0</td>\n",
       "      <td>80</td>\n",
       "      <td>True</td>\n",
       "      <td>80</td>\n",
       "      <td>B</td>\n",
       "    </tr>\n",
       "    <tr>\n",
       "      <th>D</th>\n",
       "      <td>Female</td>\n",
       "      <td>PhD</td>\n",
       "      <td>36.85</td>\n",
       "      <td>80</td>\n",
       "      <td>5</td>\n",
       "      <td>85</td>\n",
       "      <td>True</td>\n",
       "      <td>85</td>\n",
       "      <td>B</td>\n",
       "    </tr>\n",
       "    <tr>\n",
       "      <th>E</th>\n",
       "      <td>Male</td>\n",
       "      <td>none</td>\n",
       "      <td>37.85</td>\n",
       "      <td>40</td>\n",
       "      <td>5</td>\n",
       "      <td>45</td>\n",
       "      <td>True</td>\n",
       "      <td>45</td>\n",
       "      <td>F</td>\n",
       "    </tr>\n",
       "  </tbody>\n",
       "</table>\n",
       "</div>"
      ],
      "text/plain": [
       "      Gender Education  Body_temperature_celsius  points_in_exam  \\\n",
       "Name                                                               \n",
       "A       Male     M.Sc.                     37.85               0   \n",
       "B     Female     B.Sc.                     39.85             100   \n",
       "C     Female     B.Sc.                     38.85              80   \n",
       "D     Female       PhD                     36.85              80   \n",
       "E       Male      none                     37.85              40   \n",
       "\n",
       "      points_bonus  sum_points  frist_try  points_total grade  \n",
       "Name                                                           \n",
       "A                5           5       True             5     F  \n",
       "B               10         110       True           110     A  \n",
       "C                0          80       True            80     B  \n",
       "D                5          85       True            85     B  \n",
       "E                5          45       True            45     F  "
      ]
     },
     "execution_count": 46,
     "metadata": {},
     "output_type": "execute_result"
    }
   ],
   "source": [
    "#@title ❓ Click `Show code` in the code cell to show the solution. { display-mode: \"form\" }\n",
    "\n",
    "# Solution with loop\n",
    "\n",
    "df[\"grade\"] = \"\"\n",
    "\n",
    "for index, observation in df.iterrows():\n",
    "  if observation[\"points_total\"] < 60:\n",
    "    grade = \"F\"\n",
    "  if observation[\"points_total\"] >= 60:\n",
    "    grade = \"D\"\n",
    "  if observation[\"points_total\"] >= 70:\n",
    "    grade = \"C\"\n",
    "  if observation[\"points_total\"] >= 80:\n",
    "    grade = \"B\"\n",
    "    print(observation)\n",
    "  if observation[\"points_total\"] >= 90:\n",
    "    grade = \"A\"   \n",
    "  \n",
    "  df.at[index, 'grade'] = grade\n",
    "\n",
    "\n",
    "df"
   ]
  },
  {
   "cell_type": "markdown",
   "metadata": {},
   "source": [
    "## Reading CSV-Data\n",
    "\n",
    "Instead of entering data by hand, You will often use data from other sources [e.g., https://www.kaggle.com/code/brsdincer/genomes-and-genetics-disorder-eda-process-i/data)\n",
    "\n",
    "You can download the ```train.csv``` file from [sakai](https://sakai.mci4me.at/) and save it in a folder called ```data```. \n",
    "\n",
    "After the download you can use the ```.read_csv()``` function to create a dataframe from the CSV-File.\n",
    "\n",
    "\n"
   ]
  },
  {
   "cell_type": "code",
   "execution_count": 47,
   "metadata": {},
   "outputs": [
    {
     "data": {
      "text/html": [
       "<div>\n",
       "<style scoped>\n",
       "    .dataframe tbody tr th:only-of-type {\n",
       "        vertical-align: middle;\n",
       "    }\n",
       "\n",
       "    .dataframe tbody tr th {\n",
       "        vertical-align: top;\n",
       "    }\n",
       "\n",
       "    .dataframe thead th {\n",
       "        text-align: right;\n",
       "    }\n",
       "</style>\n",
       "<table border=\"1\" class=\"dataframe\">\n",
       "  <thead>\n",
       "    <tr style=\"text-align: right;\">\n",
       "      <th></th>\n",
       "      <th>Patient Id</th>\n",
       "      <th>Patient Age</th>\n",
       "      <th>Genes in mother's side</th>\n",
       "      <th>Inherited from father</th>\n",
       "      <th>Maternal gene</th>\n",
       "      <th>Paternal gene</th>\n",
       "      <th>Blood cell count (mcL)</th>\n",
       "      <th>Patient First Name</th>\n",
       "      <th>Family Name</th>\n",
       "      <th>Father's name</th>\n",
       "      <th>...</th>\n",
       "      <th>Birth defects</th>\n",
       "      <th>White Blood cell count (thousand per microliter)</th>\n",
       "      <th>Blood test result</th>\n",
       "      <th>Symptom 1</th>\n",
       "      <th>Symptom 2</th>\n",
       "      <th>Symptom 3</th>\n",
       "      <th>Symptom 4</th>\n",
       "      <th>Symptom 5</th>\n",
       "      <th>Genetic Disorder</th>\n",
       "      <th>Disorder Subclass</th>\n",
       "    </tr>\n",
       "  </thead>\n",
       "  <tbody>\n",
       "    <tr>\n",
       "      <th>0</th>\n",
       "      <td>PID0x6418</td>\n",
       "      <td>2.0</td>\n",
       "      <td>Yes</td>\n",
       "      <td>No</td>\n",
       "      <td>Yes</td>\n",
       "      <td>No</td>\n",
       "      <td>4.760603</td>\n",
       "      <td>Richard</td>\n",
       "      <td>NaN</td>\n",
       "      <td>Larre</td>\n",
       "      <td>...</td>\n",
       "      <td>NaN</td>\n",
       "      <td>9.857562</td>\n",
       "      <td>NaN</td>\n",
       "      <td>1.0</td>\n",
       "      <td>1.0</td>\n",
       "      <td>1.0</td>\n",
       "      <td>1.0</td>\n",
       "      <td>1.0</td>\n",
       "      <td>Mitochondrial genetic inheritance disorders</td>\n",
       "      <td>Leber's hereditary optic neuropathy</td>\n",
       "    </tr>\n",
       "    <tr>\n",
       "      <th>1</th>\n",
       "      <td>PID0x25d5</td>\n",
       "      <td>4.0</td>\n",
       "      <td>Yes</td>\n",
       "      <td>Yes</td>\n",
       "      <td>No</td>\n",
       "      <td>No</td>\n",
       "      <td>4.910669</td>\n",
       "      <td>Mike</td>\n",
       "      <td>NaN</td>\n",
       "      <td>Brycen</td>\n",
       "      <td>...</td>\n",
       "      <td>Multiple</td>\n",
       "      <td>5.522560</td>\n",
       "      <td>normal</td>\n",
       "      <td>1.0</td>\n",
       "      <td>NaN</td>\n",
       "      <td>1.0</td>\n",
       "      <td>1.0</td>\n",
       "      <td>0.0</td>\n",
       "      <td>NaN</td>\n",
       "      <td>Cystic fibrosis</td>\n",
       "    </tr>\n",
       "    <tr>\n",
       "      <th>2</th>\n",
       "      <td>PID0x4a82</td>\n",
       "      <td>6.0</td>\n",
       "      <td>Yes</td>\n",
       "      <td>No</td>\n",
       "      <td>No</td>\n",
       "      <td>No</td>\n",
       "      <td>4.893297</td>\n",
       "      <td>Kimberly</td>\n",
       "      <td>NaN</td>\n",
       "      <td>Nashon</td>\n",
       "      <td>...</td>\n",
       "      <td>Singular</td>\n",
       "      <td>NaN</td>\n",
       "      <td>normal</td>\n",
       "      <td>0.0</td>\n",
       "      <td>1.0</td>\n",
       "      <td>1.0</td>\n",
       "      <td>1.0</td>\n",
       "      <td>1.0</td>\n",
       "      <td>Multifactorial genetic inheritance disorders</td>\n",
       "      <td>Diabetes</td>\n",
       "    </tr>\n",
       "    <tr>\n",
       "      <th>3</th>\n",
       "      <td>PID0x4ac8</td>\n",
       "      <td>12.0</td>\n",
       "      <td>Yes</td>\n",
       "      <td>No</td>\n",
       "      <td>Yes</td>\n",
       "      <td>No</td>\n",
       "      <td>4.705280</td>\n",
       "      <td>Jeffery</td>\n",
       "      <td>Hoelscher</td>\n",
       "      <td>Aayaan</td>\n",
       "      <td>...</td>\n",
       "      <td>Singular</td>\n",
       "      <td>7.919321</td>\n",
       "      <td>inconclusive</td>\n",
       "      <td>0.0</td>\n",
       "      <td>0.0</td>\n",
       "      <td>1.0</td>\n",
       "      <td>0.0</td>\n",
       "      <td>0.0</td>\n",
       "      <td>Mitochondrial genetic inheritance disorders</td>\n",
       "      <td>Leigh syndrome</td>\n",
       "    </tr>\n",
       "    <tr>\n",
       "      <th>4</th>\n",
       "      <td>PID0x1bf7</td>\n",
       "      <td>11.0</td>\n",
       "      <td>Yes</td>\n",
       "      <td>No</td>\n",
       "      <td>NaN</td>\n",
       "      <td>Yes</td>\n",
       "      <td>4.720703</td>\n",
       "      <td>Johanna</td>\n",
       "      <td>Stutzman</td>\n",
       "      <td>Suave</td>\n",
       "      <td>...</td>\n",
       "      <td>Multiple</td>\n",
       "      <td>4.098210</td>\n",
       "      <td>NaN</td>\n",
       "      <td>0.0</td>\n",
       "      <td>0.0</td>\n",
       "      <td>0.0</td>\n",
       "      <td>0.0</td>\n",
       "      <td>NaN</td>\n",
       "      <td>Multifactorial genetic inheritance disorders</td>\n",
       "      <td>Cancer</td>\n",
       "    </tr>\n",
       "  </tbody>\n",
       "</table>\n",
       "<p>5 rows × 45 columns</p>\n",
       "</div>"
      ],
      "text/plain": [
       "  Patient Id  Patient Age Genes in mother's side Inherited from father  \\\n",
       "0  PID0x6418          2.0                    Yes                    No   \n",
       "1  PID0x25d5          4.0                    Yes                   Yes   \n",
       "2  PID0x4a82          6.0                    Yes                    No   \n",
       "3  PID0x4ac8         12.0                    Yes                    No   \n",
       "4  PID0x1bf7         11.0                    Yes                    No   \n",
       "\n",
       "  Maternal gene Paternal gene  Blood cell count (mcL) Patient First Name  \\\n",
       "0           Yes            No                4.760603            Richard   \n",
       "1            No            No                4.910669               Mike   \n",
       "2            No            No                4.893297           Kimberly   \n",
       "3           Yes            No                4.705280            Jeffery   \n",
       "4           NaN           Yes                4.720703            Johanna   \n",
       "\n",
       "  Family Name Father's name  ...  Birth defects  \\\n",
       "0         NaN         Larre  ...            NaN   \n",
       "1         NaN        Brycen  ...       Multiple   \n",
       "2         NaN        Nashon  ...       Singular   \n",
       "3   Hoelscher        Aayaan  ...       Singular   \n",
       "4    Stutzman         Suave  ...       Multiple   \n",
       "\n",
       "   White Blood cell count (thousand per microliter) Blood test result  \\\n",
       "0                                          9.857562               NaN   \n",
       "1                                          5.522560            normal   \n",
       "2                                               NaN            normal   \n",
       "3                                          7.919321      inconclusive   \n",
       "4                                          4.098210               NaN   \n",
       "\n",
       "  Symptom 1 Symptom 2 Symptom 3 Symptom 4  Symptom 5  \\\n",
       "0       1.0       1.0       1.0       1.0        1.0   \n",
       "1       1.0       NaN       1.0       1.0        0.0   \n",
       "2       0.0       1.0       1.0       1.0        1.0   \n",
       "3       0.0       0.0       1.0       0.0        0.0   \n",
       "4       0.0       0.0       0.0       0.0        NaN   \n",
       "\n",
       "                               Genetic Disorder  \\\n",
       "0   Mitochondrial genetic inheritance disorders   \n",
       "1                                           NaN   \n",
       "2  Multifactorial genetic inheritance disorders   \n",
       "3   Mitochondrial genetic inheritance disorders   \n",
       "4  Multifactorial genetic inheritance disorders   \n",
       "\n",
       "                     Disorder Subclass  \n",
       "0  Leber's hereditary optic neuropathy  \n",
       "1                      Cystic fibrosis  \n",
       "2                             Diabetes  \n",
       "3                       Leigh syndrome  \n",
       "4                               Cancer  \n",
       "\n",
       "[5 rows x 45 columns]"
      ]
     },
     "execution_count": 47,
     "metadata": {},
     "output_type": "execute_result"
    }
   ],
   "source": [
    "disease_data = pd.read_csv(\"Data/train.csv\",delimiter=\",\")\n",
    "\n",
    "disease_data.head()"
   ]
  },
  {
   "cell_type": "code",
   "execution_count": 48,
   "metadata": {},
   "outputs": [
    {
     "data": {
      "text/plain": [
       "Index(['Patient Id', 'Patient Age', 'Genes in mother's side',\n",
       "       'Inherited from father', 'Maternal gene', 'Paternal gene',\n",
       "       'Blood cell count (mcL)', 'Patient First Name', 'Family Name',\n",
       "       'Father's name', 'Mother's age', 'Father's age', 'Institute Name',\n",
       "       'Location of Institute', 'Status', 'Respiratory Rate (breaths/min)',\n",
       "       'Heart Rate (rates/min', 'Test 1', 'Test 2', 'Test 3', 'Test 4',\n",
       "       'Test 5', 'Parental consent', 'Follow-up', 'Gender', 'Birth asphyxia',\n",
       "       'Autopsy shows birth defect (if applicable)', 'Place of birth',\n",
       "       'Folic acid details (peri-conceptional)',\n",
       "       'H/O serious maternal illness', 'H/O radiation exposure (x-ray)',\n",
       "       'H/O substance abuse', 'Assisted conception IVF/ART',\n",
       "       'History of anomalies in previous pregnancies',\n",
       "       'No. of previous abortion', 'Birth defects',\n",
       "       'White Blood cell count (thousand per microliter)', 'Blood test result',\n",
       "       'Symptom 1', 'Symptom 2', 'Symptom 3', 'Symptom 4', 'Symptom 5',\n",
       "       'Genetic Disorder', 'Disorder Subclass'],\n",
       "      dtype='object')"
      ]
     },
     "execution_count": 48,
     "metadata": {},
     "output_type": "execute_result"
    }
   ],
   "source": [
    "disease_data.columns"
   ]
  },
  {
   "cell_type": "code",
   "execution_count": 49,
   "metadata": {},
   "outputs": [
    {
     "data": {
      "text/plain": [
       "(22083, 45)"
      ]
     },
     "execution_count": 49,
     "metadata": {},
     "output_type": "execute_result"
    }
   ],
   "source": [
    "disease_data.shape"
   ]
  },
  {
   "cell_type": "markdown",
   "metadata": {},
   "source": [
    "## Simple Analysis\n",
    "\n",
    "You now have a lagre body of data. Answering questions on this data might be tedious even for simple questions (e.g, what is the lowest blood cell count to be found in the data.)\n",
    "\n",
    "Pandas provides different functions and notations to analyse data.\n",
    "\n",
    "For instance You can find the  the lowest blood cell count to be found in the data by entering just one line:"
   ]
  },
  {
   "cell_type": "code",
   "execution_count": 50,
   "metadata": {},
   "outputs": [
    {
     "data": {
      "text/plain": [
       "4.092727034474659"
      ]
     },
     "execution_count": 50,
     "metadata": {},
     "output_type": "execute_result"
    }
   ],
   "source": [
    "disease_data[\"Blood cell count (mcL)\"].min()\n",
    "\n"
   ]
  },
  {
   "cell_type": "markdown",
   "metadata": {},
   "source": [
    "Now, You found the minimal blood cell count. However, You might also want to know who is the patient with eht lowest blood cell count. You can do this using ```idxmin()```"
   ]
  },
  {
   "cell_type": "code",
   "execution_count": 51,
   "metadata": {},
   "outputs": [
    {
     "data": {
      "text/plain": [
       "14109"
      ]
     },
     "execution_count": 51,
     "metadata": {},
     "output_type": "execute_result"
    }
   ],
   "source": [
    "disease_data[\"Blood cell count (mcL)\"].idxmin()"
   ]
  },
  {
   "cell_type": "markdown",
   "metadata": {},
   "source": [
    "## Merging, Joining and Concatenating\n",
    "\n",
    "There are three ways to merge Pandas Dataframes: Merging, Joining and Concatenating."
   ]
  },
  {
   "cell_type": "code",
   "execution_count": 52,
   "metadata": {},
   "outputs": [],
   "source": [
    "import pandas as pd"
   ]
  },
  {
   "cell_type": "code",
   "execution_count": 53,
   "metadata": {},
   "outputs": [],
   "source": [
    "df1 = pd.DataFrame({'A': ['A0', 'A1', 'A2', 'A3'],\n",
    "                        'B': ['B0', 'B1', 'B2', 'B3'],\n",
    "                        'C': ['C0', 'C1', 'C2', 'C3'],\n",
    "                        'D': ['D0', 'D1', 'D2', 'D3']},\n",
    "                        index=[0, 1, 2, 3])"
   ]
  },
  {
   "cell_type": "code",
   "execution_count": 54,
   "metadata": {},
   "outputs": [],
   "source": [
    "df2 = pd.DataFrame({'A': ['A4', 'A5', 'A6', 'A7'],\n",
    "                        'B': ['B4', 'B5', 'B6', 'B7'],\n",
    "                        'C': ['C4', 'C5', 'C6', 'C7'],\n",
    "                        'D': ['D4', 'D5', 'D6', 'D7']},\n",
    "                         index=[4, 5, 6, 7]) "
   ]
  },
  {
   "cell_type": "code",
   "execution_count": 55,
   "metadata": {},
   "outputs": [
    {
     "data": {
      "text/html": [
       "<div>\n",
       "<style scoped>\n",
       "    .dataframe tbody tr th:only-of-type {\n",
       "        vertical-align: middle;\n",
       "    }\n",
       "\n",
       "    .dataframe tbody tr th {\n",
       "        vertical-align: top;\n",
       "    }\n",
       "\n",
       "    .dataframe thead th {\n",
       "        text-align: right;\n",
       "    }\n",
       "</style>\n",
       "<table border=\"1\" class=\"dataframe\">\n",
       "  <thead>\n",
       "    <tr style=\"text-align: right;\">\n",
       "      <th></th>\n",
       "      <th>A</th>\n",
       "      <th>B</th>\n",
       "      <th>C</th>\n",
       "      <th>D</th>\n",
       "    </tr>\n",
       "  </thead>\n",
       "  <tbody>\n",
       "    <tr>\n",
       "      <th>0</th>\n",
       "      <td>A0</td>\n",
       "      <td>B0</td>\n",
       "      <td>C0</td>\n",
       "      <td>D0</td>\n",
       "    </tr>\n",
       "    <tr>\n",
       "      <th>1</th>\n",
       "      <td>A1</td>\n",
       "      <td>B1</td>\n",
       "      <td>C1</td>\n",
       "      <td>D1</td>\n",
       "    </tr>\n",
       "    <tr>\n",
       "      <th>2</th>\n",
       "      <td>A2</td>\n",
       "      <td>B2</td>\n",
       "      <td>C2</td>\n",
       "      <td>D2</td>\n",
       "    </tr>\n",
       "    <tr>\n",
       "      <th>3</th>\n",
       "      <td>A3</td>\n",
       "      <td>B3</td>\n",
       "      <td>C3</td>\n",
       "      <td>D3</td>\n",
       "    </tr>\n",
       "  </tbody>\n",
       "</table>\n",
       "</div>"
      ],
      "text/plain": [
       "    A   B   C   D\n",
       "0  A0  B0  C0  D0\n",
       "1  A1  B1  C1  D1\n",
       "2  A2  B2  C2  D2\n",
       "3  A3  B3  C3  D3"
      ]
     },
     "execution_count": 55,
     "metadata": {},
     "output_type": "execute_result"
    }
   ],
   "source": [
    "df1"
   ]
  },
  {
   "cell_type": "code",
   "execution_count": 56,
   "metadata": {},
   "outputs": [
    {
     "data": {
      "text/html": [
       "<div>\n",
       "<style scoped>\n",
       "    .dataframe tbody tr th:only-of-type {\n",
       "        vertical-align: middle;\n",
       "    }\n",
       "\n",
       "    .dataframe tbody tr th {\n",
       "        vertical-align: top;\n",
       "    }\n",
       "\n",
       "    .dataframe thead th {\n",
       "        text-align: right;\n",
       "    }\n",
       "</style>\n",
       "<table border=\"1\" class=\"dataframe\">\n",
       "  <thead>\n",
       "    <tr style=\"text-align: right;\">\n",
       "      <th></th>\n",
       "      <th>A</th>\n",
       "      <th>B</th>\n",
       "      <th>C</th>\n",
       "      <th>D</th>\n",
       "    </tr>\n",
       "  </thead>\n",
       "  <tbody>\n",
       "    <tr>\n",
       "      <th>4</th>\n",
       "      <td>A4</td>\n",
       "      <td>B4</td>\n",
       "      <td>C4</td>\n",
       "      <td>D4</td>\n",
       "    </tr>\n",
       "    <tr>\n",
       "      <th>5</th>\n",
       "      <td>A5</td>\n",
       "      <td>B5</td>\n",
       "      <td>C5</td>\n",
       "      <td>D5</td>\n",
       "    </tr>\n",
       "    <tr>\n",
       "      <th>6</th>\n",
       "      <td>A6</td>\n",
       "      <td>B6</td>\n",
       "      <td>C6</td>\n",
       "      <td>D6</td>\n",
       "    </tr>\n",
       "    <tr>\n",
       "      <th>7</th>\n",
       "      <td>A7</td>\n",
       "      <td>B7</td>\n",
       "      <td>C7</td>\n",
       "      <td>D7</td>\n",
       "    </tr>\n",
       "  </tbody>\n",
       "</table>\n",
       "</div>"
      ],
      "text/plain": [
       "    A   B   C   D\n",
       "4  A4  B4  C4  D4\n",
       "5  A5  B5  C5  D5\n",
       "6  A6  B6  C6  D6\n",
       "7  A7  B7  C7  D7"
      ]
     },
     "execution_count": 56,
     "metadata": {},
     "output_type": "execute_result"
    }
   ],
   "source": [
    "df2"
   ]
  },
  {
   "cell_type": "markdown",
   "metadata": {},
   "source": [
    "### Concatenating \n",
    "\n",
    "*Concatenating is the process of lining up data frames. You should make sure that the dimensions along the axis you are concatenating are the same.\n",
    "\n",
    "Then you can use `pd.concat` and pass a list of dataframes:"
   ]
  },
  {
   "cell_type": "code",
   "execution_count": 57,
   "metadata": {},
   "outputs": [
    {
     "data": {
      "text/html": [
       "<div>\n",
       "<style scoped>\n",
       "    .dataframe tbody tr th:only-of-type {\n",
       "        vertical-align: middle;\n",
       "    }\n",
       "\n",
       "    .dataframe tbody tr th {\n",
       "        vertical-align: top;\n",
       "    }\n",
       "\n",
       "    .dataframe thead th {\n",
       "        text-align: right;\n",
       "    }\n",
       "</style>\n",
       "<table border=\"1\" class=\"dataframe\">\n",
       "  <thead>\n",
       "    <tr style=\"text-align: right;\">\n",
       "      <th></th>\n",
       "      <th>A</th>\n",
       "      <th>B</th>\n",
       "      <th>C</th>\n",
       "      <th>D</th>\n",
       "    </tr>\n",
       "  </thead>\n",
       "  <tbody>\n",
       "    <tr>\n",
       "      <th>0</th>\n",
       "      <td>A0</td>\n",
       "      <td>B0</td>\n",
       "      <td>C0</td>\n",
       "      <td>D0</td>\n",
       "    </tr>\n",
       "    <tr>\n",
       "      <th>1</th>\n",
       "      <td>A1</td>\n",
       "      <td>B1</td>\n",
       "      <td>C1</td>\n",
       "      <td>D1</td>\n",
       "    </tr>\n",
       "    <tr>\n",
       "      <th>2</th>\n",
       "      <td>A2</td>\n",
       "      <td>B2</td>\n",
       "      <td>C2</td>\n",
       "      <td>D2</td>\n",
       "    </tr>\n",
       "    <tr>\n",
       "      <th>3</th>\n",
       "      <td>A3</td>\n",
       "      <td>B3</td>\n",
       "      <td>C3</td>\n",
       "      <td>D3</td>\n",
       "    </tr>\n",
       "    <tr>\n",
       "      <th>4</th>\n",
       "      <td>A4</td>\n",
       "      <td>B4</td>\n",
       "      <td>C4</td>\n",
       "      <td>D4</td>\n",
       "    </tr>\n",
       "    <tr>\n",
       "      <th>5</th>\n",
       "      <td>A5</td>\n",
       "      <td>B5</td>\n",
       "      <td>C5</td>\n",
       "      <td>D5</td>\n",
       "    </tr>\n",
       "    <tr>\n",
       "      <th>6</th>\n",
       "      <td>A6</td>\n",
       "      <td>B6</td>\n",
       "      <td>C6</td>\n",
       "      <td>D6</td>\n",
       "    </tr>\n",
       "    <tr>\n",
       "      <th>7</th>\n",
       "      <td>A7</td>\n",
       "      <td>B7</td>\n",
       "      <td>C7</td>\n",
       "      <td>D7</td>\n",
       "    </tr>\n",
       "  </tbody>\n",
       "</table>\n",
       "</div>"
      ],
      "text/plain": [
       "    A   B   C   D\n",
       "0  A0  B0  C0  D0\n",
       "1  A1  B1  C1  D1\n",
       "2  A2  B2  C2  D2\n",
       "3  A3  B3  C3  D3\n",
       "4  A4  B4  C4  D4\n",
       "5  A5  B5  C5  D5\n",
       "6  A6  B6  C6  D6\n",
       "7  A7  B7  C7  D7"
      ]
     },
     "execution_count": 57,
     "metadata": {},
     "output_type": "execute_result"
    }
   ],
   "source": [
    "pd.concat([df1,df2])"
   ]
  },
  {
   "cell_type": "code",
   "execution_count": 58,
   "metadata": {},
   "outputs": [
    {
     "data": {
      "text/html": [
       "<div>\n",
       "<style scoped>\n",
       "    .dataframe tbody tr th:only-of-type {\n",
       "        vertical-align: middle;\n",
       "    }\n",
       "\n",
       "    .dataframe tbody tr th {\n",
       "        vertical-align: top;\n",
       "    }\n",
       "\n",
       "    .dataframe thead th {\n",
       "        text-align: right;\n",
       "    }\n",
       "</style>\n",
       "<table border=\"1\" class=\"dataframe\">\n",
       "  <thead>\n",
       "    <tr style=\"text-align: right;\">\n",
       "      <th></th>\n",
       "      <th>A</th>\n",
       "      <th>B</th>\n",
       "      <th>C</th>\n",
       "      <th>D</th>\n",
       "      <th>A</th>\n",
       "      <th>B</th>\n",
       "      <th>C</th>\n",
       "      <th>D</th>\n",
       "    </tr>\n",
       "  </thead>\n",
       "  <tbody>\n",
       "    <tr>\n",
       "      <th>0</th>\n",
       "      <td>A0</td>\n",
       "      <td>B0</td>\n",
       "      <td>C0</td>\n",
       "      <td>D0</td>\n",
       "      <td>NaN</td>\n",
       "      <td>NaN</td>\n",
       "      <td>NaN</td>\n",
       "      <td>NaN</td>\n",
       "    </tr>\n",
       "    <tr>\n",
       "      <th>1</th>\n",
       "      <td>A1</td>\n",
       "      <td>B1</td>\n",
       "      <td>C1</td>\n",
       "      <td>D1</td>\n",
       "      <td>NaN</td>\n",
       "      <td>NaN</td>\n",
       "      <td>NaN</td>\n",
       "      <td>NaN</td>\n",
       "    </tr>\n",
       "    <tr>\n",
       "      <th>2</th>\n",
       "      <td>A2</td>\n",
       "      <td>B2</td>\n",
       "      <td>C2</td>\n",
       "      <td>D2</td>\n",
       "      <td>NaN</td>\n",
       "      <td>NaN</td>\n",
       "      <td>NaN</td>\n",
       "      <td>NaN</td>\n",
       "    </tr>\n",
       "    <tr>\n",
       "      <th>3</th>\n",
       "      <td>A3</td>\n",
       "      <td>B3</td>\n",
       "      <td>C3</td>\n",
       "      <td>D3</td>\n",
       "      <td>NaN</td>\n",
       "      <td>NaN</td>\n",
       "      <td>NaN</td>\n",
       "      <td>NaN</td>\n",
       "    </tr>\n",
       "    <tr>\n",
       "      <th>4</th>\n",
       "      <td>NaN</td>\n",
       "      <td>NaN</td>\n",
       "      <td>NaN</td>\n",
       "      <td>NaN</td>\n",
       "      <td>A4</td>\n",
       "      <td>B4</td>\n",
       "      <td>C4</td>\n",
       "      <td>D4</td>\n",
       "    </tr>\n",
       "    <tr>\n",
       "      <th>5</th>\n",
       "      <td>NaN</td>\n",
       "      <td>NaN</td>\n",
       "      <td>NaN</td>\n",
       "      <td>NaN</td>\n",
       "      <td>A5</td>\n",
       "      <td>B5</td>\n",
       "      <td>C5</td>\n",
       "      <td>D5</td>\n",
       "    </tr>\n",
       "    <tr>\n",
       "      <th>6</th>\n",
       "      <td>NaN</td>\n",
       "      <td>NaN</td>\n",
       "      <td>NaN</td>\n",
       "      <td>NaN</td>\n",
       "      <td>A6</td>\n",
       "      <td>B6</td>\n",
       "      <td>C6</td>\n",
       "      <td>D6</td>\n",
       "    </tr>\n",
       "    <tr>\n",
       "      <th>7</th>\n",
       "      <td>NaN</td>\n",
       "      <td>NaN</td>\n",
       "      <td>NaN</td>\n",
       "      <td>NaN</td>\n",
       "      <td>A7</td>\n",
       "      <td>B7</td>\n",
       "      <td>C7</td>\n",
       "      <td>D7</td>\n",
       "    </tr>\n",
       "  </tbody>\n",
       "</table>\n",
       "</div>"
      ],
      "text/plain": [
       "     A    B    C    D    A    B    C    D\n",
       "0   A0   B0   C0   D0  NaN  NaN  NaN  NaN\n",
       "1   A1   B1   C1   D1  NaN  NaN  NaN  NaN\n",
       "2   A2   B2   C2   D2  NaN  NaN  NaN  NaN\n",
       "3   A3   B3   C3   D3  NaN  NaN  NaN  NaN\n",
       "4  NaN  NaN  NaN  NaN   A4   B4   C4   D4\n",
       "5  NaN  NaN  NaN  NaN   A5   B5   C5   D5\n",
       "6  NaN  NaN  NaN  NaN   A6   B6   C6   D6\n",
       "7  NaN  NaN  NaN  NaN   A7   B7   C7   D7"
      ]
     },
     "execution_count": 58,
     "metadata": {},
     "output_type": "execute_result"
    }
   ],
   "source": [
    "pd.concat([df1,df2],axis=1)"
   ]
  },
  {
   "cell_type": "markdown",
   "metadata": {},
   "source": [
    "## Data Merging\n"
   ]
  },
  {
   "cell_type": "code",
   "execution_count": 59,
   "metadata": {},
   "outputs": [],
   "source": [
    "left = pd.DataFrame({'key': ['K0', 'K1', 'K2', 'K3'],\n",
    "                     'A': ['A0', 'A1', 'A2', 'A3'],\n",
    "                     'B': ['B0', 'B1', 'B2', 'B3']})\n",
    "   \n",
    "right = pd.DataFrame({'key': ['K0', 'K1', 'K2', 'K3'],\n",
    "                          'C': ['C0', 'C1', 'C2', 'C3'],\n",
    "                          'D': ['D0', 'D1', 'D2', 'D3']})    "
   ]
  },
  {
   "cell_type": "code",
   "execution_count": 60,
   "metadata": {},
   "outputs": [
    {
     "data": {
      "text/html": [
       "<div>\n",
       "<style scoped>\n",
       "    .dataframe tbody tr th:only-of-type {\n",
       "        vertical-align: middle;\n",
       "    }\n",
       "\n",
       "    .dataframe tbody tr th {\n",
       "        vertical-align: top;\n",
       "    }\n",
       "\n",
       "    .dataframe thead th {\n",
       "        text-align: right;\n",
       "    }\n",
       "</style>\n",
       "<table border=\"1\" class=\"dataframe\">\n",
       "  <thead>\n",
       "    <tr style=\"text-align: right;\">\n",
       "      <th></th>\n",
       "      <th>key</th>\n",
       "      <th>A</th>\n",
       "      <th>B</th>\n",
       "    </tr>\n",
       "  </thead>\n",
       "  <tbody>\n",
       "    <tr>\n",
       "      <th>0</th>\n",
       "      <td>K0</td>\n",
       "      <td>A0</td>\n",
       "      <td>B0</td>\n",
       "    </tr>\n",
       "    <tr>\n",
       "      <th>1</th>\n",
       "      <td>K1</td>\n",
       "      <td>A1</td>\n",
       "      <td>B1</td>\n",
       "    </tr>\n",
       "    <tr>\n",
       "      <th>2</th>\n",
       "      <td>K2</td>\n",
       "      <td>A2</td>\n",
       "      <td>B2</td>\n",
       "    </tr>\n",
       "    <tr>\n",
       "      <th>3</th>\n",
       "      <td>K3</td>\n",
       "      <td>A3</td>\n",
       "      <td>B3</td>\n",
       "    </tr>\n",
       "  </tbody>\n",
       "</table>\n",
       "</div>"
      ],
      "text/plain": [
       "  key   A   B\n",
       "0  K0  A0  B0\n",
       "1  K1  A1  B1\n",
       "2  K2  A2  B2\n",
       "3  K3  A3  B3"
      ]
     },
     "execution_count": 60,
     "metadata": {},
     "output_type": "execute_result"
    }
   ],
   "source": [
    "left\n"
   ]
  },
  {
   "cell_type": "code",
   "execution_count": 57,
   "metadata": {},
   "outputs": [
    {
     "data": {
      "text/html": [
       "<div>\n",
       "<style scoped>\n",
       "    .dataframe tbody tr th:only-of-type {\n",
       "        vertical-align: middle;\n",
       "    }\n",
       "\n",
       "    .dataframe tbody tr th {\n",
       "        vertical-align: top;\n",
       "    }\n",
       "\n",
       "    .dataframe thead th {\n",
       "        text-align: right;\n",
       "    }\n",
       "</style>\n",
       "<table border=\"1\" class=\"dataframe\">\n",
       "  <thead>\n",
       "    <tr style=\"text-align: right;\">\n",
       "      <th></th>\n",
       "      <th>key</th>\n",
       "      <th>C</th>\n",
       "      <th>D</th>\n",
       "    </tr>\n",
       "  </thead>\n",
       "  <tbody>\n",
       "    <tr>\n",
       "      <th>0</th>\n",
       "      <td>K0</td>\n",
       "      <td>C0</td>\n",
       "      <td>D0</td>\n",
       "    </tr>\n",
       "    <tr>\n",
       "      <th>1</th>\n",
       "      <td>K1</td>\n",
       "      <td>C1</td>\n",
       "      <td>D1</td>\n",
       "    </tr>\n",
       "    <tr>\n",
       "      <th>2</th>\n",
       "      <td>K2</td>\n",
       "      <td>C2</td>\n",
       "      <td>D2</td>\n",
       "    </tr>\n",
       "    <tr>\n",
       "      <th>3</th>\n",
       "      <td>K3</td>\n",
       "      <td>C3</td>\n",
       "      <td>D3</td>\n",
       "    </tr>\n",
       "  </tbody>\n",
       "</table>\n",
       "</div>"
      ],
      "text/plain": [
       "  key   C   D\n",
       "0  K0  C0  D0\n",
       "1  K1  C1  D1\n",
       "2  K2  C2  D2\n",
       "3  K3  C3  D3"
      ]
     },
     "execution_count": 57,
     "metadata": {},
     "output_type": "execute_result"
    }
   ],
   "source": [
    "right"
   ]
  },
  {
   "cell_type": "markdown",
   "metadata": {},
   "source": [
    "## Merging\n",
    "\n",
    "The `merge` function allows us to merge data frames similar to SQL. For example:"
   ]
  },
  {
   "cell_type": "code",
   "execution_count": 58,
   "metadata": {},
   "outputs": [
    {
     "data": {
      "text/html": [
       "<div>\n",
       "<style scoped>\n",
       "    .dataframe tbody tr th:only-of-type {\n",
       "        vertical-align: middle;\n",
       "    }\n",
       "\n",
       "    .dataframe tbody tr th {\n",
       "        vertical-align: top;\n",
       "    }\n",
       "\n",
       "    .dataframe thead th {\n",
       "        text-align: right;\n",
       "    }\n",
       "</style>\n",
       "<table border=\"1\" class=\"dataframe\">\n",
       "  <thead>\n",
       "    <tr style=\"text-align: right;\">\n",
       "      <th></th>\n",
       "      <th>key</th>\n",
       "      <th>A</th>\n",
       "      <th>B</th>\n",
       "      <th>C</th>\n",
       "      <th>D</th>\n",
       "    </tr>\n",
       "  </thead>\n",
       "  <tbody>\n",
       "    <tr>\n",
       "      <th>0</th>\n",
       "      <td>K0</td>\n",
       "      <td>A0</td>\n",
       "      <td>B0</td>\n",
       "      <td>C0</td>\n",
       "      <td>D0</td>\n",
       "    </tr>\n",
       "    <tr>\n",
       "      <th>1</th>\n",
       "      <td>K1</td>\n",
       "      <td>A1</td>\n",
       "      <td>B1</td>\n",
       "      <td>C1</td>\n",
       "      <td>D1</td>\n",
       "    </tr>\n",
       "    <tr>\n",
       "      <th>2</th>\n",
       "      <td>K2</td>\n",
       "      <td>A2</td>\n",
       "      <td>B2</td>\n",
       "      <td>C2</td>\n",
       "      <td>D2</td>\n",
       "    </tr>\n",
       "    <tr>\n",
       "      <th>3</th>\n",
       "      <td>K3</td>\n",
       "      <td>A3</td>\n",
       "      <td>B3</td>\n",
       "      <td>C3</td>\n",
       "      <td>D3</td>\n",
       "    </tr>\n",
       "  </tbody>\n",
       "</table>\n",
       "</div>"
      ],
      "text/plain": [
       "  key   A   B   C   D\n",
       "0  K0  A0  B0  C0  D0\n",
       "1  K1  A1  B1  C1  D1\n",
       "2  K2  A2  B2  C2  D2\n",
       "3  K3  A3  B3  C3  D3"
      ]
     },
     "execution_count": 58,
     "metadata": {},
     "output_type": "execute_result"
    }
   ],
   "source": [
    "pd.merge(left, right, how='inner',on='key')"
   ]
  },
  {
   "cell_type": "markdown",
   "metadata": {},
   "source": [
    "Here also a more compley example:"
   ]
  },
  {
   "cell_type": "code",
   "execution_count": 59,
   "metadata": {},
   "outputs": [],
   "source": [
    "left = pd.DataFrame({'key1': ['K0', 'K0', 'K1', 'K2'],\n",
    "                     'key2': ['K0', 'K1', 'K0', 'K1'],\n",
    "                        'A': ['A0', 'A1', 'A2', 'A3'],\n",
    "                        'B': ['B0', 'B1', 'B2', 'B3']})\n",
    "    \n",
    "right = pd.DataFrame({'key1': ['K0', 'K1', 'K1', 'K2'],\n",
    "                               'key2': ['K0', 'K0', 'K0', 'K0'],\n",
    "                                  'C': ['C0', 'C1', 'C2', 'C3'],\n",
    "                                  'D': ['D0', 'D1', 'D2', 'D3']})"
   ]
  },
  {
   "cell_type": "code",
   "execution_count": 60,
   "metadata": {},
   "outputs": [
    {
     "data": {
      "text/html": [
       "<div>\n",
       "<style scoped>\n",
       "    .dataframe tbody tr th:only-of-type {\n",
       "        vertical-align: middle;\n",
       "    }\n",
       "\n",
       "    .dataframe tbody tr th {\n",
       "        vertical-align: top;\n",
       "    }\n",
       "\n",
       "    .dataframe thead th {\n",
       "        text-align: right;\n",
       "    }\n",
       "</style>\n",
       "<table border=\"1\" class=\"dataframe\">\n",
       "  <thead>\n",
       "    <tr style=\"text-align: right;\">\n",
       "      <th></th>\n",
       "      <th>key1</th>\n",
       "      <th>key2</th>\n",
       "      <th>A</th>\n",
       "      <th>B</th>\n",
       "      <th>C</th>\n",
       "      <th>D</th>\n",
       "    </tr>\n",
       "  </thead>\n",
       "  <tbody>\n",
       "    <tr>\n",
       "      <th>0</th>\n",
       "      <td>K0</td>\n",
       "      <td>K0</td>\n",
       "      <td>A0</td>\n",
       "      <td>B0</td>\n",
       "      <td>C0</td>\n",
       "      <td>D0</td>\n",
       "    </tr>\n",
       "    <tr>\n",
       "      <th>1</th>\n",
       "      <td>K1</td>\n",
       "      <td>K0</td>\n",
       "      <td>A2</td>\n",
       "      <td>B2</td>\n",
       "      <td>C1</td>\n",
       "      <td>D1</td>\n",
       "    </tr>\n",
       "    <tr>\n",
       "      <th>2</th>\n",
       "      <td>K1</td>\n",
       "      <td>K0</td>\n",
       "      <td>A2</td>\n",
       "      <td>B2</td>\n",
       "      <td>C2</td>\n",
       "      <td>D2</td>\n",
       "    </tr>\n",
       "  </tbody>\n",
       "</table>\n",
       "</div>"
      ],
      "text/plain": [
       "  key1 key2   A   B   C   D\n",
       "0   K0   K0  A0  B0  C0  D0\n",
       "1   K1   K0  A2  B2  C1  D1\n",
       "2   K1   K0  A2  B2  C2  D2"
      ]
     },
     "execution_count": 60,
     "metadata": {},
     "output_type": "execute_result"
    }
   ],
   "source": [
    "pd.merge(left, right, on=['key1', 'key2'])"
   ]
  },
  {
   "cell_type": "code",
   "execution_count": 61,
   "metadata": {},
   "outputs": [
    {
     "data": {
      "text/html": [
       "<div>\n",
       "<style scoped>\n",
       "    .dataframe tbody tr th:only-of-type {\n",
       "        vertical-align: middle;\n",
       "    }\n",
       "\n",
       "    .dataframe tbody tr th {\n",
       "        vertical-align: top;\n",
       "    }\n",
       "\n",
       "    .dataframe thead th {\n",
       "        text-align: right;\n",
       "    }\n",
       "</style>\n",
       "<table border=\"1\" class=\"dataframe\">\n",
       "  <thead>\n",
       "    <tr style=\"text-align: right;\">\n",
       "      <th></th>\n",
       "      <th>key1</th>\n",
       "      <th>key2</th>\n",
       "      <th>A</th>\n",
       "      <th>B</th>\n",
       "      <th>C</th>\n",
       "      <th>D</th>\n",
       "    </tr>\n",
       "  </thead>\n",
       "  <tbody>\n",
       "    <tr>\n",
       "      <th>0</th>\n",
       "      <td>K0</td>\n",
       "      <td>K0</td>\n",
       "      <td>A0</td>\n",
       "      <td>B0</td>\n",
       "      <td>C0</td>\n",
       "      <td>D0</td>\n",
       "    </tr>\n",
       "    <tr>\n",
       "      <th>1</th>\n",
       "      <td>K0</td>\n",
       "      <td>K1</td>\n",
       "      <td>A1</td>\n",
       "      <td>B1</td>\n",
       "      <td>NaN</td>\n",
       "      <td>NaN</td>\n",
       "    </tr>\n",
       "    <tr>\n",
       "      <th>2</th>\n",
       "      <td>K1</td>\n",
       "      <td>K0</td>\n",
       "      <td>A2</td>\n",
       "      <td>B2</td>\n",
       "      <td>C1</td>\n",
       "      <td>D1</td>\n",
       "    </tr>\n",
       "    <tr>\n",
       "      <th>3</th>\n",
       "      <td>K1</td>\n",
       "      <td>K0</td>\n",
       "      <td>A2</td>\n",
       "      <td>B2</td>\n",
       "      <td>C2</td>\n",
       "      <td>D2</td>\n",
       "    </tr>\n",
       "    <tr>\n",
       "      <th>4</th>\n",
       "      <td>K2</td>\n",
       "      <td>K1</td>\n",
       "      <td>A3</td>\n",
       "      <td>B3</td>\n",
       "      <td>NaN</td>\n",
       "      <td>NaN</td>\n",
       "    </tr>\n",
       "    <tr>\n",
       "      <th>5</th>\n",
       "      <td>K2</td>\n",
       "      <td>K0</td>\n",
       "      <td>NaN</td>\n",
       "      <td>NaN</td>\n",
       "      <td>C3</td>\n",
       "      <td>D3</td>\n",
       "    </tr>\n",
       "  </tbody>\n",
       "</table>\n",
       "</div>"
      ],
      "text/plain": [
       "  key1 key2    A    B    C    D\n",
       "0   K0   K0   A0   B0   C0   D0\n",
       "1   K0   K1   A1   B1  NaN  NaN\n",
       "2   K1   K0   A2   B2   C1   D1\n",
       "3   K1   K0   A2   B2   C2   D2\n",
       "4   K2   K1   A3   B3  NaN  NaN\n",
       "5   K2   K0  NaN  NaN   C3   D3"
      ]
     },
     "execution_count": 61,
     "metadata": {},
     "output_type": "execute_result"
    }
   ],
   "source": [
    "pd.merge(left, right, how='outer', on=['key1', 'key2'])"
   ]
  },
  {
   "cell_type": "code",
   "execution_count": 62,
   "metadata": {},
   "outputs": [
    {
     "data": {
      "text/html": [
       "<div>\n",
       "<style scoped>\n",
       "    .dataframe tbody tr th:only-of-type {\n",
       "        vertical-align: middle;\n",
       "    }\n",
       "\n",
       "    .dataframe tbody tr th {\n",
       "        vertical-align: top;\n",
       "    }\n",
       "\n",
       "    .dataframe thead th {\n",
       "        text-align: right;\n",
       "    }\n",
       "</style>\n",
       "<table border=\"1\" class=\"dataframe\">\n",
       "  <thead>\n",
       "    <tr style=\"text-align: right;\">\n",
       "      <th></th>\n",
       "      <th>key1</th>\n",
       "      <th>key2</th>\n",
       "      <th>A</th>\n",
       "      <th>B</th>\n",
       "      <th>C</th>\n",
       "      <th>D</th>\n",
       "    </tr>\n",
       "  </thead>\n",
       "  <tbody>\n",
       "    <tr>\n",
       "      <th>0</th>\n",
       "      <td>K0</td>\n",
       "      <td>K0</td>\n",
       "      <td>A0</td>\n",
       "      <td>B0</td>\n",
       "      <td>C0</td>\n",
       "      <td>D0</td>\n",
       "    </tr>\n",
       "    <tr>\n",
       "      <th>1</th>\n",
       "      <td>K1</td>\n",
       "      <td>K0</td>\n",
       "      <td>A2</td>\n",
       "      <td>B2</td>\n",
       "      <td>C1</td>\n",
       "      <td>D1</td>\n",
       "    </tr>\n",
       "    <tr>\n",
       "      <th>2</th>\n",
       "      <td>K1</td>\n",
       "      <td>K0</td>\n",
       "      <td>A2</td>\n",
       "      <td>B2</td>\n",
       "      <td>C2</td>\n",
       "      <td>D2</td>\n",
       "    </tr>\n",
       "    <tr>\n",
       "      <th>3</th>\n",
       "      <td>K2</td>\n",
       "      <td>K0</td>\n",
       "      <td>NaN</td>\n",
       "      <td>NaN</td>\n",
       "      <td>C3</td>\n",
       "      <td>D3</td>\n",
       "    </tr>\n",
       "  </tbody>\n",
       "</table>\n",
       "</div>"
      ],
      "text/plain": [
       "  key1 key2    A    B   C   D\n",
       "0   K0   K0   A0   B0  C0  D0\n",
       "1   K1   K0   A2   B2  C1  D1\n",
       "2   K1   K0   A2   B2  C2  D2\n",
       "3   K2   K0  NaN  NaN  C3  D3"
      ]
     },
     "execution_count": 62,
     "metadata": {},
     "output_type": "execute_result"
    }
   ],
   "source": [
    "pd.merge(left, right, how='right', on=['key1', 'key2'])"
   ]
  },
  {
   "cell_type": "markdown",
   "metadata": {},
   "source": [
    "## Joining"
   ]
  },
  {
   "cell_type": "code",
   "execution_count": 63,
   "metadata": {},
   "outputs": [],
   "source": [
    "left = pd.DataFrame({'A': ['A0', 'A1', 'A2'],\n",
    "                     'B': ['B0', 'B1', 'B2']},\n",
    "                      index=['K0', 'K1', 'K2']) \n",
    "\n",
    "right = pd.DataFrame({'C': ['C0', 'C2', 'C3'],\n",
    "                    'D': ['D0', 'D2', 'D3']},\n",
    "                      index=['K0', 'K2', 'K3'])"
   ]
  },
  {
   "cell_type": "code",
   "execution_count": 64,
   "metadata": {},
   "outputs": [
    {
     "data": {
      "text/html": [
       "<div>\n",
       "<style scoped>\n",
       "    .dataframe tbody tr th:only-of-type {\n",
       "        vertical-align: middle;\n",
       "    }\n",
       "\n",
       "    .dataframe tbody tr th {\n",
       "        vertical-align: top;\n",
       "    }\n",
       "\n",
       "    .dataframe thead th {\n",
       "        text-align: right;\n",
       "    }\n",
       "</style>\n",
       "<table border=\"1\" class=\"dataframe\">\n",
       "  <thead>\n",
       "    <tr style=\"text-align: right;\">\n",
       "      <th></th>\n",
       "      <th>A</th>\n",
       "      <th>B</th>\n",
       "      <th>C</th>\n",
       "      <th>D</th>\n",
       "    </tr>\n",
       "  </thead>\n",
       "  <tbody>\n",
       "    <tr>\n",
       "      <th>K0</th>\n",
       "      <td>A0</td>\n",
       "      <td>B0</td>\n",
       "      <td>C0</td>\n",
       "      <td>D0</td>\n",
       "    </tr>\n",
       "    <tr>\n",
       "      <th>K1</th>\n",
       "      <td>A1</td>\n",
       "      <td>B1</td>\n",
       "      <td>NaN</td>\n",
       "      <td>NaN</td>\n",
       "    </tr>\n",
       "    <tr>\n",
       "      <th>K2</th>\n",
       "      <td>A2</td>\n",
       "      <td>B2</td>\n",
       "      <td>C2</td>\n",
       "      <td>D2</td>\n",
       "    </tr>\n",
       "  </tbody>\n",
       "</table>\n",
       "</div>"
      ],
      "text/plain": [
       "     A   B    C    D\n",
       "K0  A0  B0   C0   D0\n",
       "K1  A1  B1  NaN  NaN\n",
       "K2  A2  B2   C2   D2"
      ]
     },
     "execution_count": 64,
     "metadata": {},
     "output_type": "execute_result"
    }
   ],
   "source": [
    "left.join(right)"
   ]
  },
  {
   "cell_type": "code",
   "execution_count": 65,
   "metadata": {},
   "outputs": [
    {
     "data": {
      "text/html": [
       "<div>\n",
       "<style scoped>\n",
       "    .dataframe tbody tr th:only-of-type {\n",
       "        vertical-align: middle;\n",
       "    }\n",
       "\n",
       "    .dataframe tbody tr th {\n",
       "        vertical-align: top;\n",
       "    }\n",
       "\n",
       "    .dataframe thead th {\n",
       "        text-align: right;\n",
       "    }\n",
       "</style>\n",
       "<table border=\"1\" class=\"dataframe\">\n",
       "  <thead>\n",
       "    <tr style=\"text-align: right;\">\n",
       "      <th></th>\n",
       "      <th>A</th>\n",
       "      <th>B</th>\n",
       "      <th>C</th>\n",
       "      <th>D</th>\n",
       "    </tr>\n",
       "  </thead>\n",
       "  <tbody>\n",
       "    <tr>\n",
       "      <th>K0</th>\n",
       "      <td>A0</td>\n",
       "      <td>B0</td>\n",
       "      <td>C0</td>\n",
       "      <td>D0</td>\n",
       "    </tr>\n",
       "    <tr>\n",
       "      <th>K1</th>\n",
       "      <td>A1</td>\n",
       "      <td>B1</td>\n",
       "      <td>NaN</td>\n",
       "      <td>NaN</td>\n",
       "    </tr>\n",
       "    <tr>\n",
       "      <th>K2</th>\n",
       "      <td>A2</td>\n",
       "      <td>B2</td>\n",
       "      <td>C2</td>\n",
       "      <td>D2</td>\n",
       "    </tr>\n",
       "    <tr>\n",
       "      <th>K3</th>\n",
       "      <td>NaN</td>\n",
       "      <td>NaN</td>\n",
       "      <td>C3</td>\n",
       "      <td>D3</td>\n",
       "    </tr>\n",
       "  </tbody>\n",
       "</table>\n",
       "</div>"
      ],
      "text/plain": [
       "      A    B    C    D\n",
       "K0   A0   B0   C0   D0\n",
       "K1   A1   B1  NaN  NaN\n",
       "K2   A2   B2   C2   D2\n",
       "K3  NaN  NaN   C3   D3"
      ]
     },
     "execution_count": 65,
     "metadata": {},
     "output_type": "execute_result"
    }
   ],
   "source": [
    "left.join(right, how='outer')"
   ]
  },
  {
   "cell_type": "markdown",
   "metadata": {},
   "source": [
    "# 🏁 Recap Pandas\n",
    "\n",
    "- If you have finished the tasks and have no questions, start with the `Task_1_Pandas` provided in the `Tasks-Folder`.\n",
    "- If you have finished the tasks but would like to discuss the solutions together again, please tell your teacher!\n",
    "\n",
    "<table style=\"width: 100%\">\n",
    "    <tr style=\"background: #ff9900\">\n",
    "        <td style=\"width: 100%\">\n",
    "            <div style=\"text-align:center; width: 100%; text-align:center\"><font style=\"font-size:38px\"><b>Good Job!</b></font></div>\n",
    "            <div style=\"padding-top:0px; width: 100%; text-align:right\"><font size=\"4\"><b>SoSe 2023</b></font></div>\n",
    "        </td>\n",
    "    </tr>\n",
    "</table>\n"
   ]
  }
 ],
 "metadata": {
  "kernelspec": {
   "display_name": "Python 3.8.8 ('base')",
   "language": "python",
   "name": "python3"
  },
  "language_info": {
   "codemirror_mode": {
    "name": "ipython",
    "version": 3
   },
   "file_extension": ".py",
   "mimetype": "text/x-python",
   "name": "python",
   "nbconvert_exporter": "python",
   "pygments_lexer": "ipython3",
   "version": "3.12.0"
  },
  "orig_nbformat": 4,
  "vscode": {
   "interpreter": {
    "hash": "91b5df634ae01e052c095f84ce6ac57f1bf815a7c386b368c11e7051e1049005"
   }
  }
 },
 "nbformat": 4,
 "nbformat_minor": 2
}
